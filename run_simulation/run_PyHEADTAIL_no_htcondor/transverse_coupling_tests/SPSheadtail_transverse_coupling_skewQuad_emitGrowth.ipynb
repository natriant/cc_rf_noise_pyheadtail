{
 "cells": [
  {
   "cell_type": "markdown",
   "metadata": {},
   "source": [
    "### 1) Imports"
   ]
  },
  {
   "cell_type": "code",
   "execution_count": 21,
   "metadata": {},
   "outputs": [],
   "source": [
    "#==========================================================\n",
    "#                       Imports\n",
    "#==========================================================\n",
    "from __future__ import division\n",
    "\n",
    "import os, sys, time\n",
    "import h5py as hp\n",
    "import numpy as np\n",
    "import matplotlib.pyplot as plt\n",
    "import pickle\n",
    "import csv\n",
    "\n",
    "import NAFFlib as pnf\n",
    "\n",
    "# Added by Themis\n",
    "import scipy\n",
    "#sys.path.append('/Applications/anaconda/pkgs/')\n",
    "#sys.path.append('/nfsbigdata1/tmastorigrp/src/')\n",
    "\n",
    "from scipy.constants import m_p, c, e\n",
    "from mpl_toolkits.mplot3d import Axes3D\n",
    "\n",
    "from PyHEADTAIL.particles.slicing import UniformBinSlicer\n",
    "from PyHEADTAIL.particles.generators import generate_Gaussian6DTwiss \n",
    "from PyHEADTAIL.trackers.detuners import Chromaticity, AmplitudeDetuning\n",
    "from PyHEADTAIL.trackers.transverse_tracking import TransverseMap\n",
    "from PyHEADTAIL.trackers.simple_long_tracking import RFSystems, LinearMap\n",
    "from PyHEADTAIL.monitors.monitors import BunchMonitor, SliceMonitor, ParticleMonitor\n",
    "from PyHEADTAIL.feedback.transverse_damper import TransverseDamper\n",
    "from PyHEADTAIL.impedances.wakes import CircularResonator, WakeTable, WakeField\n",
    "\n",
    "import PyHEADTAIL.multipoles.multipoles as multip\n",
    "\n",
    "%matplotlib inline"
   ]
  },
  {
   "cell_type": "code",
   "execution_count": 22,
   "metadata": {},
   "outputs": [],
   "source": [
    "import sys\n",
    "sys.path.append('../../../../utils/')\n",
    "from cmptTheoreticalEmitGrowth import *\n",
    "from bunchLengthConversions import *\n",
    "from coordinatesConversions import *\n",
    "from cmpt_TuneSpreads import *"
   ]
  },
  {
   "cell_type": "code",
   "execution_count": 23,
   "metadata": {},
   "outputs": [],
   "source": [
    "params = {'legend.fontsize': 20,\n",
    "          'figure.figsize': (8, 7),\n",
    "          'axes.labelsize': 25,\n",
    "          'axes.titlesize': 21,\n",
    "          'xtick.labelsize': 23,\n",
    "          'ytick.labelsize': 23,\n",
    "          'image.cmap': 'jet',\n",
    "          'lines.linewidth': 2,\n",
    "          'lines.markersize': 7,\n",
    "          'font.family': 'sans-serif'}\n",
    "\n",
    "\n",
    "plt.rc('text', usetex=False)\n",
    "plt.rc('font', family='serif')\n",
    "plt.rcParams.update(params)"
   ]
  },
  {
   "cell_type": "code",
   "execution_count": 24,
   "metadata": {},
   "outputs": [],
   "source": [
    "plt.close('all')"
   ]
  },
  {
   "cell_type": "markdown",
   "metadata": {},
   "source": [
    "### 2) Variables we change"
   ]
  },
  {
   "cell_type": "code",
   "execution_count": 25,
   "metadata": {},
   "outputs": [],
   "source": [
    "#==========================================================\n",
    "#               Variables We Change\n",
    "#==========================================================\n",
    "n_turns = int(4e4)            #number of cycles to run the simulation for\n",
    "decTurns = int(1)               #how often to record data\n",
    "\n",
    "Q_y = 26.18                #How many times the particles oscillate in phase space each turn \n",
    "Q_x = 26.13                          # Will need it to be 16.25 IF CC feedback is used\n",
    "                            # For this version of PyHEADTAIL Q_x should be an array\n",
    "\n",
    "filename = 'file'      #Where the data for the run is saved\n",
    "\n",
    "ampNoiseOn = 0              #Turns on the amplitude noise - 0 is off, 1 is on\n",
    "phaseNoiseOn = 1           #Turns on the phase noise - 0 is off, 1 is on\n",
    "stdAmpNoise = 1e-8          #Size of amplitude noise (1e-8 for ~22nm/s at 0 ampGain)\n",
    "stdPhaseNoise = 1e-8      #Size of phase noise (1e-8 for ~24nm/s at 0 phaseGain)\n",
    "\n",
    "wakefieldOn = 0        # Turns on the wakefields"
   ]
  },
  {
   "cell_type": "markdown",
   "metadata": {},
   "source": [
    "### 3) Variables we don't change"
   ]
  },
  {
   "cell_type": "code",
   "execution_count": 37,
   "metadata": {},
   "outputs": [
    {
     "name": "stdout",
     "output_type": "stream",
     "text": [
      "sigma_z= 0.12741179465 [m]\n",
      "Createing bunch for intensity:30000000000.0\n",
      "dipole_x Assuming ultrarelativistic wake.\n",
      "dipole_y Assuming ultrarelativistic wake.\n",
      "quadrupole_x Assuming ultrarelativistic wake.\n",
      "quadrupole_y Assuming ultrarelativistic wake.\n"
     ]
    }
   ],
   "source": [
    "#==========================================================\n",
    "#           Variables We (Usually) Do Not Change\n",
    "#==========================================================\n",
    "\n",
    "gamma = 287.8\n",
    "p0 = m_p*c*np.sqrt(gamma**2 - 1)\n",
    "beta = np.sqrt(1 - 1/gamma**2)\n",
    "circumference = 6911.5623\n",
    "frev = 299792458/circumference\n",
    "\n",
    "\n",
    "# PARAMETERS FOR TRANSVERSE MAP\n",
    "# =====================\n",
    "n_segments = 2\n",
    "s = np.arange(0, n_segments+1)*circumference/n_segments\n",
    "# optics at CC2\n",
    "alpha_x = 0 * np.ones(n_segments)  # -0.9120242128\n",
    "beta_x = 30.31164764 * np.ones(n_segments)\n",
    "D_x = 0 * np.ones(n_segments) # -0.4954033073\n",
    "alpha_y = 0 * np.ones(n_segments)  # 1.862209583\n",
    "beta_y = 73.81671646 * np.ones(n_segments)\n",
    "D_y = 0 * np.ones(n_segments)\n",
    "\n",
    "\n",
    "i_wake = 1\n",
    "# beta_x[i_wake] = 54.65 #### (for Q20)\n",
    "# beta_y[i_wake] = 54.51 #### (for Q20)\n",
    "beta_x[i_wake] = 42.0941 #### (for Q26)\n",
    "beta_y[i_wake] = 42.0137 #### (for Q26)\n",
    "\n",
    "\n",
    "\n",
    "Q_x, Q_y = 26.13, 26.18\n",
    "Qp_x, Qp_y = 0, 0 #10\n",
    "\n",
    "# detuning coefficients in (1/m)\n",
    "app_x = 2000.0#5000.0  #2.4705e-15 #4e-11\n",
    "app_xy = 0.0 #5000.0 #-0*2.25e-11\n",
    "app_y = 2000.0 #1000.0  #-7.31-14 #0*3e-11\n",
    "\n",
    "# PARAMETERS FOR LONGITUDINAL MAP\n",
    "# =======================\n",
    "alpha = 1.9e-3\n",
    "Q_s = 0.0051\n",
    "h1, h2 = 4620, 9240\n",
    "V1, V2 = 5.008e6, 0e6\n",
    "dphi1, dphi2 = 0, np.pi\n",
    "p_increment = 0 * e/c * circumference/(beta*c)\n",
    "\n",
    "# CREATE BEAM\n",
    "# ===========\n",
    "macroparticlenumber = int(1e4) # at least 5e5 particles are needed in the presence of the wakefields\n",
    "\n",
    "charge = e\n",
    "mass = m_p\n",
    "\n",
    "R = circumference/(2*np.pi)\n",
    "eta = alpha-1/gamma**2\n",
    "beta_z = np.abs(eta)*R/Q_s\n",
    "\n",
    "\n",
    "epsn_x = 2e-6\n",
    "epsn_y = 2e-6     \n",
    "#epsn_z    = 2.5\n",
    "#sigma_z   = 0.155 #2*0.0755\n",
    "\n",
    "tau = 1.7e-9 # 4 sigma_t [s]\n",
    "sigma_z = c*tau/4 #0.155  # m\n",
    "#sigma_z = %sigmaz #0.155\n",
    "print(f'sigma_z= {sigma_z} [m]')\n",
    "\n",
    "\n",
    "sigma_x = np.sqrt(epsn_x/(beta*gamma) * beta_x[0])\n",
    "sigma_xp = sigma_x/beta_x[0]\n",
    "sigma_y = np.sqrt(epsn_y/(beta*gamma) * beta_y[0])\n",
    "sigma_yp = sigma_y/beta_y[0]\n",
    "sigma_dp = sigma_z/beta_z\n",
    "epsn_z = 4*np.pi * p0/e * sigma_z*sigma_dp\n",
    "\n",
    "# generate bunches for the different intensities\n",
    "\n",
    "intensity = 3.0e10\n",
    "print(f'Createing bunch for intensity:{intensity}')\n",
    "\n",
    "bunch = generate_Gaussian6DTwiss(macroparticlenumber, intensity, charge, mass, circumference, gamma, alpha_x[0], alpha_y[0], beta_x[0], beta_y[0], beta_z, epsn_x, epsn_y, epsn_z)\n",
    "\n",
    "xoffset = 0.0*sigma_x #5e-4\n",
    "yoffset = 0.0*sigma_y #0.5*sigma_y #5e-4\n",
    "    \n",
    "bunch.x += xoffset\n",
    "bunch.y += yoffset\n",
    "    \n",
    "afile = open(f'bunch_intensity{intensity/1e10}1e10', 'wb')\n",
    "pickle.dump(bunch, afile)\n",
    "afile.close()\n",
    "\n",
    "\n",
    "\n",
    "# SLICER FOR WAKEFIELDS\n",
    "# ============\n",
    "n_slices = 500 # 500\n",
    "slicer_for_wakefields = UniformBinSlicer(n_slices, z_cuts=(-3.*sigma_z, 3.*sigma_z))#,circumference=circumference, h_bunch=h1)\n",
    "\n",
    "# WAKEFIELD\n",
    "# ==========\n",
    "n_turns_wake = 1 # for the moment we consider that the wakefield decays after 1 turn\n",
    "wakefile1=('../impedance_studies/SPS_complete_wake_model_2018_Q26.txt')\n",
    "\n",
    "\n",
    "ww1 = WakeTable(wakefile1, ['time', 'dipole_x', 'dipole_y', 'quadrupole_x', 'quadrupole_y'], n_turns_wake=n_turns_wake)\n",
    "\n",
    "# only dipolar kick\n",
    "#my_length = len(ww1.wake_table['quadrupole_x'])\n",
    "#ww1.wake_table['quadrupole_x'] = np.zeros(my_length)\n",
    "#ww1.wake_table['quadrupole_y'] = np.zeros(my_length)\n",
    "\n",
    "\n",
    "\n",
    "wake_field_kicker = WakeField(slicer_for_wakefields, ww1)#, beta_x=beta_x, beta_y=beta_y)\n",
    "\n"
   ]
  },
  {
   "cell_type": "markdown",
   "metadata": {},
   "source": [
    "### Skew quadrupole"
   ]
  },
  {
   "cell_type": "code",
   "execution_count": 38,
   "metadata": {},
   "outputs": [],
   "source": [
    "squadrupole = multip.ThinSkewQuadrupole(5e-3) #(np.pi)\n",
    "#ssextupole = multip.ThinSextupole(np.pi)"
   ]
  },
  {
   "cell_type": "markdown",
   "metadata": {},
   "source": [
    "### 4) Create transverse and longitudinal map"
   ]
  },
  {
   "cell_type": "code",
   "execution_count": 39,
   "metadata": {},
   "outputs": [],
   "source": [
    "scale_factor = 2*bunch.p0  # scale the detuning coefficients in pyheadtail units\n",
    "transverse_map = TransverseMap(s, alpha_x, beta_x, D_x, alpha_y, beta_y, D_y, Q_x, Q_y,\n",
    "    [Chromaticity(Qp_x, Qp_y),\n",
    "    AmplitudeDetuning(app_x*scale_factor, app_y*scale_factor, app_xy*scale_factor)])\n",
    "\n",
    "longitudinal_map = LinearMap([alpha], circumference, Q_s)"
   ]
  },
  {
   "cell_type": "markdown",
   "metadata": {},
   "source": [
    "### 5) Set up the acclerator"
   ]
  },
  {
   "cell_type": "code",
   "execution_count": 40,
   "metadata": {},
   "outputs": [
    {
     "name": "stderr",
     "output_type": "stream",
     "text": [
      "/home/natalia/anaconda3/envs/run_pyheadtail/lib/python3.7/site-packages/ipykernel_launcher.py:10: DeprecationWarning: time.clock has been deprecated in Python 3.3 and will be removed from Python 3.8: use time.perf_counter or time.process_time instead\n",
      "  # Remove the CWD from sys.path while we load stuff.\n"
     ]
    }
   ],
   "source": [
    "if ampNoiseOn == 1:\n",
    "    ampKicks = np.random.normal(0, stdAmpNoise, n_turns)\n",
    "else:\n",
    "    ampKicks = np.zeros(n_turns)\n",
    "if phaseNoiseOn == 1:\n",
    "    phaseKicks = np.random.normal(0, stdPhaseNoise, n_turns)\n",
    "else:\n",
    "    phaseKicks = np.zeros(n_turns)\n",
    "\n",
    "t0 = time.clock()\n",
    "\n",
    "one_turn_map = []\n",
    "for i, segment in enumerate(transverse_map):\n",
    "    one_turn_map.append(segment)\n",
    "    if wakefieldOn:\n",
    "        if i+1 == i_wake:\n",
    "            one_turn_map.append(wake_field_kicker)\n",
    "            #one_turn_map.append(wake_field_wall)\n",
    "one_turn_map.append(longitudinal_map)\n",
    "one_turn_map.append(squadrupole)\n",
    "#one_turn_map.append(ssextupole)\n",
    "\n",
    "\n",
    "\n",
    "n_damped_turns = int(n_turns/decTurns) # The total number of turns at which the data are damped.\n",
    "                       # We want this number as an integer, so it can be used in the next functions. \n"
   ]
  },
  {
   "cell_type": "markdown",
   "metadata": {},
   "source": [
    "### 6) Start tracking"
   ]
  },
  {
   "cell_type": "code",
   "execution_count": 41,
   "metadata": {},
   "outputs": [
    {
     "name": "stdout",
     "output_type": "stream",
     "text": [
      "Tracking for intensity:30000000000.0\n",
      "--> Done.\n",
      "Simulation time in seconds: 110.52712600000001\n"
     ]
    },
    {
     "name": "stderr",
     "output_type": "stream",
     "text": [
      "/home/natalia/anaconda3/envs/run_pyheadtail/lib/python3.7/site-packages/ipykernel_launcher.py:49: DeprecationWarning: time.clock has been deprecated in Python 3.3 and will be removed from Python 3.8: use time.perf_counter or time.process_time instead\n"
     ]
    }
   ],
   "source": [
    "meanX, meanY = np.zeros(n_damped_turns), np.zeros(n_damped_turns)\n",
    "emitX, emitY = np.zeros(n_damped_turns),  np.zeros(n_damped_turns)\n",
    "    \n",
    "# Iterate over the intensities, reload bunch object from file for each intensisty\n",
    "#intensity_list = np.linspace(0, 5e10, 5)\n",
    "print(f'Tracking for intensity:{intensity}')\n",
    "    \n",
    "file2 = open(f'bunch_intensity{intensity/1e10}1e10', 'rb')\n",
    "bunch = pickle.load(file2)\n",
    "file2.close()\n",
    "for i in range(n_turns):\n",
    "\n",
    "    # Crab cavity\n",
    "    Vcc = 1e6\n",
    "    p_cc = Vcc/(gamma*.938e9)  # Vo/Eb\n",
    "      \n",
    "    # Gaussian Amplitude noise\n",
    "    bunch.yp += ampKicks[i]*np.sin(2*np.pi*400e6/(bunch.beta*c)*bunch.z)\n",
    "\n",
    "    # Gaussian Phase noise\n",
    "    bunch.yp += phaseKicks[i]*np.cos(2*np.pi*400e6/(bunch.beta*c)*bunch.z)\n",
    "\n",
    "    #These next two lines actually \"run\" the simulation - the computationally heavy part\n",
    "    for m in one_turn_map:\n",
    "        m.track(bunch)\n",
    "\n",
    "        \n",
    "    if i%decTurns is  0:\n",
    "        j = int(i/decTurns)\n",
    "        meanX[j] = np.mean(bunch.x)\n",
    "        meanY[j] = np.mean(bunch.y)\n",
    "        #meanXsq[j] = np.mean((bunch.x-np.mean(bunch.x))**2)\n",
    "        #meanYsq[j] = np.mean((bunch.y-np.mean(bunch.y))**2)\n",
    "        emitX[j] = bunch.epsn_x()\n",
    "        emitY[j] = bunch.epsn_y()\n",
    "\n",
    "\n",
    "\n",
    "dataExport = [meanX, meanY, emitX, emitY]\n",
    "\n",
    "f = open(filename+f'_intensity{intensity/1e10:.2f}e10_ayy{app_y}_QpyQpx{Qp_x}.txt', 'w')\n",
    "\n",
    "with f:\n",
    "    out = csv.writer(f, delimiter=',')\n",
    "    out.writerows(zip(*dataExport))\n",
    "\n",
    "print('--> Done.')\n",
    "\n",
    "print(\"Simulation time in seconds: \" + str(time.clock() - t0))\n",
    "\n"
   ]
  },
  {
   "cell_type": "code",
   "execution_count": 42,
   "metadata": {},
   "outputs": [],
   "source": [
    "separationTime = 1 / frev * decTurns #There are decTurns revolutions before each recording of data\n",
    "tspan = (np.arange(n_turns / decTurns) + 1.0) * separationTime #total time spanned by the simulation\n",
    "# x - plane \n",
    "[m_x, b_x], cov_x = np.polyfit(tspan, emitX, 1, cov=True)\n",
    "# compute the error of the gradient of the fit slope\n",
    "err_x= np.sqrt(np.diag(cov_x))[0]\n",
    "# y - plane\n",
    "[m_y, b_y], cov_y = np.polyfit(tspan, emitY, 1, cov=True)\n",
    "# compute the error of the gradient of the fit slope\n",
    "err_y= np.sqrt(np.diag(cov_y))[0]"
   ]
  },
  {
   "cell_type": "code",
   "execution_count": 43,
   "metadata": {},
   "outputs": [
    {
     "data": {
      "text/plain": [
       "<matplotlib.legend.Legend at 0x7fbf2cd8d490>"
      ]
     },
     "execution_count": 43,
     "metadata": {},
     "output_type": "execute_result"
    },
    {
     "data": {
      "image/png": "[encoded data removed]",
      "text/plain": [
       "<Figure size 576x504 with 1 Axes>"
      ]
     },
     "metadata": {
      "needs_background": "light"
     },
     "output_type": "display_data"
    }
   ],
   "source": [
    "plt.plot(tspan, emitX)\n",
    "plt.plot(tspan, b_x+tspan*m_x, label=f'dex/dt={m_x*1e9:.3f} nm/s')\n",
    "plt.legend()"
   ]
  },
  {
   "cell_type": "code",
   "execution_count": 44,
   "metadata": {},
   "outputs": [
    {
     "data": {
      "text/plain": [
       "<matplotlib.legend.Legend at 0x7fbf2cd08150>"
      ]
     },
     "execution_count": 44,
     "metadata": {},
     "output_type": "execute_result"
    },
    {
     "data": {
      "image/png": "[encoded data removed]",
      "text/plain": [
       "<Figure size 576x504 with 1 Axes>"
      ]
     },
     "metadata": {
      "needs_background": "light"
     },
     "output_type": "display_data"
    }
   ],
   "source": [
    "plt.plot(tspan, emitY)\n",
    "plt.plot(tspan, b_y+tspan*m_y, label=f'dey/dt={m_y*1e9:.3f} nm/s')\n",
    "plt.legend()"
   ]
  },
  {
   "cell_type": "code",
   "execution_count": 35,
   "metadata": {},
   "outputs": [
    {
     "name": "stdout",
     "output_type": "stream",
     "text": [
      "psd phi: 1.6806723392287607e-10 rad^2/Hz, psd A: 0.0 V^2/Hz\n"
     ]
    }
   ],
   "source": [
    "noise_type ='PN'\n",
    "# Machine parameters\n",
    "betay = 73.81671646 # 73 m at CC2, 76 m at CC1\n",
    "Vcc = 1e6 # V\n",
    "Eb = 270e9 # eV\n",
    "gamma_0 = 287.8 \n",
    "beta_0 = np.sqrt(1 - 1/gamma_0**2)\n",
    "circumference = 6911.5623 # m\n",
    "frev = 299792458/circumference # Hz\n",
    "\n",
    "\n",
    "tau = 1.7e-9 # 4 sigma_t [s]\n",
    "sigma_z = c*tau/4 #0.155  # m\n",
    "\n",
    "f_CC = 400e6 # CC frequency in Hz\n",
    "clight = 299792458 # m/s\n",
    "# Noise kick parameters\n",
    "A_phase = 1e-8 # rms kick in the simulation of the phase noise\n",
    "A_amplitude = 0 # rms kick in the simulation of the amplitude noise\n",
    "scale_factor = Eb/Vcc # scaling factor to rms noise, σ\n",
    "# Compute the PSD in rad^2/Hz and V^2/Hz\n",
    "PSD_phi = (A_phase * scale_factor)**2/frev # rad^2/Hz\n",
    "#PSD_phi = 1.42e-10\n",
    "#PSD_phi = 1.4e-10\n",
    "PSD_A = (A_amplitude * scale_factor)**2/frev # V^2/Hz\n",
    "print(f'psd phi: {PSD_phi} rad^2/Hz, psd A: {PSD_A} V^2/Hz')"
   ]
  },
  {
   "cell_type": "code",
   "execution_count": 36,
   "metadata": {},
   "outputs": [
    {
     "name": "stdout",
     "output_type": "stream",
     "text": [
      "CDeltaPhi = 0.5510474483948465, CDeltaA = 0.22447627580257676\n",
      "expected growth = 25.389045082635636 nm/s\n"
     ]
    }
   ],
   "source": [
    "# Compute the correction factor due to the bunch length\n",
    "sigma_phi = bunch_length_m_to_rad(sigma_z, clight, f_CC)\n",
    "CDeltaphi = cmpt_bunch_length_correction_factor(sigma_phi, 'PN')\n",
    "CDeltaA = cmpt_bunch_length_correction_factor(sigma_phi, 'AN')\n",
    "print('CDeltaPhi = {}, CDeltaA = {}'.format(CDeltaphi, CDeltaA))\n",
    "\n",
    "if noise_type == 'PN':\n",
    "    expected_growth = emit_growth_phase_noise(betay, Vcc, frev, Eb, CDeltaphi, PSD_phi, one_sided_psd=False)*beta_0*gamma_0 # m/s\n",
    "    my_color = 'C0'\n",
    "    fill_bewtween_color = 'lightblue'\n",
    "elif noise_type == 'AN':\n",
    "    expected_growth = emit_growth_amplitude_noise(betay, Vcc, frev, Eb, CDeltaA, PSD_A, one_sided_psd=False)*beta_0*gamma_0 # m/s\n",
    "    my_color = 'C1'\n",
    "    fill_bewtween_color = 'moccasin'\n",
    "else:\n",
    "    my_color = 'C2'\n",
    "    expected_growth_1 = emit_growth_phase_noise(betay, Vcc, frev, Eb, CDeltaphi, PSD_phi, one_sided_psd=False)*beta_0*gamma_0 # m/s\n",
    "    expected_growth_2 = emit_growth_amplitude_noise(betay, Vcc, frev, Eb, CDeltaA, PSD_A, one_sided_psd=False)*beta_0*gamma_0 # m/s\n",
    "    expected_growth = expected_growth_1 + expected_growth_2\n",
    "\n",
    "print('expected growth = {} nm/s'.format(expected_growth*1e9))"
   ]
  },
  {
   "cell_type": "code",
   "execution_count": null,
   "metadata": {},
   "outputs": [],
   "source": []
  },
  {
   "cell_type": "code",
   "execution_count": null,
   "metadata": {},
   "outputs": [],
   "source": []
  }
 ],
 "metadata": {
  "kernelspec": {
   "display_name": "Python 3",
   "language": "python",
   "name": "python3"
  },
  "language_info": {
   "codemirror_mode": {
    "name": "ipython",
    "version": 3
   },
   "file_extension": ".py",
   "mimetype": "text/x-python",
   "name": "python",
   "nbconvert_exporter": "python",
   "pygments_lexer": "ipython3",
   "version": "3.7.6"
  }
 },
 "nbformat": 4,
 "nbformat_minor": 4
}
