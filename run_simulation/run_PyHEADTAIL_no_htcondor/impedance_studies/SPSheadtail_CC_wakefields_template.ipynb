{
 "cells": [
  {
   "cell_type": "markdown",
   "metadata": {},
   "source": [
    "### 1) Imports"
   ]
  },
  {
   "cell_type": "code",
   "execution_count": 7,
   "metadata": {},
   "outputs": [
    {
     "name": "stdout",
     "output_type": "stream",
     "text": [
      "PyHEADTAIL v1.13.5\n",
      "\n",
      "\n",
      "--> Use the longitudinal_tracking module instead.\n",
      "\n"
     ]
    },
    {
     "name": "stderr",
     "output_type": "stream",
     "text": [
      "/home/natalia/anaconda3/envs/run_pyheadtail/lib/python3.7/site-packages/PyHEADTAIL/trackers/simple_long_tracking.py:10: DeprecationWarning: \n",
      "\n",
      "*** DEPRECATED: \"simple_long_tracking\" will be replaced in a future PyHEADTAIL release!\n",
      "  simple_long_tracking()\n"
     ]
    }
   ],
   "source": [
    "#==========================================================\n",
    "#                       Imports\n",
    "#==========================================================\n",
    "from __future__ import division\n",
    "\n",
    "import os, sys, time\n",
    "import h5py as hp\n",
    "import numpy as np\n",
    "import matplotlib.pyplot as plt\n",
    "import pickle\n",
    "import csv\n",
    "\n",
    "sys.path.append('../../../../utils/')\n",
    "from cmptTheoreticalEmitGrowth import *\n",
    "from bunchLengthConversions import *\n",
    "from coordinatesConversions import *\n",
    "from cmpt_TuneSpreads import *\n",
    "\n",
    "import NAFFlib as pnf\n",
    "\n",
    "# Added by Themis\n",
    "import scipy\n",
    "#sys.path.append('/Applications/anaconda/pkgs/')\n",
    "#sys.path.append('/nfsbigdata1/tmastorigrp/src/')\n",
    "\n",
    "from scipy.constants import m_p, c, e\n",
    "from mpl_toolkits.mplot3d import Axes3D\n",
    "\n",
    "from PyHEADTAIL.particles.slicing import UniformBinSlicer\n",
    "from PyHEADTAIL.particles.generators import generate_Gaussian6DTwiss \n",
    "from PyHEADTAIL.trackers.detuners import Chromaticity, AmplitudeDetuning\n",
    "from PyHEADTAIL.trackers.transverse_tracking import TransverseMap\n",
    "from PyHEADTAIL.trackers.simple_long_tracking import RFSystems, LinearMap\n",
    "from PyHEADTAIL.monitors.monitors import BunchMonitor, SliceMonitor, ParticleMonitor\n",
    "from PyHEADTAIL.feedback.transverse_damper import TransverseDamper\n",
    "from PyHEADTAIL.impedances.wakes import CircularResonator, WakeTable, WakeField\n",
    "\n",
    "%matplotlib inline"
   ]
  },
  {
   "cell_type": "code",
   "execution_count": 8,
   "metadata": {},
   "outputs": [],
   "source": [
    "params = {'legend.fontsize': 20,\n",
    "          'figure.figsize': (8, 7),\n",
    "          'axes.labelsize': 25,\n",
    "          'axes.titlesize': 21,\n",
    "          'xtick.labelsize': 23,\n",
    "          'ytick.labelsize': 23,\n",
    "          'image.cmap': 'jet',\n",
    "          'lines.linewidth': 1,\n",
    "          'lines.markersize': 5,\n",
    "          'font.family': 'sans-serif'}\n",
    "\n",
    "\n",
    "plt.rc('text', usetex=False)\n",
    "plt.rc('font', family='serif')\n",
    "plt.rcParams.update(params)"
   ]
  },
  {
   "cell_type": "code",
   "execution_count": 9,
   "metadata": {},
   "outputs": [],
   "source": [
    "plt.close('all')\n",
    "plane_of_study = 'y'"
   ]
  },
  {
   "cell_type": "markdown",
   "metadata": {},
   "source": [
    "### 2) Variables we change"
   ]
  },
  {
   "cell_type": "code",
   "execution_count": 10,
   "metadata": {},
   "outputs": [],
   "source": [
    "#==========================================================\n",
    "#               Variables We Change\n",
    "#==========================================================\n",
    "n_turns = int(1e5)            #number of cycles to run the simulation for\n",
    "decTurns = nt(100)               #how often to record data\n",
    "\n",
    "Q_y = 26.18                #How many times the particles oscillate in phase space each turn \n",
    "Q_x = 26.13                          # Will need it to be 16.25 IF CC feedback is used\n",
    "                            # For this version of PyHEADTAIL Q_x should be an array\n",
    "\n",
    "ampGain = 0               #strength of amplitude feedback (usually between 0 and 0.15)\n",
    "phaseGain = 0             #strength of phase feedback (usually between 0 and 0.15)\n",
    "\n",
    "filename = 'file.txt'      #Where the data for the run is saved\n",
    "\n",
    "numDelay = 1                #Turns of delay between measuring and acting with the feedback system\n",
    "                            #Make sure to adjust Q_x if adjusting numDelay\n",
    "\n",
    "ampNoiseOn = 0              #Turns on the amplitude noise - 0 is off, 1 is on\n",
    "phaseNoiseOn = 0            #Turns on the phase noise - 0 is off, 1 is on\n",
    "stdAmpNoise = 1e-8          #Size of amplitude noise (1e-8 for ~22nm/s at 0 ampGain)\n",
    "stdPhaseNoise = 1e-8      #Size of phase noise (1e-8 for ~24nm/s at 0 phaseGain)\n",
    "\n",
    "damperOn = 0                #Turns on the damper - 0 is off, 1 is on\n",
    "dampingrate_x = 50          #Strength of the damper (note it must be turned on further down in the code) \n",
    "                            #(40 is the \"standard\" value)\n",
    "\n",
    "wakefieldOn = 1         # Turns on the wakefields\n",
    "    \n",
    "measNoiseOn = 0             #Turns on the measurement noise - 0 is off, 1 is on\n",
    "stdMeasNoise = 1000e-9       #standard deviation of measurement noise"
   ]
  },
  {
   "cell_type": "markdown",
   "metadata": {},
   "source": [
    "### 3) Variables we don't change"
   ]
  },
  {
   "cell_type": "code",
   "execution_count": 20,
   "metadata": {},
   "outputs": [
    {
     "name": "stdout",
     "output_type": "stream",
     "text": [
      "Dampers active\n",
      "dipole_x Assuming ultrarelativistic wake.\n",
      "dipole_y Assuming ultrarelativistic wake.\n",
      "quadrupole_x Assuming ultrarelativistic wake.\n",
      "quadrupole_y Assuming ultrarelativistic wake.\n"
     ]
    }
   ],
   "source": [
    "#==========================================================\n",
    "#           Variables We (Usually) Do Not Change\n",
    "#==========================================================\n",
    "\n",
    "gamma = 287.8\n",
    "p0 = m_p*c*np.sqrt(gamma**2 - 1)\n",
    "beta = np.sqrt(1 - 1/gamma**2)\n",
    "circumference = 6911.5623\n",
    "frev = 299792458/circumference\n",
    "\n",
    "\n",
    "# PARAMETERS FOR TRANSVERSE MAP\n",
    "# =====================\n",
    "n_segments = 2\n",
    "s = np.arange(0, n_segments+1)*circumference/n_segments\n",
    "# optics at CC2\n",
    "alpha_x = 0 * np.ones(n_segments)  # -0.9120242128\n",
    "beta_x = 30.31164764 * np.ones(n_segments)\n",
    "D_x = 0 * np.ones(n_segments) # -0.4954033073\n",
    "alpha_y = 0 * np.ones(n_segments)  # 1.862209583\n",
    "beta_y = 73.81671646 * np.ones(n_segments)\n",
    "D_y = 0 * np.ones(n_segments)\n",
    "\n",
    "i_wake         = 1\n",
    "# beta_x[i_wake] = 54.65 #### (for Q20)\n",
    "# beta_y[i_wake] = 54.51 #### (for Q20)\n",
    "beta_x[i_wake] = 42.0941 #### (for Q26)\n",
    "beta_y[i_wake] = 42.0137 #### (for Q26)\n",
    "\n",
    "Q_x, Q_y = 26.13, 26.18\n",
    "Qp_x, Qp_y = 0, 0 #10\n",
    "\n",
    "# detuning coefficients in (1/m)\n",
    "app_x = 0.0  #2.4705e-15 #4e-11\n",
    "app_xy = 0.0 #-0*2.25e-11\n",
    "app_y = 0.0  #-7.31-14 #0*3e-11\n",
    "\n",
    "# PARAMETERS FOR LONGITUDINAL MAP\n",
    "# =======================\n",
    "alpha = 1.9e-3\n",
    "Q_s = 0.0051\n",
    "h1, h2 = 4620, 9240\n",
    "V1, V2 = 5.008e6, 0e6\n",
    "dphi1, dphi2 = 0, np.pi\n",
    "p_increment = 0 * e/c * circumference/(beta*c)\n",
    "\n",
    "# CREATE DAMPER\n",
    "# =============\n",
    "dampingrate_y = 10 #40\n",
    "damper = TransverseDamper(dampingrate_x, dampingrate_y)\n",
    "\n",
    "# CREATE BEAM\n",
    "# ===========\n",
    "macroparticlenumber = int(5e5) # at least 5e5 particles are needed in the presence of the wakefields\n",
    "\n",
    "charge = e\n",
    "mass = m_p\n",
    "intensity = 3.5e10\n",
    "\n",
    "R = circumference/(2*np.pi)\n",
    "eta = alpha-1/gamma**2\n",
    "beta_z = np.abs(eta)*R/Q_s\n",
    "\n",
    "\n",
    "epsn_x = 2e-6\n",
    "epsn_y = 2e-6\n",
    "    \n",
    "epsn_z    = 2.5\n",
    "sigma_z   = 0.155 #2*0.0755\n",
    "\n",
    "sigma_x = np.sqrt(epsn_x/(beta*gamma) * beta_x[0])\n",
    "sigma_xp = sigma_x/beta_x[0]\n",
    "sigma_y = np.sqrt(epsn_y/(beta*gamma) * beta_y[0])\n",
    "sigma_yp = sigma_y/beta_y[0]\n",
    "sigma_dp = sigma_z/beta_z\n",
    "epsn_z = 4*np.pi * p0/e * sigma_z*sigma_dp\n",
    "\n",
    "bunch = generate_Gaussian6DTwiss(\n",
    "    macroparticlenumber, intensity, charge, mass, circumference, gamma,\n",
    "    alpha_x[0], alpha_y[0], beta_x[0], beta_y[0], beta_z, epsn_x, epsn_y, epsn_z)\n",
    "xoffset = 0e-4\n",
    "yoffset = 0e-4\n",
    "bunch.x += xoffset\n",
    "bunch.y += yoffset\n",
    "\n",
    "\n",
    "\n",
    "afile = open('bunch', 'wb')\n",
    "pickle.dump(bunch, afile)\n",
    "afile.close()\n",
    "\n",
    "\n",
    "\n",
    "# SLICER FOR WAKEFIELDS\n",
    "# ============\n",
    "n_slices = 500 # 500\n",
    "slicer_for_wakefields = UniformBinSlicer(n_slices, z_cuts=(-3.*sigma_z, 3.*sigma_z))#,circumference=circumference, h_bunch=h1)\n",
    "\n",
    "# WAKEFIELD\n",
    "# ==========\n",
    "n_turns_wake = 1 # for the moment we consider that the wakefield decays after 1 turn\n",
    "wakefile1 = ('newkickers_Q26_2018_modified.txt')\n",
    "wakefile2 = ('wall_Q26_2018.txt')\n",
    "#wakefile1 =('kickerSPSwake_2020_oldMKP.wake')\n",
    "ww1 = WakeTable(wakefile1, ['time', 'dipole_x', 'dipole_y', 'quadrupole_x', 'quadrupole_y'], n_turns_wake=n_turns_wake)\n",
    "ww2 = WakeTable(wakefile2, ['time', 'dipole_x', 'dipole_y', 'quadrupole_x', 'quadrupole_y'], n_turns_wake=n_turns_wake)\n",
    "\n",
    "\n",
    "wake_field_kicker = WakeField(slicer_for_wakefields, ww1)#, beta_x=beta_x, beta_y=beta_y)\n",
    "wake_field_wall = WakeField(slicer_for_wakefields, ww2)#, beta_x=beta_x, beta_y=beta_y)\n",
    "\n"
   ]
  },
  {
   "cell_type": "markdown",
   "metadata": {},
   "source": [
    "### 4) Create transverse and longitudinal map"
   ]
  },
  {
   "cell_type": "code",
   "execution_count": 15,
   "metadata": {},
   "outputs": [],
   "source": [
    "scale_factor = 2*bunch.p0  # scale the detuning coefficients in pyheadtail units\n",
    "transverse_map = TransverseMap(s, alpha_x, beta_x, D_x, alpha_y, beta_y, D_y, Q_x, Q_y,\n",
    "    [Chromaticity(Qp_x, Qp_y),\n",
    "    AmplitudeDetuning(app_x*scale_factor, app_y*scale_factor, app_xy*scale_factor)])\n",
    "\n",
    "longitudinal_map = LinearMap([alpha], circumference, Q_s)"
   ]
  },
  {
   "cell_type": "markdown",
   "metadata": {},
   "source": [
    "### 5) Set up the acclerator"
   ]
  },
  {
   "cell_type": "code",
   "execution_count": 16,
   "metadata": {},
   "outputs": [
    {
     "name": "stderr",
     "output_type": "stream",
     "text": [
      "/home/natalia/anaconda3/envs/run_pyheadtail/lib/python3.7/site-packages/ipykernel_launcher.py:17: DeprecationWarning: time.clock has been deprecated in Python 3.3 and will be removed from Python 3.8: use time.perf_counter or time.process_time instead\n"
     ]
    }
   ],
   "source": [
    "if ampNoiseOn == 1:\n",
    "    ampKicks = np.random.normal(0, stdAmpNoise, n_turns)\n",
    "else:\n",
    "    ampKicks = np.zeros(n_turns)\n",
    "if phaseNoiseOn == 1:\n",
    "    phaseKicks = np.random.normal(0, stdPhaseNoise, n_turns)\n",
    "else:\n",
    "    phaseKicks = np.zeros(n_turns)\n",
    "if measNoiseOn == 1:\n",
    "    noise = np.random.normal(0, stdMeasNoise, n_turns)# / beta_x[0] #Remove beta_x[0] when measuring in x\n",
    "else:\n",
    "    noise = np.zeros(n_turns)\n",
    "\n",
    "delayAmp = np.zeros(numDelay + 1)\n",
    "delayPhase = np.zeros(numDelay + 1)\n",
    "\n",
    "t0 = time.clock()\n",
    "\n",
    "#reload object from file\n",
    "file2 = open('bunch', 'rb')\n",
    "bunch = pickle.load(file2)\n",
    "file2.close()\n",
    "\n",
    "one_turn_map = []\n",
    "for i, segment in enumerate(transverse_map):\n",
    "    one_turn_map.append(segment)\n",
    "    if wakefieldOn:\n",
    "        if i+1 == i_wake:\n",
    "            one_turn_map.append(wake_field_kicker)\n",
    "            one_turn_map.append(wake_field_wall)\n",
    "            \n",
    "one_turn_map.append(longitudinal_map)\n",
    "\n",
    "n_damped_turns = int(n_turns/decTurns) # The total number of turns at which the data are damped.\n",
    "                       # We want this number as an integer, so it can be used in the next functions. \n"
   ]
  },
  {
   "cell_type": "markdown",
   "metadata": {},
   "source": [
    "### 6) Start tracking"
   ]
  },
  {
   "cell_type": "code",
   "execution_count": 19,
   "metadata": {},
   "outputs": [
    {
     "name": "stdout",
     "output_type": "stream",
     "text": [
      "--> Done.\n",
      "Simulation time in seconds: 28.791463999999998\n"
     ]
    },
    {
     "name": "stderr",
     "output_type": "stream",
     "text": [
      "/home/natalia/anaconda3/envs/run_pyheadtail/lib/python3.7/site-packages/ipykernel_launcher.py:68: DeprecationWarning: time.clock has been deprecated in Python 3.3 and will be removed from Python 3.8: use time.perf_counter or time.process_time instead\n"
     ]
    }
   ],
   "source": [
    "meanX = np.zeros(n_damped_turns)\n",
    "meanY = np.zeros(n_damped_turns)\n",
    "meanXsq = np.zeros(n_damped_turns)\n",
    "meanYsq = np.zeros(n_damped_turns)\n",
    "emitX = np.zeros(n_damped_turns)\n",
    "emitY = np.zeros(n_damped_turns)\n",
    "    \n",
    "\n",
    "for i in range(n_turns):\n",
    "    \n",
    "    # Crab cavity\n",
    "    Vcc = 1e6\n",
    "    p_cc = Vcc/(gamma*.938e9)  # Vo/Eb\n",
    "    #bunch.xp += (i/n_turns)*p_cc*np.sin(2*np.pi*400e6/(bunch.beta*c)*bunch.z)  \n",
    "\n",
    "    # Gaussian Amplitude noise\n",
    "    #bunch.xp += ampKicks[i]*np.sin(2*np.pi*400e6/(bunch.beta*c)*bunch.z)\n",
    "    bunch.yp += ampKicks[i]*np.sin(2*np.pi*400e6/(bunch.beta*c)*bunch.z)\n",
    "\n",
    "    # Gaussian Phase noise\n",
    "    #bunch.xp += phaseKicks[i]*np.cos(2*np.pi*400e6/(bunch.beta*c)*bunch.z)\n",
    "    bunch.yp += phaseKicks[i]*np.cos(2*np.pi*400e6/(bunch.beta*c)*bunch.z)\n",
    "\n",
    "    #These next two lines actually \"run\" the simulation - the computationally heavy part\n",
    "    for m in one_turn_map:\n",
    "        m.track(bunch)\n",
    "        \n",
    "    '''    \n",
    "    negavg = np.mean(bunch.x[bunch.z < 0.0])\n",
    "    posavg = np.mean(bunch.x[bunch.z > 0.0])\n",
    "        \n",
    "    #Amplitude Correction\n",
    "    posCorr = (posavg-negavg)/2\n",
    "    posCorr = posCorr + noise[i]\n",
    "    momCorr = (ampGain)*posCorr/beta_x[0]\n",
    "    delayAmp[0:-1] = delayAmp[1:]\n",
    "    delayAmp[numDelay] = momCorr\n",
    "    #bunch.xp += delayAmp[0]*np.sin(2*np.pi*400e6/(bunch.beta*c)*bunch.z)\n",
    "    \n",
    "    #Phase Correction\n",
    "    posCorr = (posavg+negavg)/2\n",
    "    posCorr = posCorr + noise[i]\n",
    "    momCorr = (phaseGain)*posCorr/beta_x[0]\n",
    "    delayPhase[0:-1] = delayPhase[1:]\n",
    "    delayPhase[numDelay] = momCorr\n",
    "    #bunch.xp += delayPhase[0]*np.cos(2*np.pi*400e6/(bunch.beta*c)*bunch.z)\n",
    "    '''\n",
    "    \n",
    "    if i%decTurns is  0:\n",
    "        j = int(i/decTurns)\n",
    "        meanX[j] = np.mean(bunch.x)\n",
    "        meanY[j] = np.mean(bunch.y)\n",
    "        meanXsq[j] = np.mean((bunch.x-np.mean(bunch.x))**2)\n",
    "        meanYsq[j] = np.mean((bunch.y-np.mean(bunch.y))**2)\n",
    "        emitX[j] = bunch.epsn_x()\n",
    "        emitY[j] = bunch.epsn_y()\n",
    "\n",
    "\n",
    "dataExport = [meanX, meanY, meanXsq, meanYsq, emitX, emitY]\n",
    "\n",
    "f = open(filename, 'w')\n",
    "\n",
    "with f:\n",
    "    out = csv.writer(f, delimiter=',')\n",
    "    out.writerows(zip(*dataExport))\n",
    "\n",
    "print('--> Done.')\n",
    "\n",
    "print(\"Simulation time in seconds: \" + str(time.clock() - t0))\n",
    "\n"
   ]
  },
  {
   "cell_type": "code",
   "execution_count": 21,
   "metadata": {},
   "outputs": [
    {
     "name": "stdout",
     "output_type": "stream",
     "text": [
      "Emmittance growth rate = 0.0 nm/s\n"
     ]
    }
   ],
   "source": [
    "# Load the file with all of the saved data from the run\n",
    "meanX, meanY, meanXsq, meanYsq, emitX, emitY = np.loadtxt(filename, delimiter = \",\", unpack = True)\n",
    "\n",
    "# Calculate the Emittance Growth Rate (EGR) in nm/s\n",
    "separationTime = 1 / frev * decTurns #There are decTurns revolutions before each recording of data\n",
    "tspan          = (np.arange(n_turns / decTurns) + 1.0) * separationTime #total time spanned by the simulation\n",
    "growthTotal = np.polyfit(tspan[2:], emitX[1:-1], 1)[0] #Fits a degree 1 polynomial to the graph of emittance over time and gets the slope\n",
    "print(\"Emmittance growth rate = \" + str(growthTotal*10**9) + \" nm/s\")"
   ]
  },
  {
   "cell_type": "code",
   "execution_count": 22,
   "metadata": {},
   "outputs": [
    {
     "data": {
      "text/plain": [
       "[<matplotlib.lines.Line2D at 0x7fc90bfe00d0>]"
      ]
     },
     "execution_count": 22,
     "metadata": {},
     "output_type": "execute_result"
    },
    {
     "data": {
      "image/png": "[encoded data removed]",
      "text/plain": [
       "<Figure size 576x504 with 1 Axes>"
      ]
     },
     "metadata": {
      "needs_background": "light"
     },
     "output_type": "display_data"
    }
   ],
   "source": [
    "plt.plot(emitY)"
   ]
  },
  {
   "cell_type": "code",
   "execution_count": 23,
   "metadata": {},
   "outputs": [
    {
     "data": {
      "text/plain": [
       "[<matplotlib.lines.Line2D at 0x7fc90d134d90>]"
      ]
     },
     "execution_count": 23,
     "metadata": {},
     "output_type": "execute_result"
    },
    {
     "data": {
      "image/png": "[encoded data removed]",
      "text/plain": [
       "<Figure size 576x504 with 1 Axes>"
      ]
     },
     "metadata": {
      "needs_background": "light"
     },
     "output_type": "display_data"
    }
   ],
   "source": [
    "plt.plot(emitX)"
   ]
  },
  {
   "cell_type": "code",
   "execution_count": null,
   "metadata": {},
   "outputs": [],
   "source": []
  }
 ],
 "metadata": {
  "kernelspec": {
   "display_name": "Python 3",
   "language": "python",
   "name": "python3"
  },
  "language_info": {
   "codemirror_mode": {
    "name": "ipython",
    "version": 3
   },
   "file_extension": ".py",
   "mimetype": "text/x-python",
   "name": "python",
   "nbconvert_exporter": "python",
   "pygments_lexer": "ipython3",
   "version": "3.7.3"
  }
 },
 "nbformat": 4,
 "nbformat_minor": 4
}
