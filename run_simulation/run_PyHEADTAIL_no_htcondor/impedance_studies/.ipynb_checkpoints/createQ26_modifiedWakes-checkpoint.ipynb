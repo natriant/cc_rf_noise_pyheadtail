{
 "cells": [
  {
   "cell_type": "code",
   "execution_count": 1,
   "metadata": {},
   "outputs": [
    {
     "name": "stdout",
     "output_type": "stream",
     "text": [
      "PyHEADTAIL v1.13.5\n",
      "\n",
      "\n",
      "--> Use the longitudinal_tracking module instead.\n",
      "\n"
     ]
    },
    {
     "name": "stderr",
     "output_type": "stream",
     "text": [
      "/home/natalia/anaconda3/envs/run_pyheadtail/lib/python3.7/site-packages/PyHEADTAIL/trackers/simple_long_tracking.py:10: DeprecationWarning: \n",
      "\n",
      "*** DEPRECATED: \"simple_long_tracking\" will be replaced in a future PyHEADTAIL release!\n",
      "  simple_long_tracking()\n"
     ]
    }
   ],
   "source": [
    "#==========================================================\n",
    "#                       Imports\n",
    "#==========================================================\n",
    "from __future__ import division\n",
    "\n",
    "import os, sys, time\n",
    "import h5py as hp\n",
    "import numpy as np\n",
    "import matplotlib.pyplot as plt\n",
    "import pickle\n",
    "import csv\n",
    "\n",
    "# Added by Themis\n",
    "import scipy\n",
    "#sys.path.append('/Applications/anaconda/pkgs/')\n",
    "#sys.path.append('/nfsbigdata1/tmastorigrp/src/')\n",
    "\n",
    "from scipy.constants import m_p, c, e\n",
    "from mpl_toolkits.mplot3d import Axes3D\n",
    "\n",
    "from PyHEADTAIL.particles.slicing import UniformBinSlicer\n",
    "from PyHEADTAIL.particles.generators import generate_Gaussian6DTwiss \n",
    "from PyHEADTAIL.trackers.detuners import Chromaticity, AmplitudeDetuning\n",
    "from PyHEADTAIL.trackers.transverse_tracking import TransverseMap\n",
    "from PyHEADTAIL.trackers.simple_long_tracking import RFSystems, LinearMap\n",
    "from PyHEADTAIL.monitors.monitors import BunchMonitor, SliceMonitor, ParticleMonitor\n",
    "from PyHEADTAIL.feedback.transverse_damper import TransverseDamper\n",
    "from PyHEADTAIL.impedances.wakes import CircularResonator, WakeTable, WakeField\n",
    "\n",
    "%matplotlib inline"
   ]
  },
  {
   "cell_type": "code",
   "execution_count": 6,
   "metadata": {},
   "outputs": [],
   "source": [
    "n_turns_wake = 1 # for the moment we consider that the wakefield decays after 1 turn\n",
    "wakefile1 =('newkickers_Q26_2018.txt')\n",
    "ww1 = WakeTable(wakefile1, ['time', 'dipole_x', 'dipole_y', 'quadrupole_x', 'quadrupole_y'], n_turns_wake=n_turns_wake)"
   ]
  },
  {
   "cell_type": "code",
   "execution_count": 9,
   "metadata": {},
   "outputs": [
    {
     "data": {
      "text/plain": [
       "dict"
      ]
     },
     "execution_count": 9,
     "metadata": {},
     "output_type": "execute_result"
    }
   ],
   "source": [
    "type(ww1.wake_table)"
   ]
  },
  {
   "cell_type": "code",
   "execution_count": 3,
   "metadata": {},
   "outputs": [
    {
     "data": {
      "text/plain": [
       "dict_keys(['time', 'dipole_x', 'dipole_y', 'quadrupole_x', 'quadrupole_y'])"
      ]
     },
     "execution_count": 3,
     "metadata": {},
     "output_type": "execute_result"
    }
   ],
   "source": [
    "ww1.wake_table.keys()"
   ]
  },
  {
   "cell_type": "code",
   "execution_count": 78,
   "metadata": {},
   "outputs": [
    {
     "data": {
      "text/plain": [
       "{'time': array([-3.13502192e-01, -2.97144202e-01, -2.80786211e-01, ...,\n",
       "         1.66777621e+03,  1.66779257e+03,  1.66780892e+03]),\n",
       " 'dipole_x': array([-0.00011785, -0.00032683, -0.00080577, ...,  0.02625307,\n",
       "         0.02625079,  0.02624854]),\n",
       " 'dipole_y': array([-0.00029443, -0.0008198 , -0.00206234, ..., -0.19439616,\n",
       "        -0.19439814, -0.19439998]),\n",
       " 'quadrupole_x': array([ 0.00011786,  0.00032872,  0.00081695, ..., -0.0053748 ,\n",
       "        -0.00537535, -0.00537581]),\n",
       " 'quadrupole_y': array([0.00031223, 0.00087751, 0.00223983, ..., 0.01931533, 0.01931735,\n",
       "        0.01931943])}"
      ]
     },
     "execution_count": 78,
     "metadata": {},
     "output_type": "execute_result"
    }
   ],
   "source": [
    "ww1.wake_table['time']"
   ]
  },
  {
   "cell_type": "markdown",
   "metadata": {},
   "source": [
    "### This version of PyHEADTAIL cannot handle negative values of time. Thus, we remove this values from the file"
   ]
  },
  {
   "cell_type": "code",
   "execution_count": 11,
   "metadata": {},
   "outputs": [],
   "source": [
    "import pandas as pd"
   ]
  },
  {
   "cell_type": "markdown",
   "metadata": {},
   "source": [
    "### A) Convert the dictionary to pandas Data Frame for easier manipulation"
   ]
  },
  {
   "cell_type": "code",
   "execution_count": 53,
   "metadata": {},
   "outputs": [
    {
     "name": "stdout",
     "output_type": "stream",
     "text": [
      "               time  dipole_x  dipole_y  quadrupole_x  quadrupole_y\n",
      "0         -0.313502 -0.000118 -0.000294      0.000118      0.000312\n",
      "1         -0.297144 -0.000327 -0.000820      0.000329      0.000878\n",
      "2         -0.280786 -0.000806 -0.002062      0.000817      0.002240\n",
      "3         -0.264428 -0.001817 -0.004786      0.001854      0.005300\n",
      "4         -0.248070 -0.003750 -0.010308      0.003871      0.011708\n",
      "...             ...       ...       ...           ...           ...\n",
      "101972  1667.743492  0.026258 -0.194392     -0.005374      0.019311\n",
      "101973  1667.759850  0.026255 -0.194394     -0.005374      0.019313\n",
      "101974  1667.776208  0.026253 -0.194396     -0.005375      0.019315\n",
      "101975  1667.792566  0.026251 -0.194398     -0.005375      0.019317\n",
      "101976  1667.808924  0.026249 -0.194400     -0.005376      0.019319\n",
      "\n",
      "[101977 rows x 5 columns]\n",
      "Shape of initial data frame: (101977, 5)\n"
     ]
    }
   ],
   "source": [
    "df = pd.DataFrame.from_dict(ww1.wake_table)\n",
    "print(df)\n",
    "print(f'Shape of initial data frame: {df.shape}')"
   ]
  },
  {
   "cell_type": "markdown",
   "metadata": {},
   "source": [
    "### Number of entries in the data frame with time < 0 "
   ]
  },
  {
   "cell_type": "code",
   "execution_count": 104,
   "metadata": {},
   "outputs": [],
   "source": [
    "df1 = df[df.time < 0.0]"
   ]
  },
  {
   "cell_type": "code",
   "execution_count": 105,
   "metadata": {},
   "outputs": [
    {
     "data": {
      "text/plain": [
       "(20, 5)"
      ]
     },
     "execution_count": 105,
     "metadata": {},
     "output_type": "execute_result"
    }
   ],
   "source": [
    "df1.shape"
   ]
  },
  {
   "cell_type": "code",
   "execution_count": 106,
   "metadata": {},
   "outputs": [
    {
     "data": {
      "text/html": [
       "<div>\n",
       "<style scoped>\n",
       "    .dataframe tbody tr th:only-of-type {\n",
       "        vertical-align: middle;\n",
       "    }\n",
       "\n",
       "    .dataframe tbody tr th {\n",
       "        vertical-align: top;\n",
       "    }\n",
       "\n",
       "    .dataframe thead th {\n",
       "        text-align: right;\n",
       "    }\n",
       "</style>\n",
       "<table border=\"1\" class=\"dataframe\">\n",
       "  <thead>\n",
       "    <tr style=\"text-align: right;\">\n",
       "      <th></th>\n",
       "      <th>time</th>\n",
       "      <th>dipole_x</th>\n",
       "      <th>dipole_y</th>\n",
       "      <th>quadrupole_x</th>\n",
       "      <th>quadrupole_y</th>\n",
       "    </tr>\n",
       "  </thead>\n",
       "  <tbody>\n",
       "    <tr>\n",
       "      <th>0</th>\n",
       "      <td>-0.313502</td>\n",
       "      <td>-0.000118</td>\n",
       "      <td>-0.000294</td>\n",
       "      <td>0.000118</td>\n",
       "      <td>0.000312</td>\n",
       "    </tr>\n",
       "    <tr>\n",
       "      <th>1</th>\n",
       "      <td>-0.297144</td>\n",
       "      <td>-0.000327</td>\n",
       "      <td>-0.000820</td>\n",
       "      <td>0.000329</td>\n",
       "      <td>0.000878</td>\n",
       "    </tr>\n",
       "    <tr>\n",
       "      <th>2</th>\n",
       "      <td>-0.280786</td>\n",
       "      <td>-0.000806</td>\n",
       "      <td>-0.002062</td>\n",
       "      <td>0.000817</td>\n",
       "      <td>0.002240</td>\n",
       "    </tr>\n",
       "    <tr>\n",
       "      <th>3</th>\n",
       "      <td>-0.264428</td>\n",
       "      <td>-0.001817</td>\n",
       "      <td>-0.004786</td>\n",
       "      <td>0.001854</td>\n",
       "      <td>0.005300</td>\n",
       "    </tr>\n",
       "    <tr>\n",
       "      <th>4</th>\n",
       "      <td>-0.248070</td>\n",
       "      <td>-0.003750</td>\n",
       "      <td>-0.010308</td>\n",
       "      <td>0.003871</td>\n",
       "      <td>0.011708</td>\n",
       "    </tr>\n",
       "    <tr>\n",
       "      <th>5</th>\n",
       "      <td>-0.231712</td>\n",
       "      <td>-0.006988</td>\n",
       "      <td>-0.020521</td>\n",
       "      <td>0.007382</td>\n",
       "      <td>0.024189</td>\n",
       "    </tr>\n",
       "    <tr>\n",
       "      <th>6</th>\n",
       "      <td>-0.215354</td>\n",
       "      <td>-0.011501</td>\n",
       "      <td>-0.037554</td>\n",
       "      <td>0.012650</td>\n",
       "      <td>0.046623</td>\n",
       "    </tr>\n",
       "    <tr>\n",
       "      <th>7</th>\n",
       "      <td>-0.198996</td>\n",
       "      <td>-0.015897</td>\n",
       "      <td>-0.062658</td>\n",
       "      <td>0.018884</td>\n",
       "      <td>0.083818</td>\n",
       "    </tr>\n",
       "    <tr>\n",
       "      <th>8</th>\n",
       "      <td>-0.182638</td>\n",
       "      <td>-0.015603</td>\n",
       "      <td>-0.093875</td>\n",
       "      <td>0.022750</td>\n",
       "      <td>0.140532</td>\n",
       "    </tr>\n",
       "    <tr>\n",
       "      <th>9</th>\n",
       "      <td>-0.166280</td>\n",
       "      <td>-0.000128</td>\n",
       "      <td>-0.122161</td>\n",
       "      <td>0.016092</td>\n",
       "      <td>0.219547</td>\n",
       "    </tr>\n",
       "    <tr>\n",
       "      <th>10</th>\n",
       "      <td>-0.149922</td>\n",
       "      <td>0.050193</td>\n",
       "      <td>-0.126981</td>\n",
       "      <td>-0.016825</td>\n",
       "      <td>0.319593</td>\n",
       "    </tr>\n",
       "    <tr>\n",
       "      <th>11</th>\n",
       "      <td>-0.133564</td>\n",
       "      <td>0.166920</td>\n",
       "      <td>-0.072907</td>\n",
       "      <td>-0.101507</td>\n",
       "      <td>0.433867</td>\n",
       "    </tr>\n",
       "    <tr>\n",
       "      <th>12</th>\n",
       "      <td>-0.117206</td>\n",
       "      <td>0.394383</td>\n",
       "      <td>0.090187</td>\n",
       "      <td>-0.273392</td>\n",
       "      <td>0.551187</td>\n",
       "    </tr>\n",
       "    <tr>\n",
       "      <th>13</th>\n",
       "      <td>-0.100848</td>\n",
       "      <td>0.785747</td>\n",
       "      <td>0.421501</td>\n",
       "      <td>-0.574610</td>\n",
       "      <td>0.660462</td>\n",
       "    </tr>\n",
       "    <tr>\n",
       "      <th>14</th>\n",
       "      <td>-0.084490</td>\n",
       "      <td>1.394615</td>\n",
       "      <td>0.975476</td>\n",
       "      <td>-1.046281</td>\n",
       "      <td>0.758619</td>\n",
       "    </tr>\n",
       "    <tr>\n",
       "      <th>15</th>\n",
       "      <td>-0.068132</td>\n",
       "      <td>2.262404</td>\n",
       "      <td>1.785465</td>\n",
       "      <td>-1.718052</td>\n",
       "      <td>0.857515</td>\n",
       "    </tr>\n",
       "    <tr>\n",
       "      <th>16</th>\n",
       "      <td>-0.051774</td>\n",
       "      <td>3.404128</td>\n",
       "      <td>2.849025</td>\n",
       "      <td>-2.596464</td>\n",
       "      <td>0.987050</td>\n",
       "    </tr>\n",
       "    <tr>\n",
       "      <th>17</th>\n",
       "      <td>-0.035416</td>\n",
       "      <td>4.796651</td>\n",
       "      <td>4.121038</td>\n",
       "      <td>-3.657463</td>\n",
       "      <td>1.189395</td>\n",
       "    </tr>\n",
       "    <tr>\n",
       "      <th>18</th>\n",
       "      <td>-0.019058</td>\n",
       "      <td>6.375115</td>\n",
       "      <td>5.519006</td>\n",
       "      <td>-4.845369</td>\n",
       "      <td>1.504064</td>\n",
       "    </tr>\n",
       "    <tr>\n",
       "      <th>19</th>\n",
       "      <td>-0.002700</td>\n",
       "      <td>8.038971</td>\n",
       "      <td>6.940385</td>\n",
       "      <td>-6.080325</td>\n",
       "      <td>1.949176</td>\n",
       "    </tr>\n",
       "  </tbody>\n",
       "</table>\n",
       "</div>"
      ],
      "text/plain": [
       "        time  dipole_x  dipole_y  quadrupole_x  quadrupole_y\n",
       "0  -0.313502 -0.000118 -0.000294      0.000118      0.000312\n",
       "1  -0.297144 -0.000327 -0.000820      0.000329      0.000878\n",
       "2  -0.280786 -0.000806 -0.002062      0.000817      0.002240\n",
       "3  -0.264428 -0.001817 -0.004786      0.001854      0.005300\n",
       "4  -0.248070 -0.003750 -0.010308      0.003871      0.011708\n",
       "5  -0.231712 -0.006988 -0.020521      0.007382      0.024189\n",
       "6  -0.215354 -0.011501 -0.037554      0.012650      0.046623\n",
       "7  -0.198996 -0.015897 -0.062658      0.018884      0.083818\n",
       "8  -0.182638 -0.015603 -0.093875      0.022750      0.140532\n",
       "9  -0.166280 -0.000128 -0.122161      0.016092      0.219547\n",
       "10 -0.149922  0.050193 -0.126981     -0.016825      0.319593\n",
       "11 -0.133564  0.166920 -0.072907     -0.101507      0.433867\n",
       "12 -0.117206  0.394383  0.090187     -0.273392      0.551187\n",
       "13 -0.100848  0.785747  0.421501     -0.574610      0.660462\n",
       "14 -0.084490  1.394615  0.975476     -1.046281      0.758619\n",
       "15 -0.068132  2.262404  1.785465     -1.718052      0.857515\n",
       "16 -0.051774  3.404128  2.849025     -2.596464      0.987050\n",
       "17 -0.035416  4.796651  4.121038     -3.657463      1.189395\n",
       "18 -0.019058  6.375115  5.519006     -4.845369      1.504064\n",
       "19 -0.002700  8.038971  6.940385     -6.080325      1.949176"
      ]
     },
     "execution_count": 106,
     "metadata": {},
     "output_type": "execute_result"
    }
   ],
   "source": [
    "df1  # it actually corresponds to the first 20 entries"
   ]
  }
 ],
 "metadata": {
  "kernelspec": {
   "display_name": "Python 3",
   "language": "python",
   "name": "python3"
  },
  "language_info": {
   "codemirror_mode": {
    "name": "ipython",
    "version": 3
   },
   "file_extension": ".py",
   "mimetype": "text/x-python",
   "name": "python",
   "nbconvert_exporter": "python",
   "pygments_lexer": "ipython3",
   "version": "3.7.6"
  }
 },
 "nbformat": 4,
 "nbformat_minor": 4
}
