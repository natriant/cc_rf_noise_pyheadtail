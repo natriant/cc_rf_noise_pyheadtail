{
 "cells": [
  {
   "cell_type": "markdown",
   "metadata": {},
   "source": [
    "### Objective\n",
    "Plot the emittance evolution in both x and y planes for all the different ayy values, for all the different sets of noise kicks. For each set of noise kick the avergae over the usually three different runs is used. **The objective is to see the impact of the different noise kicks sequence depending on the tune spread value.**\n",
    "\n",
    "The impact is expected to be large for small tune spreads and insignificant for large tune spread values.\n",
    "\n",
    "Note: If the number of ayy is odd, then the last value is not plotted for the figure to be symmetric :P. "
   ]
  },
  {
   "cell_type": "code",
   "execution_count": 3,
   "metadata": {},
   "outputs": [],
   "source": [
    "import os, sys\n",
    "import csv\n",
    "import numpy as np\n",
    "import pandas as pd"
   ]
  },
  {
   "cell_type": "markdown",
   "metadata": {},
   "source": [
    "#### 1) Load the data\n",
    "a) Give the paths to the data folder\n",
    "\n",
    "b) Load the values of the transverse emittances in lists."
   ]
  },
  {
   "cell_type": "code",
   "execution_count": 4,
   "metadata": {},
   "outputs": [],
   "source": [
    "n_sets = 20\n",
    "n_runs = 3 # number of runs that the simulation was repeated\n",
    "n_turns = int(1e5)            # number of cycles to run the simulation for\n",
    "decTurns = int(100)           # how often to record data\n",
    "circumference  = 6911.5623 # [m]\n",
    "f_rev  = 299792458/circumference  # [Hz] The revolution frequency of the machine \n",
    "separationTime = 1 / f_rev * decTurns #There are decTurns revolutions before each recording of data\n",
    "tspan = (np.arange(n_turns / decTurns) + 1.0) * separationTime #total time spanned by the simulation"
   ]
  },
  {
   "cell_type": "code",
   "execution_count": 5,
   "metadata": {},
   "outputs": [
    {
     "name": "stdout",
     "output_type": "stream",
     "text": [
      "[-20000.0, -18000.0, -16000.0, -14000.0, -12000.0, -10000.0, -8000.0, -6000.0, -4000.0, -2000.0, 0.0, 2000.0, 4000.0, 6000.0, 8000.0, 10000.0, 12000.0, 14000.0, 16000.0, 18000.0, 20000.0]\n",
      "21\n"
     ]
    }
   ],
   "source": [
    "my_start = -2e4  \n",
    "my_stop = 2.01e4 \n",
    "my_step = 2000.0\n",
    "\n",
    "my_variables = list(np.arange(my_start, my_stop, my_step))\n",
    "#my_variables.insert(0,0.0)\n",
    "print(my_variables)\n",
    "print(len(my_variables))"
   ]
  },
  {
   "cell_type": "code",
   "execution_count": 6,
   "metadata": {},
   "outputs": [],
   "source": [
    "path_to_data = '/afs/cern.ch/work/n/natriant/private/pyheadtail_example_crabcavity/'\n",
    "#study_name = 'sps_270GeV_CC_PN1e-8_1e5turns_5e5Nb_Nowakefields_QpxQpy5e-1_ayy'\n",
    "study_name = 'sps_270GeV_CC_PN1e-8_1e5turns_5e5Nb_wakefieldsON_complete_500slices_QpxQpy1_ayy'\n",
    "noise_type = 'PN'"
   ]
  },
  {
   "cell_type": "markdown",
   "metadata": {},
   "source": [
    "### Load the data, and for each Set average over the three runs"
   ]
  },
  {
   "cell_type": "code",
   "execution_count": 7,
   "metadata": {},
   "outputs": [
    {
     "name": "stdout",
     "output_type": "stream",
     "text": [
      "-20000.0\n",
      "OS error: /afs/cern.ch/work/n/natriant/private/pyheadtail_example_crabcavity/sps_270GeV_CC_PN1e-8_1e5turns_5e5Nb_wakefieldsON_complete_500slices_QpxQpy1_ayy-20000.0_fixedKicksSet0_run0/file.txt not found.\n",
      "OS error: /afs/cern.ch/work/n/natriant/private/pyheadtail_example_crabcavity/sps_270GeV_CC_PN1e-8_1e5turns_5e5Nb_wakefieldsON_complete_500slices_QpxQpy1_ayy-20000.0_fixedKicksSet0_run1/file.txt not found.\n",
      "OS error: /afs/cern.ch/work/n/natriant/private/pyheadtail_example_crabcavity/sps_270GeV_CC_PN1e-8_1e5turns_5e5Nb_wakefieldsON_complete_500slices_QpxQpy1_ayy-20000.0_fixedKicksSet0_run2/file.txt not found.\n",
      "OS error: /afs/cern.ch/work/n/natriant/private/pyheadtail_example_crabcavity/sps_270GeV_CC_PN1e-8_1e5turns_5e5Nb_wakefieldsON_complete_500slices_QpxQpy1_ayy-20000.0_fixedKicksSet1_run0/file.txt not found.\n",
      "OS error: /afs/cern.ch/work/n/natriant/private/pyheadtail_example_crabcavity/sps_270GeV_CC_PN1e-8_1e5turns_5e5Nb_wakefieldsON_complete_500slices_QpxQpy1_ayy-20000.0_fixedKicksSet1_run1/file.txt not found.\n"
     ]
    },
    {
     "name": "stderr",
     "output_type": "stream",
     "text": [
      "/home/natalia/anaconda3/envs/run_pyheadtail/lib/python3.7/site-packages/numpy/core/fromnumeric.py:3335: RuntimeWarning: Mean of empty slice.\n",
      "  out=out, **kwargs)\n",
      "/home/natalia/anaconda3/envs/run_pyheadtail/lib/python3.7/site-packages/numpy/core/_methods.py:161: RuntimeWarning: invalid value encountered in double_scalars\n",
      "  ret = ret.dtype.type(ret / rcount)\n",
      "/home/natalia/anaconda3/envs/run_pyheadtail/lib/python3.7/site-packages/numpy/core/_methods.py:217: RuntimeWarning: Degrees of freedom <= 0 for slice\n",
      "  keepdims=keepdims)\n",
      "/home/natalia/anaconda3/envs/run_pyheadtail/lib/python3.7/site-packages/numpy/core/_methods.py:186: RuntimeWarning: invalid value encountered in true_divide\n",
      "  arrmean, rcount, out=arrmean, casting='unsafe', subok=False)\n",
      "/home/natalia/anaconda3/envs/run_pyheadtail/lib/python3.7/site-packages/numpy/core/_methods.py:209: RuntimeWarning: invalid value encountered in double_scalars\n",
      "  ret = ret.dtype.type(ret / rcount)\n"
     ]
    },
    {
     "name": "stdout",
     "output_type": "stream",
     "text": [
      "OS error: /afs/cern.ch/work/n/natriant/private/pyheadtail_example_crabcavity/sps_270GeV_CC_PN1e-8_1e5turns_5e5Nb_wakefieldsON_complete_500slices_QpxQpy1_ayy-20000.0_fixedKicksSet1_run2/file.txt not found.\n",
      "OS error: /afs/cern.ch/work/n/natriant/private/pyheadtail_example_crabcavity/sps_270GeV_CC_PN1e-8_1e5turns_5e5Nb_wakefieldsON_complete_500slices_QpxQpy1_ayy-20000.0_fixedKicksSet2_run0/file.txt not found.\n",
      "OS error: /afs/cern.ch/work/n/natriant/private/pyheadtail_example_crabcavity/sps_270GeV_CC_PN1e-8_1e5turns_5e5Nb_wakefieldsON_complete_500slices_QpxQpy1_ayy-20000.0_fixedKicksSet2_run1/file.txt not found.\n",
      "OS error: /afs/cern.ch/work/n/natriant/private/pyheadtail_example_crabcavity/sps_270GeV_CC_PN1e-8_1e5turns_5e5Nb_wakefieldsON_complete_500slices_QpxQpy1_ayy-20000.0_fixedKicksSet2_run2/file.txt not found.\n",
      "OS error: /afs/cern.ch/work/n/natriant/private/pyheadtail_example_crabcavity/sps_270GeV_CC_PN1e-8_1e5turns_5e5Nb_wakefieldsON_complete_500slices_QpxQpy1_ayy-20000.0_fixedKicksSet3_run0/file.txt not found.\n",
      "OS error: /afs/cern.ch/work/n/natriant/private/pyheadtail_example_crabcavity/sps_270GeV_CC_PN1e-8_1e5turns_5e5Nb_wakefieldsON_complete_500slices_QpxQpy1_ayy-20000.0_fixedKicksSet3_run1/file.txt not found.\n",
      "OS error: /afs/cern.ch/work/n/natriant/private/pyheadtail_example_crabcavity/sps_270GeV_CC_PN1e-8_1e5turns_5e5Nb_wakefieldsON_complete_500slices_QpxQpy1_ayy-20000.0_fixedKicksSet3_run2/file.txt not found.\n",
      "OS error: /afs/cern.ch/work/n/natriant/private/pyheadtail_example_crabcavity/sps_270GeV_CC_PN1e-8_1e5turns_5e5Nb_wakefieldsON_complete_500slices_QpxQpy1_ayy-20000.0_fixedKicksSet4_run0/file.txt not found.\n",
      "OS error: /afs/cern.ch/work/n/natriant/private/pyheadtail_example_crabcavity/sps_270GeV_CC_PN1e-8_1e5turns_5e5Nb_wakefieldsON_complete_500slices_QpxQpy1_ayy-20000.0_fixedKicksSet4_run1/file.txt not found.\n",
      "OS error: /afs/cern.ch/work/n/natriant/private/pyheadtail_example_crabcavity/sps_270GeV_CC_PN1e-8_1e5turns_5e5Nb_wakefieldsON_complete_500slices_QpxQpy1_ayy-20000.0_fixedKicksSet4_run2/file.txt not found.\n",
      "OS error: /afs/cern.ch/work/n/natriant/private/pyheadtail_example_crabcavity/sps_270GeV_CC_PN1e-8_1e5turns_5e5Nb_wakefieldsON_complete_500slices_QpxQpy1_ayy-20000.0_fixedKicksSet5_run0/file.txt not found.\n",
      "OS error: /afs/cern.ch/work/n/natriant/private/pyheadtail_example_crabcavity/sps_270GeV_CC_PN1e-8_1e5turns_5e5Nb_wakefieldsON_complete_500slices_QpxQpy1_ayy-20000.0_fixedKicksSet5_run1/file.txt not found.\n",
      "OS error: /afs/cern.ch/work/n/natriant/private/pyheadtail_example_crabcavity/sps_270GeV_CC_PN1e-8_1e5turns_5e5Nb_wakefieldsON_complete_500slices_QpxQpy1_ayy-20000.0_fixedKicksSet5_run2/file.txt not found.\n",
      "OS error: /afs/cern.ch/work/n/natriant/private/pyheadtail_example_crabcavity/sps_270GeV_CC_PN1e-8_1e5turns_5e5Nb_wakefieldsON_complete_500slices_QpxQpy1_ayy-20000.0_fixedKicksSet6_run0/file.txt not found.\n",
      "OS error: /afs/cern.ch/work/n/natriant/private/pyheadtail_example_crabcavity/sps_270GeV_CC_PN1e-8_1e5turns_5e5Nb_wakefieldsON_complete_500slices_QpxQpy1_ayy-20000.0_fixedKicksSet6_run1/file.txt not found.\n",
      "OS error: /afs/cern.ch/work/n/natriant/private/pyheadtail_example_crabcavity/sps_270GeV_CC_PN1e-8_1e5turns_5e5Nb_wakefieldsON_complete_500slices_QpxQpy1_ayy-20000.0_fixedKicksSet6_run2/file.txt not found.\n",
      "OS error: /afs/cern.ch/work/n/natriant/private/pyheadtail_example_crabcavity/sps_270GeV_CC_PN1e-8_1e5turns_5e5Nb_wakefieldsON_complete_500slices_QpxQpy1_ayy-20000.0_fixedKicksSet7_run0/file.txt not found.\n",
      "OS error: /afs/cern.ch/work/n/natriant/private/pyheadtail_example_crabcavity/sps_270GeV_CC_PN1e-8_1e5turns_5e5Nb_wakefieldsON_complete_500slices_QpxQpy1_ayy-20000.0_fixedKicksSet7_run1/file.txt not found.\n",
      "OS error: /afs/cern.ch/work/n/natriant/private/pyheadtail_example_crabcavity/sps_270GeV_CC_PN1e-8_1e5turns_5e5Nb_wakefieldsON_complete_500slices_QpxQpy1_ayy-20000.0_fixedKicksSet7_run2/file.txt not found.\n",
      "OS error: /afs/cern.ch/work/n/natriant/private/pyheadtail_example_crabcavity/sps_270GeV_CC_PN1e-8_1e5turns_5e5Nb_wakefieldsON_complete_500slices_QpxQpy1_ayy-20000.0_fixedKicksSet8_run0/file.txt not found.\n",
      "OS error: /afs/cern.ch/work/n/natriant/private/pyheadtail_example_crabcavity/sps_270GeV_CC_PN1e-8_1e5turns_5e5Nb_wakefieldsON_complete_500slices_QpxQpy1_ayy-20000.0_fixedKicksSet8_run1/file.txt not found.\n",
      "OS error: /afs/cern.ch/work/n/natriant/private/pyheadtail_example_crabcavity/sps_270GeV_CC_PN1e-8_1e5turns_5e5Nb_wakefieldsON_complete_500slices_QpxQpy1_ayy-20000.0_fixedKicksSet8_run2/file.txt not found.\n",
      "OS error: /afs/cern.ch/work/n/natriant/private/pyheadtail_example_crabcavity/sps_270GeV_CC_PN1e-8_1e5turns_5e5Nb_wakefieldsON_complete_500slices_QpxQpy1_ayy-20000.0_fixedKicksSet9_run0/file.txt not found.\n",
      "OS error: /afs/cern.ch/work/n/natriant/private/pyheadtail_example_crabcavity/sps_270GeV_CC_PN1e-8_1e5turns_5e5Nb_wakefieldsON_complete_500slices_QpxQpy1_ayy-20000.0_fixedKicksSet9_run1/file.txt not found.\n",
      "OS error: /afs/cern.ch/work/n/natriant/private/pyheadtail_example_crabcavity/sps_270GeV_CC_PN1e-8_1e5turns_5e5Nb_wakefieldsON_complete_500slices_QpxQpy1_ayy-20000.0_fixedKicksSet9_run2/file.txt not found.\n",
      "OS error: /afs/cern.ch/work/n/natriant/private/pyheadtail_example_crabcavity/sps_270GeV_CC_PN1e-8_1e5turns_5e5Nb_wakefieldsON_complete_500slices_QpxQpy1_ayy-20000.0_fixedKicksSet10_run0/file.txt not found.\n",
      "OS error: /afs/cern.ch/work/n/natriant/private/pyheadtail_example_crabcavity/sps_270GeV_CC_PN1e-8_1e5turns_5e5Nb_wakefieldsON_complete_500slices_QpxQpy1_ayy-20000.0_fixedKicksSet10_run1/file.txt not found.\n",
      "OS error: /afs/cern.ch/work/n/natriant/private/pyheadtail_example_crabcavity/sps_270GeV_CC_PN1e-8_1e5turns_5e5Nb_wakefieldsON_complete_500slices_QpxQpy1_ayy-20000.0_fixedKicksSet10_run2/file.txt not found.\n",
      "OS error: /afs/cern.ch/work/n/natriant/private/pyheadtail_example_crabcavity/sps_270GeV_CC_PN1e-8_1e5turns_5e5Nb_wakefieldsON_complete_500slices_QpxQpy1_ayy-20000.0_fixedKicksSet11_run0/file.txt not found.\n",
      "OS error: /afs/cern.ch/work/n/natriant/private/pyheadtail_example_crabcavity/sps_270GeV_CC_PN1e-8_1e5turns_5e5Nb_wakefieldsON_complete_500slices_QpxQpy1_ayy-20000.0_fixedKicksSet11_run1/file.txt not found.\n",
      "OS error: /afs/cern.ch/work/n/natriant/private/pyheadtail_example_crabcavity/sps_270GeV_CC_PN1e-8_1e5turns_5e5Nb_wakefieldsON_complete_500slices_QpxQpy1_ayy-20000.0_fixedKicksSet11_run2/file.txt not found.\n",
      "OS error: /afs/cern.ch/work/n/natriant/private/pyheadtail_example_crabcavity/sps_270GeV_CC_PN1e-8_1e5turns_5e5Nb_wakefieldsON_complete_500slices_QpxQpy1_ayy-20000.0_fixedKicksSet12_run0/file.txt not found.\n",
      "OS error: /afs/cern.ch/work/n/natriant/private/pyheadtail_example_crabcavity/sps_270GeV_CC_PN1e-8_1e5turns_5e5Nb_wakefieldsON_complete_500slices_QpxQpy1_ayy-20000.0_fixedKicksSet12_run1/file.txt not found.\n",
      "OS error: /afs/cern.ch/work/n/natriant/private/pyheadtail_example_crabcavity/sps_270GeV_CC_PN1e-8_1e5turns_5e5Nb_wakefieldsON_complete_500slices_QpxQpy1_ayy-20000.0_fixedKicksSet12_run2/file.txt not found.\n",
      "OS error: /afs/cern.ch/work/n/natriant/private/pyheadtail_example_crabcavity/sps_270GeV_CC_PN1e-8_1e5turns_5e5Nb_wakefieldsON_complete_500slices_QpxQpy1_ayy-20000.0_fixedKicksSet13_run0/file.txt not found.\n",
      "OS error: /afs/cern.ch/work/n/natriant/private/pyheadtail_example_crabcavity/sps_270GeV_CC_PN1e-8_1e5turns_5e5Nb_wakefieldsON_complete_500slices_QpxQpy1_ayy-20000.0_fixedKicksSet13_run1/file.txt not found.\n",
      "OS error: /afs/cern.ch/work/n/natriant/private/pyheadtail_example_crabcavity/sps_270GeV_CC_PN1e-8_1e5turns_5e5Nb_wakefieldsON_complete_500slices_QpxQpy1_ayy-20000.0_fixedKicksSet13_run2/file.txt not found.\n",
      "OS error: /afs/cern.ch/work/n/natriant/private/pyheadtail_example_crabcavity/sps_270GeV_CC_PN1e-8_1e5turns_5e5Nb_wakefieldsON_complete_500slices_QpxQpy1_ayy-20000.0_fixedKicksSet14_run0/file.txt not found.\n",
      "OS error: /afs/cern.ch/work/n/natriant/private/pyheadtail_example_crabcavity/sps_270GeV_CC_PN1e-8_1e5turns_5e5Nb_wakefieldsON_complete_500slices_QpxQpy1_ayy-20000.0_fixedKicksSet14_run1/file.txt not found.\n",
      "OS error: /afs/cern.ch/work/n/natriant/private/pyheadtail_example_crabcavity/sps_270GeV_CC_PN1e-8_1e5turns_5e5Nb_wakefieldsON_complete_500slices_QpxQpy1_ayy-20000.0_fixedKicksSet14_run2/file.txt not found.\n"
     ]
    },
    {
     "name": "stdout",
     "output_type": "stream",
     "text": [
      "OS error: /afs/cern.ch/work/n/natriant/private/pyheadtail_example_crabcavity/sps_270GeV_CC_PN1e-8_1e5turns_5e5Nb_wakefieldsON_complete_500slices_QpxQpy1_ayy-20000.0_fixedKicksSet15_run0/file.txt not found.\n",
      "OS error: /afs/cern.ch/work/n/natriant/private/pyheadtail_example_crabcavity/sps_270GeV_CC_PN1e-8_1e5turns_5e5Nb_wakefieldsON_complete_500slices_QpxQpy1_ayy-20000.0_fixedKicksSet15_run1/file.txt not found.\n",
      "OS error: /afs/cern.ch/work/n/natriant/private/pyheadtail_example_crabcavity/sps_270GeV_CC_PN1e-8_1e5turns_5e5Nb_wakefieldsON_complete_500slices_QpxQpy1_ayy-20000.0_fixedKicksSet15_run2/file.txt not found.\n",
      "OS error: /afs/cern.ch/work/n/natriant/private/pyheadtail_example_crabcavity/sps_270GeV_CC_PN1e-8_1e5turns_5e5Nb_wakefieldsON_complete_500slices_QpxQpy1_ayy-20000.0_fixedKicksSet16_run0/file.txt not found.\n",
      "OS error: /afs/cern.ch/work/n/natriant/private/pyheadtail_example_crabcavity/sps_270GeV_CC_PN1e-8_1e5turns_5e5Nb_wakefieldsON_complete_500slices_QpxQpy1_ayy-20000.0_fixedKicksSet16_run1/file.txt not found.\n",
      "OS error: /afs/cern.ch/work/n/natriant/private/pyheadtail_example_crabcavity/sps_270GeV_CC_PN1e-8_1e5turns_5e5Nb_wakefieldsON_complete_500slices_QpxQpy1_ayy-20000.0_fixedKicksSet16_run2/file.txt not found.\n",
      "OS error: /afs/cern.ch/work/n/natriant/private/pyheadtail_example_crabcavity/sps_270GeV_CC_PN1e-8_1e5turns_5e5Nb_wakefieldsON_complete_500slices_QpxQpy1_ayy-20000.0_fixedKicksSet17_run0/file.txt not found.\n",
      "OS error: /afs/cern.ch/work/n/natriant/private/pyheadtail_example_crabcavity/sps_270GeV_CC_PN1e-8_1e5turns_5e5Nb_wakefieldsON_complete_500slices_QpxQpy1_ayy-20000.0_fixedKicksSet17_run1/file.txt not found.\n",
      "OS error: /afs/cern.ch/work/n/natriant/private/pyheadtail_example_crabcavity/sps_270GeV_CC_PN1e-8_1e5turns_5e5Nb_wakefieldsON_complete_500slices_QpxQpy1_ayy-20000.0_fixedKicksSet17_run2/file.txt not found.\n",
      "OS error: /afs/cern.ch/work/n/natriant/private/pyheadtail_example_crabcavity/sps_270GeV_CC_PN1e-8_1e5turns_5e5Nb_wakefieldsON_complete_500slices_QpxQpy1_ayy-20000.0_fixedKicksSet18_run0/file.txt not found.\n",
      "OS error: /afs/cern.ch/work/n/natriant/private/pyheadtail_example_crabcavity/sps_270GeV_CC_PN1e-8_1e5turns_5e5Nb_wakefieldsON_complete_500slices_QpxQpy1_ayy-20000.0_fixedKicksSet18_run1/file.txt not found.\n",
      "OS error: /afs/cern.ch/work/n/natriant/private/pyheadtail_example_crabcavity/sps_270GeV_CC_PN1e-8_1e5turns_5e5Nb_wakefieldsON_complete_500slices_QpxQpy1_ayy-20000.0_fixedKicksSet18_run2/file.txt not found.\n",
      "OS error: /afs/cern.ch/work/n/natriant/private/pyheadtail_example_crabcavity/sps_270GeV_CC_PN1e-8_1e5turns_5e5Nb_wakefieldsON_complete_500slices_QpxQpy1_ayy-20000.0_fixedKicksSet19_run0/file.txt not found.\n",
      "OS error: /afs/cern.ch/work/n/natriant/private/pyheadtail_example_crabcavity/sps_270GeV_CC_PN1e-8_1e5turns_5e5Nb_wakefieldsON_complete_500slices_QpxQpy1_ayy-20000.0_fixedKicksSet19_run1/file.txt not found.\n",
      "OS error: /afs/cern.ch/work/n/natriant/private/pyheadtail_example_crabcavity/sps_270GeV_CC_PN1e-8_1e5turns_5e5Nb_wakefieldsON_complete_500slices_QpxQpy1_ayy-20000.0_fixedKicksSet19_run2/file.txt not found.\n",
      "-18000.0\n",
      "OS error: /afs/cern.ch/work/n/natriant/private/pyheadtail_example_crabcavity/sps_270GeV_CC_PN1e-8_1e5turns_5e5Nb_wakefieldsON_complete_500slices_QpxQpy1_ayy-18000.0_fixedKicksSet0_run0/file.txt not found.\n",
      "OS error: /afs/cern.ch/work/n/natriant/private/pyheadtail_example_crabcavity/sps_270GeV_CC_PN1e-8_1e5turns_5e5Nb_wakefieldsON_complete_500slices_QpxQpy1_ayy-18000.0_fixedKicksSet0_run1/file.txt not found.\n",
      "OS error: /afs/cern.ch/work/n/natriant/private/pyheadtail_example_crabcavity/sps_270GeV_CC_PN1e-8_1e5turns_5e5Nb_wakefieldsON_complete_500slices_QpxQpy1_ayy-18000.0_fixedKicksSet0_run2/file.txt not found.\n",
      "OS error: /afs/cern.ch/work/n/natriant/private/pyheadtail_example_crabcavity/sps_270GeV_CC_PN1e-8_1e5turns_5e5Nb_wakefieldsON_complete_500slices_QpxQpy1_ayy-18000.0_fixedKicksSet1_run0/file.txt not found.\n",
      "OS error: /afs/cern.ch/work/n/natriant/private/pyheadtail_example_crabcavity/sps_270GeV_CC_PN1e-8_1e5turns_5e5Nb_wakefieldsON_complete_500slices_QpxQpy1_ayy-18000.0_fixedKicksSet1_run1/file.txt not found.\n",
      "OS error: /afs/cern.ch/work/n/natriant/private/pyheadtail_example_crabcavity/sps_270GeV_CC_PN1e-8_1e5turns_5e5Nb_wakefieldsON_complete_500slices_QpxQpy1_ayy-18000.0_fixedKicksSet1_run2/file.txt not found.\n",
      "OS error: /afs/cern.ch/work/n/natriant/private/pyheadtail_example_crabcavity/sps_270GeV_CC_PN1e-8_1e5turns_5e5Nb_wakefieldsON_complete_500slices_QpxQpy1_ayy-18000.0_fixedKicksSet2_run0/file.txt not found.\n",
      "OS error: /afs/cern.ch/work/n/natriant/private/pyheadtail_example_crabcavity/sps_270GeV_CC_PN1e-8_1e5turns_5e5Nb_wakefieldsON_complete_500slices_QpxQpy1_ayy-18000.0_fixedKicksSet2_run1/file.txt not found.\n",
      "OS error: /afs/cern.ch/work/n/natriant/private/pyheadtail_example_crabcavity/sps_270GeV_CC_PN1e-8_1e5turns_5e5Nb_wakefieldsON_complete_500slices_QpxQpy1_ayy-18000.0_fixedKicksSet2_run2/file.txt not found.\n",
      "OS error: /afs/cern.ch/work/n/natriant/private/pyheadtail_example_crabcavity/sps_270GeV_CC_PN1e-8_1e5turns_5e5Nb_wakefieldsON_complete_500slices_QpxQpy1_ayy-18000.0_fixedKicksSet3_run0/file.txt not found.\n",
      "OS error: /afs/cern.ch/work/n/natriant/private/pyheadtail_example_crabcavity/sps_270GeV_CC_PN1e-8_1e5turns_5e5Nb_wakefieldsON_complete_500slices_QpxQpy1_ayy-18000.0_fixedKicksSet3_run1/file.txt not found.\n",
      "OS error: /afs/cern.ch/work/n/natriant/private/pyheadtail_example_crabcavity/sps_270GeV_CC_PN1e-8_1e5turns_5e5Nb_wakefieldsON_complete_500slices_QpxQpy1_ayy-18000.0_fixedKicksSet3_run2/file.txt not found.\n",
      "OS error: /afs/cern.ch/work/n/natriant/private/pyheadtail_example_crabcavity/sps_270GeV_CC_PN1e-8_1e5turns_5e5Nb_wakefieldsON_complete_500slices_QpxQpy1_ayy-18000.0_fixedKicksSet4_run0/file.txt not found.\n",
      "OS error: /afs/cern.ch/work/n/natriant/private/pyheadtail_example_crabcavity/sps_270GeV_CC_PN1e-8_1e5turns_5e5Nb_wakefieldsON_complete_500slices_QpxQpy1_ayy-18000.0_fixedKicksSet4_run1/file.txt not found.\n",
      "OS error: /afs/cern.ch/work/n/natriant/private/pyheadtail_example_crabcavity/sps_270GeV_CC_PN1e-8_1e5turns_5e5Nb_wakefieldsON_complete_500slices_QpxQpy1_ayy-18000.0_fixedKicksSet4_run2/file.txt not found.\n",
      "OS error: /afs/cern.ch/work/n/natriant/private/pyheadtail_example_crabcavity/sps_270GeV_CC_PN1e-8_1e5turns_5e5Nb_wakefieldsON_complete_500slices_QpxQpy1_ayy-18000.0_fixedKicksSet5_run0/file.txt not found.\n",
      "OS error: /afs/cern.ch/work/n/natriant/private/pyheadtail_example_crabcavity/sps_270GeV_CC_PN1e-8_1e5turns_5e5Nb_wakefieldsON_complete_500slices_QpxQpy1_ayy-18000.0_fixedKicksSet5_run1/file.txt not found.\n",
      "OS error: /afs/cern.ch/work/n/natriant/private/pyheadtail_example_crabcavity/sps_270GeV_CC_PN1e-8_1e5turns_5e5Nb_wakefieldsON_complete_500slices_QpxQpy1_ayy-18000.0_fixedKicksSet5_run2/file.txt not found.\n",
      "OS error: /afs/cern.ch/work/n/natriant/private/pyheadtail_example_crabcavity/sps_270GeV_CC_PN1e-8_1e5turns_5e5Nb_wakefieldsON_complete_500slices_QpxQpy1_ayy-18000.0_fixedKicksSet6_run0/file.txt not found.\n",
      "OS error: /afs/cern.ch/work/n/natriant/private/pyheadtail_example_crabcavity/sps_270GeV_CC_PN1e-8_1e5turns_5e5Nb_wakefieldsON_complete_500slices_QpxQpy1_ayy-18000.0_fixedKicksSet6_run1/file.txt not found.\n",
      "OS error: /afs/cern.ch/work/n/natriant/private/pyheadtail_example_crabcavity/sps_270GeV_CC_PN1e-8_1e5turns_5e5Nb_wakefieldsON_complete_500slices_QpxQpy1_ayy-18000.0_fixedKicksSet6_run2/file.txt not found.\n",
      "OS error: /afs/cern.ch/work/n/natriant/private/pyheadtail_example_crabcavity/sps_270GeV_CC_PN1e-8_1e5turns_5e5Nb_wakefieldsON_complete_500slices_QpxQpy1_ayy-18000.0_fixedKicksSet7_run0/file.txt not found.\n",
      "OS error: /afs/cern.ch/work/n/natriant/private/pyheadtail_example_crabcavity/sps_270GeV_CC_PN1e-8_1e5turns_5e5Nb_wakefieldsON_complete_500slices_QpxQpy1_ayy-18000.0_fixedKicksSet7_run1/file.txt not found.\n",
      "OS error: /afs/cern.ch/work/n/natriant/private/pyheadtail_example_crabcavity/sps_270GeV_CC_PN1e-8_1e5turns_5e5Nb_wakefieldsON_complete_500slices_QpxQpy1_ayy-18000.0_fixedKicksSet7_run2/file.txt not found.\n",
      "OS error: /afs/cern.ch/work/n/natriant/private/pyheadtail_example_crabcavity/sps_270GeV_CC_PN1e-8_1e5turns_5e5Nb_wakefieldsON_complete_500slices_QpxQpy1_ayy-18000.0_fixedKicksSet8_run0/file.txt not found.\n",
      "OS error: /afs/cern.ch/work/n/natriant/private/pyheadtail_example_crabcavity/sps_270GeV_CC_PN1e-8_1e5turns_5e5Nb_wakefieldsON_complete_500slices_QpxQpy1_ayy-18000.0_fixedKicksSet8_run1/file.txt not found.\n",
      "OS error: /afs/cern.ch/work/n/natriant/private/pyheadtail_example_crabcavity/sps_270GeV_CC_PN1e-8_1e5turns_5e5Nb_wakefieldsON_complete_500slices_QpxQpy1_ayy-18000.0_fixedKicksSet8_run2/file.txt not found.\n"
     ]
    },
    {
     "name": "stdout",
     "output_type": "stream",
     "text": [
      "OS error: /afs/cern.ch/work/n/natriant/private/pyheadtail_example_crabcavity/sps_270GeV_CC_PN1e-8_1e5turns_5e5Nb_wakefieldsON_complete_500slices_QpxQpy1_ayy-18000.0_fixedKicksSet9_run0/file.txt not found.\n",
      "OS error: /afs/cern.ch/work/n/natriant/private/pyheadtail_example_crabcavity/sps_270GeV_CC_PN1e-8_1e5turns_5e5Nb_wakefieldsON_complete_500slices_QpxQpy1_ayy-18000.0_fixedKicksSet9_run1/file.txt not found.\n",
      "OS error: /afs/cern.ch/work/n/natriant/private/pyheadtail_example_crabcavity/sps_270GeV_CC_PN1e-8_1e5turns_5e5Nb_wakefieldsON_complete_500slices_QpxQpy1_ayy-18000.0_fixedKicksSet9_run2/file.txt not found.\n",
      "OS error: /afs/cern.ch/work/n/natriant/private/pyheadtail_example_crabcavity/sps_270GeV_CC_PN1e-8_1e5turns_5e5Nb_wakefieldsON_complete_500slices_QpxQpy1_ayy-18000.0_fixedKicksSet10_run0/file.txt not found.\n",
      "OS error: /afs/cern.ch/work/n/natriant/private/pyheadtail_example_crabcavity/sps_270GeV_CC_PN1e-8_1e5turns_5e5Nb_wakefieldsON_complete_500slices_QpxQpy1_ayy-18000.0_fixedKicksSet10_run1/file.txt not found.\n",
      "OS error: /afs/cern.ch/work/n/natriant/private/pyheadtail_example_crabcavity/sps_270GeV_CC_PN1e-8_1e5turns_5e5Nb_wakefieldsON_complete_500slices_QpxQpy1_ayy-18000.0_fixedKicksSet10_run2/file.txt not found.\n",
      "OS error: /afs/cern.ch/work/n/natriant/private/pyheadtail_example_crabcavity/sps_270GeV_CC_PN1e-8_1e5turns_5e5Nb_wakefieldsON_complete_500slices_QpxQpy1_ayy-18000.0_fixedKicksSet11_run0/file.txt not found.\n",
      "OS error: /afs/cern.ch/work/n/natriant/private/pyheadtail_example_crabcavity/sps_270GeV_CC_PN1e-8_1e5turns_5e5Nb_wakefieldsON_complete_500slices_QpxQpy1_ayy-18000.0_fixedKicksSet11_run1/file.txt not found.\n",
      "OS error: /afs/cern.ch/work/n/natriant/private/pyheadtail_example_crabcavity/sps_270GeV_CC_PN1e-8_1e5turns_5e5Nb_wakefieldsON_complete_500slices_QpxQpy1_ayy-18000.0_fixedKicksSet11_run2/file.txt not found.\n",
      "OS error: /afs/cern.ch/work/n/natriant/private/pyheadtail_example_crabcavity/sps_270GeV_CC_PN1e-8_1e5turns_5e5Nb_wakefieldsON_complete_500slices_QpxQpy1_ayy-18000.0_fixedKicksSet12_run0/file.txt not found.\n",
      "OS error: /afs/cern.ch/work/n/natriant/private/pyheadtail_example_crabcavity/sps_270GeV_CC_PN1e-8_1e5turns_5e5Nb_wakefieldsON_complete_500slices_QpxQpy1_ayy-18000.0_fixedKicksSet12_run1/file.txt not found.\n",
      "OS error: /afs/cern.ch/work/n/natriant/private/pyheadtail_example_crabcavity/sps_270GeV_CC_PN1e-8_1e5turns_5e5Nb_wakefieldsON_complete_500slices_QpxQpy1_ayy-18000.0_fixedKicksSet12_run2/file.txt not found.\n",
      "OS error: /afs/cern.ch/work/n/natriant/private/pyheadtail_example_crabcavity/sps_270GeV_CC_PN1e-8_1e5turns_5e5Nb_wakefieldsON_complete_500slices_QpxQpy1_ayy-18000.0_fixedKicksSet13_run0/file.txt not found.\n",
      "OS error: /afs/cern.ch/work/n/natriant/private/pyheadtail_example_crabcavity/sps_270GeV_CC_PN1e-8_1e5turns_5e5Nb_wakefieldsON_complete_500slices_QpxQpy1_ayy-18000.0_fixedKicksSet13_run1/file.txt not found.\n",
      "OS error: /afs/cern.ch/work/n/natriant/private/pyheadtail_example_crabcavity/sps_270GeV_CC_PN1e-8_1e5turns_5e5Nb_wakefieldsON_complete_500slices_QpxQpy1_ayy-18000.0_fixedKicksSet13_run2/file.txt not found.\n",
      "OS error: /afs/cern.ch/work/n/natriant/private/pyheadtail_example_crabcavity/sps_270GeV_CC_PN1e-8_1e5turns_5e5Nb_wakefieldsON_complete_500slices_QpxQpy1_ayy-18000.0_fixedKicksSet14_run0/file.txt not found.\n",
      "OS error: /afs/cern.ch/work/n/natriant/private/pyheadtail_example_crabcavity/sps_270GeV_CC_PN1e-8_1e5turns_5e5Nb_wakefieldsON_complete_500slices_QpxQpy1_ayy-18000.0_fixedKicksSet14_run1/file.txt not found.\n",
      "OS error: /afs/cern.ch/work/n/natriant/private/pyheadtail_example_crabcavity/sps_270GeV_CC_PN1e-8_1e5turns_5e5Nb_wakefieldsON_complete_500slices_QpxQpy1_ayy-18000.0_fixedKicksSet14_run2/file.txt not found.\n",
      "OS error: /afs/cern.ch/work/n/natriant/private/pyheadtail_example_crabcavity/sps_270GeV_CC_PN1e-8_1e5turns_5e5Nb_wakefieldsON_complete_500slices_QpxQpy1_ayy-18000.0_fixedKicksSet15_run0/file.txt not found.\n",
      "OS error: /afs/cern.ch/work/n/natriant/private/pyheadtail_example_crabcavity/sps_270GeV_CC_PN1e-8_1e5turns_5e5Nb_wakefieldsON_complete_500slices_QpxQpy1_ayy-18000.0_fixedKicksSet15_run1/file.txt not found.\n",
      "OS error: /afs/cern.ch/work/n/natriant/private/pyheadtail_example_crabcavity/sps_270GeV_CC_PN1e-8_1e5turns_5e5Nb_wakefieldsON_complete_500slices_QpxQpy1_ayy-18000.0_fixedKicksSet15_run2/file.txt not found.\n",
      "OS error: /afs/cern.ch/work/n/natriant/private/pyheadtail_example_crabcavity/sps_270GeV_CC_PN1e-8_1e5turns_5e5Nb_wakefieldsON_complete_500slices_QpxQpy1_ayy-18000.0_fixedKicksSet16_run0/file.txt not found.\n",
      "OS error: /afs/cern.ch/work/n/natriant/private/pyheadtail_example_crabcavity/sps_270GeV_CC_PN1e-8_1e5turns_5e5Nb_wakefieldsON_complete_500slices_QpxQpy1_ayy-18000.0_fixedKicksSet16_run1/file.txt not found.\n",
      "OS error: /afs/cern.ch/work/n/natriant/private/pyheadtail_example_crabcavity/sps_270GeV_CC_PN1e-8_1e5turns_5e5Nb_wakefieldsON_complete_500slices_QpxQpy1_ayy-18000.0_fixedKicksSet16_run2/file.txt not found.\n",
      "OS error: /afs/cern.ch/work/n/natriant/private/pyheadtail_example_crabcavity/sps_270GeV_CC_PN1e-8_1e5turns_5e5Nb_wakefieldsON_complete_500slices_QpxQpy1_ayy-18000.0_fixedKicksSet17_run0/file.txt not found.\n",
      "OS error: /afs/cern.ch/work/n/natriant/private/pyheadtail_example_crabcavity/sps_270GeV_CC_PN1e-8_1e5turns_5e5Nb_wakefieldsON_complete_500slices_QpxQpy1_ayy-18000.0_fixedKicksSet17_run1/file.txt not found.\n"
     ]
    },
    {
     "ename": "KeyboardInterrupt",
     "evalue": "",
     "output_type": "error",
     "traceback": [
      "\u001b[0;31m---------------------------------------------------------------------------\u001b[0m",
      "\u001b[0;31mFileNotFoundError\u001b[0m                         Traceback (most recent call last)",
      "\u001b[0;32m~/anaconda3/envs/run_pyheadtail/lib/python3.7/genericpath.py\u001b[0m in \u001b[0;36mexists\u001b[0;34m(path)\u001b[0m\n\u001b[1;32m     18\u001b[0m     \u001b[0;32mtry\u001b[0m\u001b[0;34m:\u001b[0m\u001b[0;34m\u001b[0m\u001b[0;34m\u001b[0m\u001b[0m\n\u001b[0;32m---> 19\u001b[0;31m         \u001b[0mos\u001b[0m\u001b[0;34m.\u001b[0m\u001b[0mstat\u001b[0m\u001b[0;34m(\u001b[0m\u001b[0mpath\u001b[0m\u001b[0;34m)\u001b[0m\u001b[0;34m\u001b[0m\u001b[0;34m\u001b[0m\u001b[0m\n\u001b[0m\u001b[1;32m     20\u001b[0m     \u001b[0;32mexcept\u001b[0m \u001b[0mOSError\u001b[0m\u001b[0;34m:\u001b[0m\u001b[0;34m\u001b[0m\u001b[0;34m\u001b[0m\u001b[0m\n",
      "\u001b[0;31mFileNotFoundError\u001b[0m: [Errno 2] No such file or directory: '/afs/cern.ch/work/n/natriant/private/pyheadtail_example_crabcavity/sps_270GeV_CC_PN1e-8_1e5turns_5e5Nb_wakefieldsON_complete_500slices_QpxQpy1_ayy-18000.0_fixedKicksSet17_run2/file.txt'",
      "\nDuring handling of the above exception, another exception occurred:\n",
      "\u001b[0;31mKeyboardInterrupt\u001b[0m                         Traceback (most recent call last)",
      "\u001b[0;32m<ipython-input-7-d8e0acfb0f75>\u001b[0m in \u001b[0;36m<module>\u001b[0;34m\u001b[0m\n\u001b[1;32m     11\u001b[0m         \u001b[0;32mfor\u001b[0m \u001b[0mrun\u001b[0m \u001b[0;32min\u001b[0m \u001b[0mrange\u001b[0m\u001b[0;34m(\u001b[0m\u001b[0mn_runs\u001b[0m\u001b[0;34m)\u001b[0m\u001b[0;34m:\u001b[0m\u001b[0;34m\u001b[0m\u001b[0;34m\u001b[0m\u001b[0m\n\u001b[1;32m     12\u001b[0m             \u001b[0;32mtry\u001b[0m\u001b[0;34m:\u001b[0m \u001b[0;31m# test if file doesn't exist\u001b[0m\u001b[0;34m\u001b[0m\u001b[0;34m\u001b[0m\u001b[0m\n\u001b[0;32m---> 13\u001b[0;31m                 \u001b[0mmeanX\u001b[0m\u001b[0;34m,\u001b[0m \u001b[0mmeanY\u001b[0m\u001b[0;34m,\u001b[0m \u001b[0mmeanXsq\u001b[0m\u001b[0;34m,\u001b[0m \u001b[0mmeanYsq\u001b[0m\u001b[0;34m,\u001b[0m \u001b[0memitX\u001b[0m\u001b[0;34m,\u001b[0m \u001b[0memitY\u001b[0m \u001b[0;34m=\u001b[0m \u001b[0mnp\u001b[0m\u001b[0;34m.\u001b[0m\u001b[0mloadtxt\u001b[0m\u001b[0;34m(\u001b[0m\u001b[0mpath_to_data\u001b[0m\u001b[0;34m+\u001b[0m\u001b[0;34mf'{study_name}{var}_fixedKicksSet{my_set}_run{run}/file.txt'\u001b[0m\u001b[0;34m,\u001b[0m \u001b[0mdelimiter\u001b[0m \u001b[0;34m=\u001b[0m \u001b[0;34m\",\"\u001b[0m\u001b[0;34m,\u001b[0m \u001b[0munpack\u001b[0m \u001b[0;34m=\u001b[0m \u001b[0;32mTrue\u001b[0m\u001b[0;34m)\u001b[0m\u001b[0;34m\u001b[0m\u001b[0;34m\u001b[0m\u001b[0m\n\u001b[0m\u001b[1;32m     14\u001b[0m                 \u001b[0;31m# B1. Create a different list for each run and save the emittance values\u001b[0m\u001b[0;34m\u001b[0m\u001b[0;34m\u001b[0m\u001b[0;34m\u001b[0m\u001b[0m\n\u001b[1;32m     15\u001b[0m                 \u001b[0mex_mean\u001b[0m\u001b[0;34m.\u001b[0m\u001b[0mappend\u001b[0m\u001b[0;34m(\u001b[0m\u001b[0memitX\u001b[0m\u001b[0;34m)\u001b[0m\u001b[0;34m\u001b[0m\u001b[0;34m\u001b[0m\u001b[0m\n",
      "\u001b[0;32m~/anaconda3/envs/run_pyheadtail/lib/python3.7/site-packages/numpy/lib/npyio.py\u001b[0m in \u001b[0;36mloadtxt\u001b[0;34m(fname, dtype, comments, delimiter, converters, skiprows, usecols, unpack, ndmin, encoding, max_rows)\u001b[0m\n\u001b[1;32m    979\u001b[0m             \u001b[0mfname\u001b[0m \u001b[0;34m=\u001b[0m \u001b[0mos_fspath\u001b[0m\u001b[0;34m(\u001b[0m\u001b[0mfname\u001b[0m\u001b[0;34m)\u001b[0m\u001b[0;34m\u001b[0m\u001b[0;34m\u001b[0m\u001b[0m\n\u001b[1;32m    980\u001b[0m         \u001b[0;32mif\u001b[0m \u001b[0m_is_string_like\u001b[0m\u001b[0;34m(\u001b[0m\u001b[0mfname\u001b[0m\u001b[0;34m)\u001b[0m\u001b[0;34m:\u001b[0m\u001b[0;34m\u001b[0m\u001b[0;34m\u001b[0m\u001b[0m\n\u001b[0;32m--> 981\u001b[0;31m             \u001b[0mfh\u001b[0m \u001b[0;34m=\u001b[0m \u001b[0mnp\u001b[0m\u001b[0;34m.\u001b[0m\u001b[0mlib\u001b[0m\u001b[0;34m.\u001b[0m\u001b[0m_datasource\u001b[0m\u001b[0;34m.\u001b[0m\u001b[0mopen\u001b[0m\u001b[0;34m(\u001b[0m\u001b[0mfname\u001b[0m\u001b[0;34m,\u001b[0m \u001b[0;34m'rt'\u001b[0m\u001b[0;34m,\u001b[0m \u001b[0mencoding\u001b[0m\u001b[0;34m=\u001b[0m\u001b[0mencoding\u001b[0m\u001b[0;34m)\u001b[0m\u001b[0;34m\u001b[0m\u001b[0;34m\u001b[0m\u001b[0m\n\u001b[0m\u001b[1;32m    982\u001b[0m             \u001b[0mfencoding\u001b[0m \u001b[0;34m=\u001b[0m \u001b[0mgetattr\u001b[0m\u001b[0;34m(\u001b[0m\u001b[0mfh\u001b[0m\u001b[0;34m,\u001b[0m \u001b[0;34m'encoding'\u001b[0m\u001b[0;34m,\u001b[0m \u001b[0;34m'latin1'\u001b[0m\u001b[0;34m)\u001b[0m\u001b[0;34m\u001b[0m\u001b[0;34m\u001b[0m\u001b[0m\n\u001b[1;32m    983\u001b[0m             \u001b[0mfh\u001b[0m \u001b[0;34m=\u001b[0m \u001b[0miter\u001b[0m\u001b[0;34m(\u001b[0m\u001b[0mfh\u001b[0m\u001b[0;34m)\u001b[0m\u001b[0;34m\u001b[0m\u001b[0;34m\u001b[0m\u001b[0m\n",
      "\u001b[0;32m~/anaconda3/envs/run_pyheadtail/lib/python3.7/site-packages/numpy/lib/_datasource.py\u001b[0m in \u001b[0;36mopen\u001b[0;34m(path, mode, destpath, encoding, newline)\u001b[0m\n\u001b[1;32m    267\u001b[0m \u001b[0;34m\u001b[0m\u001b[0m\n\u001b[1;32m    268\u001b[0m     \u001b[0mds\u001b[0m \u001b[0;34m=\u001b[0m \u001b[0mDataSource\u001b[0m\u001b[0;34m(\u001b[0m\u001b[0mdestpath\u001b[0m\u001b[0;34m)\u001b[0m\u001b[0;34m\u001b[0m\u001b[0;34m\u001b[0m\u001b[0m\n\u001b[0;32m--> 269\u001b[0;31m     \u001b[0;32mreturn\u001b[0m \u001b[0mds\u001b[0m\u001b[0;34m.\u001b[0m\u001b[0mopen\u001b[0m\u001b[0;34m(\u001b[0m\u001b[0mpath\u001b[0m\u001b[0;34m,\u001b[0m \u001b[0mmode\u001b[0m\u001b[0;34m,\u001b[0m \u001b[0mencoding\u001b[0m\u001b[0;34m=\u001b[0m\u001b[0mencoding\u001b[0m\u001b[0;34m,\u001b[0m \u001b[0mnewline\u001b[0m\u001b[0;34m=\u001b[0m\u001b[0mnewline\u001b[0m\u001b[0;34m)\u001b[0m\u001b[0;34m\u001b[0m\u001b[0;34m\u001b[0m\u001b[0m\n\u001b[0m\u001b[1;32m    270\u001b[0m \u001b[0;34m\u001b[0m\u001b[0m\n\u001b[1;32m    271\u001b[0m \u001b[0;34m\u001b[0m\u001b[0m\n",
      "\u001b[0;32m~/anaconda3/envs/run_pyheadtail/lib/python3.7/site-packages/numpy/lib/_datasource.py\u001b[0m in \u001b[0;36mopen\u001b[0;34m(self, path, mode, encoding, newline)\u001b[0m\n\u001b[1;32m    613\u001b[0m \u001b[0;34m\u001b[0m\u001b[0m\n\u001b[1;32m    614\u001b[0m         \u001b[0;31m# NOTE: _findfile will fail on a new file opened for writing.\u001b[0m\u001b[0;34m\u001b[0m\u001b[0;34m\u001b[0m\u001b[0;34m\u001b[0m\u001b[0m\n\u001b[0;32m--> 615\u001b[0;31m         \u001b[0mfound\u001b[0m \u001b[0;34m=\u001b[0m \u001b[0mself\u001b[0m\u001b[0;34m.\u001b[0m\u001b[0m_findfile\u001b[0m\u001b[0;34m(\u001b[0m\u001b[0mpath\u001b[0m\u001b[0;34m)\u001b[0m\u001b[0;34m\u001b[0m\u001b[0;34m\u001b[0m\u001b[0m\n\u001b[0m\u001b[1;32m    616\u001b[0m         \u001b[0;32mif\u001b[0m \u001b[0mfound\u001b[0m\u001b[0;34m:\u001b[0m\u001b[0;34m\u001b[0m\u001b[0;34m\u001b[0m\u001b[0m\n\u001b[1;32m    617\u001b[0m             \u001b[0m_fname\u001b[0m\u001b[0;34m,\u001b[0m \u001b[0mext\u001b[0m \u001b[0;34m=\u001b[0m \u001b[0mself\u001b[0m\u001b[0;34m.\u001b[0m\u001b[0m_splitzipext\u001b[0m\u001b[0;34m(\u001b[0m\u001b[0mfound\u001b[0m\u001b[0;34m)\u001b[0m\u001b[0;34m\u001b[0m\u001b[0;34m\u001b[0m\u001b[0m\n",
      "\u001b[0;32m~/anaconda3/envs/run_pyheadtail/lib/python3.7/site-packages/numpy/lib/_datasource.py\u001b[0m in \u001b[0;36m_findfile\u001b[0;34m(self, path)\u001b[0m\n\u001b[1;32m    450\u001b[0m \u001b[0;34m\u001b[0m\u001b[0m\n\u001b[1;32m    451\u001b[0m         \u001b[0;32mfor\u001b[0m \u001b[0mname\u001b[0m \u001b[0;32min\u001b[0m \u001b[0mfilelist\u001b[0m\u001b[0;34m:\u001b[0m\u001b[0;34m\u001b[0m\u001b[0;34m\u001b[0m\u001b[0m\n\u001b[0;32m--> 452\u001b[0;31m             \u001b[0;32mif\u001b[0m \u001b[0mself\u001b[0m\u001b[0;34m.\u001b[0m\u001b[0mexists\u001b[0m\u001b[0;34m(\u001b[0m\u001b[0mname\u001b[0m\u001b[0;34m)\u001b[0m\u001b[0;34m:\u001b[0m\u001b[0;34m\u001b[0m\u001b[0;34m\u001b[0m\u001b[0m\n\u001b[0m\u001b[1;32m    453\u001b[0m                 \u001b[0;32mif\u001b[0m \u001b[0mself\u001b[0m\u001b[0;34m.\u001b[0m\u001b[0m_isurl\u001b[0m\u001b[0;34m(\u001b[0m\u001b[0mname\u001b[0m\u001b[0;34m)\u001b[0m\u001b[0;34m:\u001b[0m\u001b[0;34m\u001b[0m\u001b[0;34m\u001b[0m\u001b[0m\n\u001b[1;32m    454\u001b[0m                     \u001b[0mname\u001b[0m \u001b[0;34m=\u001b[0m \u001b[0mself\u001b[0m\u001b[0;34m.\u001b[0m\u001b[0m_cache\u001b[0m\u001b[0;34m(\u001b[0m\u001b[0mname\u001b[0m\u001b[0;34m)\u001b[0m\u001b[0;34m\u001b[0m\u001b[0;34m\u001b[0m\u001b[0m\n",
      "\u001b[0;32m~/anaconda3/envs/run_pyheadtail/lib/python3.7/site-packages/numpy/lib/_datasource.py\u001b[0m in \u001b[0;36mexists\u001b[0;34m(self, path)\u001b[0m\n\u001b[1;32m    547\u001b[0m \u001b[0;34m\u001b[0m\u001b[0m\n\u001b[1;32m    548\u001b[0m         \u001b[0;31m# First test for local path\u001b[0m\u001b[0;34m\u001b[0m\u001b[0;34m\u001b[0m\u001b[0;34m\u001b[0m\u001b[0m\n\u001b[0;32m--> 549\u001b[0;31m         \u001b[0;32mif\u001b[0m \u001b[0mos\u001b[0m\u001b[0;34m.\u001b[0m\u001b[0mpath\u001b[0m\u001b[0;34m.\u001b[0m\u001b[0mexists\u001b[0m\u001b[0;34m(\u001b[0m\u001b[0mpath\u001b[0m\u001b[0;34m)\u001b[0m\u001b[0;34m:\u001b[0m\u001b[0;34m\u001b[0m\u001b[0;34m\u001b[0m\u001b[0m\n\u001b[0m\u001b[1;32m    550\u001b[0m             \u001b[0;32mreturn\u001b[0m \u001b[0;32mTrue\u001b[0m\u001b[0;34m\u001b[0m\u001b[0;34m\u001b[0m\u001b[0m\n\u001b[1;32m    551\u001b[0m \u001b[0;34m\u001b[0m\u001b[0m\n",
      "\u001b[0;32m~/anaconda3/envs/run_pyheadtail/lib/python3.7/genericpath.py\u001b[0m in \u001b[0;36mexists\u001b[0;34m(path)\u001b[0m\n\u001b[1;32m     17\u001b[0m     \u001b[0;34m\"\"\"Test whether a path exists.  Returns False for broken symbolic links\"\"\"\u001b[0m\u001b[0;34m\u001b[0m\u001b[0;34m\u001b[0m\u001b[0m\n\u001b[1;32m     18\u001b[0m     \u001b[0;32mtry\u001b[0m\u001b[0;34m:\u001b[0m\u001b[0;34m\u001b[0m\u001b[0;34m\u001b[0m\u001b[0m\n\u001b[0;32m---> 19\u001b[0;31m         \u001b[0mos\u001b[0m\u001b[0;34m.\u001b[0m\u001b[0mstat\u001b[0m\u001b[0;34m(\u001b[0m\u001b[0mpath\u001b[0m\u001b[0;34m)\u001b[0m\u001b[0;34m\u001b[0m\u001b[0;34m\u001b[0m\u001b[0m\n\u001b[0m\u001b[1;32m     20\u001b[0m     \u001b[0;32mexcept\u001b[0m \u001b[0mOSError\u001b[0m\u001b[0;34m:\u001b[0m\u001b[0;34m\u001b[0m\u001b[0;34m\u001b[0m\u001b[0m\n\u001b[1;32m     21\u001b[0m         \u001b[0;32mreturn\u001b[0m \u001b[0;32mFalse\u001b[0m\u001b[0;34m\u001b[0m\u001b[0;34m\u001b[0m\u001b[0m\n",
      "\u001b[0;31mKeyboardInterrupt\u001b[0m: "
     ]
    }
   ],
   "source": [
    "ex_mean_dict, ey_mean_dict = {}, {} # type: dictionary\n",
    "ex_std_dict, ey_std_dict = {}, {} # type: dictionary\n",
    "\n",
    "\n",
    "for var in my_variables:\n",
    "    print(var)\n",
    "    for my_set in range(n_sets):\n",
    "        #print(var, my_set)\n",
    "        temp_name = f'{var}_set{my_set}'\n",
    "        ex_mean, ey_mean = [], []\n",
    "        for run in range(n_runs):\n",
    "            try: # test if file doesn't exist\n",
    "                meanX, meanY, meanXsq, meanYsq, emitX, emitY = np.loadtxt(path_to_data+f'{study_name}{var}_fixedKicksSet{my_set}_run{run}/file.txt', delimiter = \",\", unpack = True)\n",
    "                # B1. Create a different list for each run and save the emittance values\n",
    "                ex_mean.append(emitX)\n",
    "                ey_mean.append(emitY)\n",
    "            except OSError as err:\n",
    "                print(\"OS error: {0}\".format(err))\n",
    "                #ex_dict[temp_name] = np.zeros(len(tspan)) \n",
    "                #ey_dict[temp_name] = np.zeros(len(tspan))\n",
    "        ex_mean_dict[temp_name] = np.mean(ex_mean, axis=0)\n",
    "        ey_mean_dict[temp_name] = np.mean(ey_mean, axis=0)\n",
    "        ex_std_dict[temp_name] = np.std(ex_mean, axis=0)\n",
    "        ey_std_dict[temp_name] = np.std(ey_mean, axis=0)    \n",
    "        "
   ]
  },
  {
   "cell_type": "markdown",
   "metadata": {},
   "source": [
    "### Do a polynomial fit (deg=1), y-plane only"
   ]
  },
  {
   "cell_type": "code",
   "execution_count": 21,
   "metadata": {},
   "outputs": [],
   "source": [
    "m_dict = {} # slope of the fit\n",
    "b_dict = {} # offset\n",
    "err_dict = {} # error of the gradient of the fit slope\n",
    "\n",
    "for var in my_variables:\n",
    "    m_dict[f'{var}'], b_dict[f'{var}'], err_dict[f'{var}'] = [], [], []\n",
    "    for my_set in range(n_sets):\n",
    "        temp_name = f'{var}_set{my_set}'\n",
    "        # linear fit\n",
    "        [m, b], cov = np.polyfit(tspan, ey_mean_dict[temp_name], 1, cov=True)\n",
    "        # compute the error of the gradient of the fit slope\n",
    "        err= np.sqrt(np.diag(cov))\n",
    "        m_dict[f'{var}'].append(m) # len(m_dict[f'{var}']) = n_runs\n",
    "        b_dict[f'{var}'].append(b)\n",
    "        err_dict[f'{var}'].append(err[0])"
   ]
  },
  {
   "cell_type": "markdown",
   "metadata": {},
   "source": [
    "### Format the computed growth rates in a Data Frame"
   ]
  },
  {
   "cell_type": "code",
   "execution_count": 22,
   "metadata": {},
   "outputs": [],
   "source": [
    "data = {}\n",
    "for var in my_variables:\n",
    "    data[f'ayy_{var}'] =[m_dict[f'{var}'], b_dict[f'{var}'], err_dict[f'{var}']]\n",
    "df = pd.DataFrame(data, index=['m','b','err'])\n",
    "\n",
    "filename = f'deyRates_{study_name}Scan.pkl'\n",
    "if not os.path.exists(filename):\n",
    "    df.to_pickle(filename)"
   ]
  },
  {
   "cell_type": "code",
   "execution_count": null,
   "metadata": {},
   "outputs": [],
   "source": []
  },
  {
   "cell_type": "code",
   "execution_count": null,
   "metadata": {},
   "outputs": [],
   "source": []
  }
 ],
 "metadata": {
  "kernelspec": {
   "display_name": "Python 3",
   "language": "python",
   "name": "python3"
  }
 },
 "nbformat": 4,
 "nbformat_minor": 4
}
