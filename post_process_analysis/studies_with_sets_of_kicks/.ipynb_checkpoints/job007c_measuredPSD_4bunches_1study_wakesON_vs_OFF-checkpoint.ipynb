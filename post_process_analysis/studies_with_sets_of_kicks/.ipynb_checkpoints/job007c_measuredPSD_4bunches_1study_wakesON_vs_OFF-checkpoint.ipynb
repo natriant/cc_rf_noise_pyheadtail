{
 "cells": [
  {
   "cell_type": "code",
   "execution_count": 1,
   "metadata": {},
   "outputs": [],
   "source": []
  },
  {
   "cell_type": "code",
   "execution_count": 4,
   "metadata": {},
   "outputs": [],
   "source": [
    "import sys\n",
    "sys.path.append('../../../../PhD_projects/utils/')\n",
    "from cmptTheoreticalEmitGrowth import *\n",
    "from bunchLengthConversions import *\n",
    "from coordinatesConversions import *\n",
    "from cmpt_TuneSpreads import *\n",
    "\n",
    "import numpy as np\n",
    "import pickle\n",
    "import pandas as pd\n",
    "import matplotlib.pyplot as plt"
   ]
  },
  {
   "cell_type": "code",
   "execution_count": 5,
   "metadata": {},
   "outputs": [],
   "source": [
    "params = {'legend.fontsize': 20,\n",
    "          'figure.figsize': (9.5, 8.5),\n",
    "          'axes.labelsize': 27,\n",
    "          'axes.titlesize': 23,\n",
    "          'xtick.labelsize': 27,\n",
    "          'ytick.labelsize': 27,\n",
    "          'image.cmap': 'jet',\n",
    "          'lines.linewidth': 1,\n",
    "          'lines.markersize': 10,\n",
    "          'font.family': 'sans-serif'}\n",
    "\n",
    "plt.rc('text', usetex=False)\n",
    "plt.rc('font', family='serif')\n",
    "plt.rcParams.update(params)"
   ]
  },
  {
   "cell_type": "code",
   "execution_count": 6,
   "metadata": {},
   "outputs": [],
   "source": [
    "n_sets = 10\n",
    "n_runs = 3 # number of runs that the simulation was repeated\n",
    "n_turns = int(1e5)            # number of cycles to run the simulation for\n",
    "decTurns = int(100)           # how often to record data\n",
    "circumference  = 6911.5623 # [m]\n",
    "f_rev  = 299792458/circumference  # [Hz] The revolution frequency of the machine \n",
    "separationTime = 1 / f_rev * decTurns #There are decTurns revolutions before each recording of data\n",
    "tspan = (np.arange(n_turns / decTurns) + 1.0) * separationTime #total time spanned by the simulation"
   ]
  },
  {
   "cell_type": "code",
   "execution_count": 12,
   "metadata": {},
   "outputs": [
    {
     "name": "stdout",
     "output_type": "stream",
     "text": [
      "['bunch1_coast3_setting3']\n"
     ]
    }
   ],
   "source": [
    "bunch = 1\n",
    "setting = 'coast3_setting3'\n",
    "\n",
    "my_variables = [f'bunch{bunch}_{setting}']\n",
    "print(my_variables)"
   ]
  },
  {
   "cell_type": "markdown",
   "metadata": {},
   "source": [
    "### Load the data"
   ]
  },
  {
   "cell_type": "code",
   "execution_count": 15,
   "metadata": {},
   "outputs": [
    {
     "name": "stdout",
     "output_type": "stream",
     "text": [
      "bunch1_coast3_setting3\n",
      "OS error: /afs/cern.ch/work/n/natriant/private/pyheadtail_example_crabcavity/sps_270GeV_WakesOFF_ayy1500_QpxQpy1_Nb5e5_couplingXY_bunch1_coast3_setting3_bunch1_coast3_setting3_AN_PNNoiseKicksSet0_run0/file.txt not found.\n",
      "OS error: /afs/cern.ch/work/n/natriant/private/pyheadtail_example_crabcavity/sps_270GeV_WakesOFF_ayy1500_QpxQpy1_Nb5e5_couplingXY_bunch1_coast3_setting3_bunch1_coast3_setting3_AN_PNNoiseKicksSet0_run1/file.txt not found.\n",
      "OS error: /afs/cern.ch/work/n/natriant/private/pyheadtail_example_crabcavity/sps_270GeV_WakesOFF_ayy1500_QpxQpy1_Nb5e5_couplingXY_bunch1_coast3_setting3_bunch1_coast3_setting3_AN_PNNoiseKicksSet0_run2/file.txt not found.\n",
      "OS error: /afs/cern.ch/work/n/natriant/private/pyheadtail_example_crabcavity/sps_270GeV_WakesOFF_ayy1500_QpxQpy1_Nb5e5_couplingXY_bunch1_coast3_setting3_bunch1_coast3_setting3_AN_PNNoiseKicksSet1_run0/file.txt not found.\n",
      "OS error: /afs/cern.ch/work/n/natriant/private/pyheadtail_example_crabcavity/sps_270GeV_WakesOFF_ayy1500_QpxQpy1_Nb5e5_couplingXY_bunch1_coast3_setting3_bunch1_coast3_setting3_AN_PNNoiseKicksSet1_run1/file.txt not found.\n",
      "OS error: /afs/cern.ch/work/n/natriant/private/pyheadtail_example_crabcavity/sps_270GeV_WakesOFF_ayy1500_QpxQpy1_Nb5e5_couplingXY_bunch1_coast3_setting3_bunch1_coast3_setting3_AN_PNNoiseKicksSet1_run2/file.txt not found.\n",
      "OS error: /afs/cern.ch/work/n/natriant/private/pyheadtail_example_crabcavity/sps_270GeV_WakesOFF_ayy1500_QpxQpy1_Nb5e5_couplingXY_bunch1_coast3_setting3_bunch1_coast3_setting3_AN_PNNoiseKicksSet2_run0/file.txt not found.\n",
      "OS error: /afs/cern.ch/work/n/natriant/private/pyheadtail_example_crabcavity/sps_270GeV_WakesOFF_ayy1500_QpxQpy1_Nb5e5_couplingXY_bunch1_coast3_setting3_bunch1_coast3_setting3_AN_PNNoiseKicksSet2_run1/file.txt not found.\n",
      "OS error: /afs/cern.ch/work/n/natriant/private/pyheadtail_example_crabcavity/sps_270GeV_WakesOFF_ayy1500_QpxQpy1_Nb5e5_couplingXY_bunch1_coast3_setting3_bunch1_coast3_setting3_AN_PNNoiseKicksSet2_run2/file.txt not found.\n",
      "OS error: /afs/cern.ch/work/n/natriant/private/pyheadtail_example_crabcavity/sps_270GeV_WakesOFF_ayy1500_QpxQpy1_Nb5e5_couplingXY_bunch1_coast3_setting3_bunch1_coast3_setting3_AN_PNNoiseKicksSet3_run0/file.txt not found.\n",
      "OS error: /afs/cern.ch/work/n/natriant/private/pyheadtail_example_crabcavity/sps_270GeV_WakesOFF_ayy1500_QpxQpy1_Nb5e5_couplingXY_bunch1_coast3_setting3_bunch1_coast3_setting3_AN_PNNoiseKicksSet3_run1/file.txt not found.\n",
      "OS error: /afs/cern.ch/work/n/natriant/private/pyheadtail_example_crabcavity/sps_270GeV_WakesOFF_ayy1500_QpxQpy1_Nb5e5_couplingXY_bunch1_coast3_setting3_bunch1_coast3_setting3_AN_PNNoiseKicksSet3_run2/file.txt not found.\n",
      "OS error: /afs/cern.ch/work/n/natriant/private/pyheadtail_example_crabcavity/sps_270GeV_WakesOFF_ayy1500_QpxQpy1_Nb5e5_couplingXY_bunch1_coast3_setting3_bunch1_coast3_setting3_AN_PNNoiseKicksSet4_run0/file.txt not found.\n",
      "OS error: /afs/cern.ch/work/n/natriant/private/pyheadtail_example_crabcavity/sps_270GeV_WakesOFF_ayy1500_QpxQpy1_Nb5e5_couplingXY_bunch1_coast3_setting3_bunch1_coast3_setting3_AN_PNNoiseKicksSet4_run1/file.txt not found.\n",
      "OS error: /afs/cern.ch/work/n/natriant/private/pyheadtail_example_crabcavity/sps_270GeV_WakesOFF_ayy1500_QpxQpy1_Nb5e5_couplingXY_bunch1_coast3_setting3_bunch1_coast3_setting3_AN_PNNoiseKicksSet4_run2/file.txt not found.\n",
      "OS error: /afs/cern.ch/work/n/natriant/private/pyheadtail_example_crabcavity/sps_270GeV_WakesOFF_ayy1500_QpxQpy1_Nb5e5_couplingXY_bunch1_coast3_setting3_bunch1_coast3_setting3_AN_PNNoiseKicksSet5_run0/file.txt not found.\n",
      "OS error: /afs/cern.ch/work/n/natriant/private/pyheadtail_example_crabcavity/sps_270GeV_WakesOFF_ayy1500_QpxQpy1_Nb5e5_couplingXY_bunch1_coast3_setting3_bunch1_coast3_setting3_AN_PNNoiseKicksSet5_run1/file.txt not found.\n",
      "OS error: /afs/cern.ch/work/n/natriant/private/pyheadtail_example_crabcavity/sps_270GeV_WakesOFF_ayy1500_QpxQpy1_Nb5e5_couplingXY_bunch1_coast3_setting3_bunch1_coast3_setting3_AN_PNNoiseKicksSet5_run2/file.txt not found.\n",
      "OS error: /afs/cern.ch/work/n/natriant/private/pyheadtail_example_crabcavity/sps_270GeV_WakesOFF_ayy1500_QpxQpy1_Nb5e5_couplingXY_bunch1_coast3_setting3_bunch1_coast3_setting3_AN_PNNoiseKicksSet6_run0/file.txt not found.\n",
      "OS error: /afs/cern.ch/work/n/natriant/private/pyheadtail_example_crabcavity/sps_270GeV_WakesOFF_ayy1500_QpxQpy1_Nb5e5_couplingXY_bunch1_coast3_setting3_bunch1_coast3_setting3_AN_PNNoiseKicksSet6_run1/file.txt not found.\n",
      "OS error: /afs/cern.ch/work/n/natriant/private/pyheadtail_example_crabcavity/sps_270GeV_WakesOFF_ayy1500_QpxQpy1_Nb5e5_couplingXY_bunch1_coast3_setting3_bunch1_coast3_setting3_AN_PNNoiseKicksSet6_run2/file.txt not found.\n",
      "OS error: /afs/cern.ch/work/n/natriant/private/pyheadtail_example_crabcavity/sps_270GeV_WakesOFF_ayy1500_QpxQpy1_Nb5e5_couplingXY_bunch1_coast3_setting3_bunch1_coast3_setting3_AN_PNNoiseKicksSet7_run0/file.txt not found.\n",
      "OS error: /afs/cern.ch/work/n/natriant/private/pyheadtail_example_crabcavity/sps_270GeV_WakesOFF_ayy1500_QpxQpy1_Nb5e5_couplingXY_bunch1_coast3_setting3_bunch1_coast3_setting3_AN_PNNoiseKicksSet7_run1/file.txt not found.\n",
      "OS error: /afs/cern.ch/work/n/natriant/private/pyheadtail_example_crabcavity/sps_270GeV_WakesOFF_ayy1500_QpxQpy1_Nb5e5_couplingXY_bunch1_coast3_setting3_bunch1_coast3_setting3_AN_PNNoiseKicksSet7_run2/file.txt not found.\n",
      "OS error: /afs/cern.ch/work/n/natriant/private/pyheadtail_example_crabcavity/sps_270GeV_WakesOFF_ayy1500_QpxQpy1_Nb5e5_couplingXY_bunch1_coast3_setting3_bunch1_coast3_setting3_AN_PNNoiseKicksSet8_run0/file.txt not found.\n",
      "OS error: /afs/cern.ch/work/n/natriant/private/pyheadtail_example_crabcavity/sps_270GeV_WakesOFF_ayy1500_QpxQpy1_Nb5e5_couplingXY_bunch1_coast3_setting3_bunch1_coast3_setting3_AN_PNNoiseKicksSet8_run1/file.txt not found.\n",
      "OS error: /afs/cern.ch/work/n/natriant/private/pyheadtail_example_crabcavity/sps_270GeV_WakesOFF_ayy1500_QpxQpy1_Nb5e5_couplingXY_bunch1_coast3_setting3_bunch1_coast3_setting3_AN_PNNoiseKicksSet8_run2/file.txt not found.\n",
      "OS error: /afs/cern.ch/work/n/natriant/private/pyheadtail_example_crabcavity/sps_270GeV_WakesOFF_ayy1500_QpxQpy1_Nb5e5_couplingXY_bunch1_coast3_setting3_bunch1_coast3_setting3_AN_PNNoiseKicksSet9_run0/file.txt not found.\n",
      "OS error: /afs/cern.ch/work/n/natriant/private/pyheadtail_example_crabcavity/sps_270GeV_WakesOFF_ayy1500_QpxQpy1_Nb5e5_couplingXY_bunch1_coast3_setting3_bunch1_coast3_setting3_AN_PNNoiseKicksSet9_run1/file.txt not found.\n",
      "OS error: /afs/cern.ch/work/n/natriant/private/pyheadtail_example_crabcavity/sps_270GeV_WakesOFF_ayy1500_QpxQpy1_Nb5e5_couplingXY_bunch1_coast3_setting3_bunch1_coast3_setting3_AN_PNNoiseKicksSet9_run2/file.txt not found.\n"
     ]
    },
    {
     "name": "stderr",
     "output_type": "stream",
     "text": [
      "/home/natalia/anaconda3/lib/python3.7/site-packages/numpy/core/fromnumeric.py:3257: RuntimeWarning: Mean of empty slice.\n",
      "  out=out, **kwargs)\n",
      "/home/natalia/anaconda3/lib/python3.7/site-packages/numpy/core/_methods.py:161: RuntimeWarning: invalid value encountered in double_scalars\n",
      "  ret = ret.dtype.type(ret / rcount)\n",
      "/home/natalia/anaconda3/lib/python3.7/site-packages/numpy/core/_methods.py:217: RuntimeWarning: Degrees of freedom <= 0 for slice\n",
      "  keepdims=keepdims)\n",
      "/home/natalia/anaconda3/lib/python3.7/site-packages/numpy/core/_methods.py:186: RuntimeWarning: invalid value encountered in true_divide\n",
      "  arrmean, rcount, out=arrmean, casting='unsafe', subok=False)\n",
      "/home/natalia/anaconda3/lib/python3.7/site-packages/numpy/core/_methods.py:209: RuntimeWarning: invalid value encountered in double_scalars\n",
      "  ret = ret.dtype.type(ret / rcount)\n"
     ]
    }
   ],
   "source": [
    "load_from_afs = True\n",
    "\n",
    "if load_from_afs:\n",
    "    path_2_data = '/afs/cern.ch/work/n/natriant/private/pyheadtail_example_crabcavity/'\n",
    "    study_name = f'sps_270GeV_WakesOFF_ayy1500_QpxQpy1_Nb5e5_couplingXY_bunch{bunch}_{setting}'\n",
    "\n",
    "    \n",
    "    ex_mean_dict, ey_mean_dict = {}, {} # type: dictionary\n",
    "    ex_std_dict, ey_std_dict = {}, {} # type: dictionary\n",
    "\n",
    "\n",
    "    for var in my_variables:\n",
    "        print(var)\n",
    "        for my_set in range(n_sets):\n",
    "            #print(var, my_set)\n",
    "            temp_name = f'{var}_set{my_set}'\n",
    "            ex_mean, ey_mean = [], []\n",
    "            for run in range(n_runs):\n",
    "                try: # test if file doesn't exist\n",
    "                    meanX, meanY, meanXsq, meanYsq, emitX, emitY = np.loadtxt(path_2_data+f'{study_name}_{var}_AN_PNNoiseKicksSet{my_set}_run{run}/file.txt', delimiter = \",\", unpack = True)\n",
    "                    # B1. Create a different list for each run and save the emittance values\n",
    "                    ex_mean.append(emitX)\n",
    "                    ey_mean.append(emitY)\n",
    "                except OSError as err:\n",
    "                    print(\"OS error: {0}\".format(err))\n",
    "                    #ex_dict[temp_name] = np.zeros(len(tspan)) \n",
    "                    #ey_dict[temp_name] = np.zeros(len(tspan))\n",
    "            ex_mean_dict[temp_name] = np.mean(ex_mean, axis=0)\n",
    "            ey_mean_dict[temp_name] = np.mean(ey_mean, axis=0)\n",
    "            ex_std_dict[temp_name] = np.std(ex_mean, axis=0)\n",
    "            ey_std_dict[temp_name] = np.std(ey_mean, axis=0)    \n"
   ]
  },
  {
   "cell_type": "code",
   "execution_count": null,
   "metadata": {},
   "outputs": [],
   "source": []
  }
 ],
 "metadata": {
  "kernelspec": {
   "display_name": "Python 3",
   "language": "python",
   "name": "python3"
  },
  "language_info": {
   "codemirror_mode": {
    "name": "ipython",
    "version": 3
   },
   "file_extension": ".py",
   "mimetype": "text/x-python",
   "name": "python",
   "nbconvert_exporter": "python",
   "pygments_lexer": "ipython3",
   "version": "3.7.3"
  }
 },
 "nbformat": 4,
 "nbformat_minor": 4
}
