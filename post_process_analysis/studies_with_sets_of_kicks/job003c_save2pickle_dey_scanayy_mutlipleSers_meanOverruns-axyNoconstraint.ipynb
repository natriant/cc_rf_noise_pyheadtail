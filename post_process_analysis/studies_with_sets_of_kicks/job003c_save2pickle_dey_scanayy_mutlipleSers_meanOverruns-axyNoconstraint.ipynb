{
 "cells": [
  {
   "cell_type": "markdown",
   "metadata": {},
   "source": [
    "### Objective\n",
    "Plot the emittance evolution in both x and y planes for all the different ayy values, for all the different sets of noise kicks. For each set of noise kick the avergae over the usually three different runs is used. **The objective is to see the impact of the different noise kicks sequence depending on the tune spread value.**\n",
    "\n",
    "The impact is expected to be large for small tune spreads and insignificant for large tune spread values.\n",
    "\n",
    "Note: If the number of ayy is odd, then the last value is not plotted for the figure to be symmetric :P. "
   ]
  },
  {
   "cell_type": "code",
   "execution_count": 1,
   "metadata": {},
   "outputs": [],
   "source": [
    "import os, sys\n",
    "import csv\n",
    "import numpy as np\n",
    "import pandas as pd"
   ]
  },
  {
   "cell_type": "markdown",
   "metadata": {},
   "source": [
    "#### 1) Load the data\n",
    "a) Give the paths to the data folder\n",
    "\n",
    "b) Load the values of the transverse emittances in lists."
   ]
  },
  {
   "cell_type": "code",
   "execution_count": 2,
   "metadata": {},
   "outputs": [],
   "source": [
    "n_sets = 20\n",
    "n_runs = 3 # number of runs that the simulation was repeated\n",
    "n_turns = int(1e5)            # number of cycles to run the simulation for\n",
    "decTurns = int(100)           # how often to record data\n",
    "circumference  = 6911.5623 # [m]\n",
    "f_rev  = 299792458/circumference  # [Hz] The revolution frequency of the machine \n",
    "separationTime = 1 / f_rev * decTurns #There are decTurns revolutions before each recording of data\n",
    "tspan = (np.arange(n_turns / decTurns) + 1.0) * separationTime #total time spanned by the simulation"
   ]
  },
  {
   "cell_type": "code",
   "execution_count": 8,
   "metadata": {},
   "outputs": [
    {
     "name": "stdout",
     "output_type": "stream",
     "text": [
      "[-20000.0, -18000.0, -16000.0, -14000.0, -12000.0, -10000.0, -8000.0, -6000.0, -4000.0, -2000.0, 0.0, 2000.0, 4000.0, 6000.0, 8000.0, 10000.0, 12000.0, 14000.0, 16000.0, 18000.0, 20000.0]\n"
     ]
    }
   ],
   "source": [
    "my_start = -2e4  \n",
    "my_stop = 2.01e4 \n",
    "my_step = 2000.0\n",
    "\n",
    "my_variables = list(np.arange(my_start, my_stop, my_step)) # for ayy scan\n",
    "#my_variables = list(np.linspace(0.0, 5.0e10, 25)) #for intensity scan\n",
    "\n",
    "#my_variables = [0.0]\n",
    "#my_variables.insert(0,0.0)\n",
    "print(my_variables)"
   ]
  },
  {
   "cell_type": "code",
   "execution_count": 22,
   "metadata": {},
   "outputs": [],
   "source": [
    "path2octupoles_matching_data  = '/home/natalia/PhD_projects/exploring_SPS/match_octupoles/'\n",
    "#study_list_optionA = ['matching_results_constraintaxy0_b3b5b7_QpxQpy1_negativeayy.pkl', 'matching_results_constraintaxy0_b3b5b7_QpxQpy1_positiveayy.pkl']\n",
    "study_list_option = ['matching_results_Noconstraintaxy_nob3b5b7_QpxQpy1_negativeayy.pkl', 'matching_results_Noconstraintaxy_nob3b5b7_QpxQpy1_positiveayy.pkl']\n"
   ]
  },
  {
   "cell_type": "code",
   "execution_count": 31,
   "metadata": {},
   "outputs": [],
   "source": [
    "axy_list, ayy_list = [], []\n",
    "for study in study_list_option:\n",
    "    df = pd.read_pickle(path2octupoles_matching_data+study)\n",
    "    axy_temp = np.array(df.axy)\n",
    "    ayy_temp = np.array(df.ayy)\n",
    "    if study == study_list_option[0]:\n",
    "        axy_temp = axy_temp[1:]\n",
    "        ayy_temp = ayy_temp[1:]\n",
    "        axy_temp = axy_temp[::-1]\n",
    "        ayy_temp = ayy_temp[::-1]\n",
    "\n",
    "    for i in range(len(axy_temp)):\n",
    "        if i ==0 and study ==study_list_option[1] :\n",
    "            axy_list.append(axy_temp[i])\n",
    "            ayy_list.append(ayy_temp[i])\n",
    "        else:\n",
    "            axy_list.append(axy_temp[i][0])\n",
    "            ayy_list.append(ayy_temp[i][0])\n"
   ]
  },
  {
   "cell_type": "code",
   "execution_count": 30,
   "metadata": {},
   "outputs": [
    {
     "data": {
      "text/plain": [
       "[10125.689436101424,\n",
       " 9064.611436920046,\n",
       " 8003.533437739376,\n",
       " 6942.455438557571,\n",
       " 5881.377439376555,\n",
       " 4820.299440195696,\n",
       " 3759.221440923928,\n",
       " 2698.1434417657215,\n",
       " 1637.0654426073284,\n",
       " 575.9874434488871,\n",
       " -485.0905557095494,\n",
       " -1546.1685548678593,\n",
       " -2607.2465540262056,\n",
       " -3668.3245531847306,\n",
       " -4729.40255234301,\n",
       " -5790.480551615485,\n",
       " -6851.5585507963615,\n",
       " -7912.636549977618,\n",
       " -8973.714549158414,\n",
       " -10034.792548339725,\n",
       " -11095.870547521337]"
      ]
     },
     "execution_count": 30,
     "metadata": {},
     "output_type": "execute_result"
    }
   ],
   "source": [
    "axy_list"
   ]
  },
  {
   "cell_type": "code",
   "execution_count": 32,
   "metadata": {},
   "outputs": [],
   "source": [
    "path_to_data = '/afs/cern.ch/work/n/natriant/private/pyheadtail_example_crabcavity/'\n",
    "study_name = 'sps_270GeV_PN1e-8_400MHz_y-plane_WakesON_QpxQpy1_6D_Nb5e5_intensity3e10_ayy'\n",
    "#study_name = 'sps_270GeV_PN1e-8_400MHz_x-plane_WakesON_ayy1500_QpxQpy1_6D_Nb5e5_intensity'\n",
    "noise_type = 'PN'"
   ]
  },
  {
   "cell_type": "markdown",
   "metadata": {},
   "source": [
    "### Load the data, and for each Set average over the three runs"
   ]
  },
  {
   "cell_type": "code",
   "execution_count": 34,
   "metadata": {},
   "outputs": [
    {
     "name": "stdout",
     "output_type": "stream",
     "text": [
      "-20000.0\n",
      "OS error: /afs/cern.ch/work/n/natriant/private/pyheadtail_example_crabcavity/sps_270GeV_PN1e-8_400MHz_y-plane_WakesON_QpxQpy1_6D_Nb5e5_intensity3e10_ayy-20000.00_axy10125.689436101424_fixedKicksSet0_run0/file.txt not found.\n",
      "OS error: /afs/cern.ch/work/n/natriant/private/pyheadtail_example_crabcavity/sps_270GeV_PN1e-8_400MHz_y-plane_WakesON_QpxQpy1_6D_Nb5e5_intensity3e10_ayy-20000.00_axy10125.689436101424_fixedKicksSet0_run1/file.txt not found.\n",
      "OS error: /afs/cern.ch/work/n/natriant/private/pyheadtail_example_crabcavity/sps_270GeV_PN1e-8_400MHz_y-plane_WakesON_QpxQpy1_6D_Nb5e5_intensity3e10_ayy-20000.00_axy10125.689436101424_fixedKicksSet0_run2/file.txt not found.\n",
      "OS error: /afs/cern.ch/work/n/natriant/private/pyheadtail_example_crabcavity/sps_270GeV_PN1e-8_400MHz_y-plane_WakesON_QpxQpy1_6D_Nb5e5_intensity3e10_ayy-20000.00_axy10125.689436101424_fixedKicksSet1_run0/file.txt not found.\n",
      "OS error: /afs/cern.ch/work/n/natriant/private/pyheadtail_example_crabcavity/sps_270GeV_PN1e-8_400MHz_y-plane_WakesON_QpxQpy1_6D_Nb5e5_intensity3e10_ayy-20000.00_axy10125.689436101424_fixedKicksSet1_run1/file.txt not found.\n",
      "OS error: /afs/cern.ch/work/n/natriant/private/pyheadtail_example_crabcavity/sps_270GeV_PN1e-8_400MHz_y-plane_WakesON_QpxQpy1_6D_Nb5e5_intensity3e10_ayy-20000.00_axy10125.689436101424_fixedKicksSet1_run2/file.txt not found.\n",
      "OS error: /afs/cern.ch/work/n/natriant/private/pyheadtail_example_crabcavity/sps_270GeV_PN1e-8_400MHz_y-plane_WakesON_QpxQpy1_6D_Nb5e5_intensity3e10_ayy-20000.00_axy10125.689436101424_fixedKicksSet2_run0/file.txt not found.\n",
      "OS error: /afs/cern.ch/work/n/natriant/private/pyheadtail_example_crabcavity/sps_270GeV_PN1e-8_400MHz_y-plane_WakesON_QpxQpy1_6D_Nb5e5_intensity3e10_ayy-20000.00_axy10125.689436101424_fixedKicksSet2_run1/file.txt not found.\n",
      "OS error: /afs/cern.ch/work/n/natriant/private/pyheadtail_example_crabcavity/sps_270GeV_PN1e-8_400MHz_y-plane_WakesON_QpxQpy1_6D_Nb5e5_intensity3e10_ayy-20000.00_axy10125.689436101424_fixedKicksSet2_run2/file.txt not found.\n",
      "OS error: /afs/cern.ch/work/n/natriant/private/pyheadtail_example_crabcavity/sps_270GeV_PN1e-8_400MHz_y-plane_WakesON_QpxQpy1_6D_Nb5e5_intensity3e10_ayy-20000.00_axy10125.689436101424_fixedKicksSet3_run0/file.txt not found.\n",
      "OS error: /afs/cern.ch/work/n/natriant/private/pyheadtail_example_crabcavity/sps_270GeV_PN1e-8_400MHz_y-plane_WakesON_QpxQpy1_6D_Nb5e5_intensity3e10_ayy-20000.00_axy10125.689436101424_fixedKicksSet3_run1/file.txt not found.\n",
      "OS error: /afs/cern.ch/work/n/natriant/private/pyheadtail_example_crabcavity/sps_270GeV_PN1e-8_400MHz_y-plane_WakesON_QpxQpy1_6D_Nb5e5_intensity3e10_ayy-20000.00_axy10125.689436101424_fixedKicksSet3_run2/file.txt not found.\n",
      "OS error: /afs/cern.ch/work/n/natriant/private/pyheadtail_example_crabcavity/sps_270GeV_PN1e-8_400MHz_y-plane_WakesON_QpxQpy1_6D_Nb5e5_intensity3e10_ayy-20000.00_axy10125.689436101424_fixedKicksSet4_run0/file.txt not found.\n",
      "OS error: /afs/cern.ch/work/n/natriant/private/pyheadtail_example_crabcavity/sps_270GeV_PN1e-8_400MHz_y-plane_WakesON_QpxQpy1_6D_Nb5e5_intensity3e10_ayy-20000.00_axy10125.689436101424_fixedKicksSet4_run1/file.txt not found.\n",
      "OS error: /afs/cern.ch/work/n/natriant/private/pyheadtail_example_crabcavity/sps_270GeV_PN1e-8_400MHz_y-plane_WakesON_QpxQpy1_6D_Nb5e5_intensity3e10_ayy-20000.00_axy10125.689436101424_fixedKicksSet4_run2/file.txt not found.\n",
      "OS error: /afs/cern.ch/work/n/natriant/private/pyheadtail_example_crabcavity/sps_270GeV_PN1e-8_400MHz_y-plane_WakesON_QpxQpy1_6D_Nb5e5_intensity3e10_ayy-20000.00_axy10125.689436101424_fixedKicksSet5_run0/file.txt not found.\n",
      "OS error: /afs/cern.ch/work/n/natriant/private/pyheadtail_example_crabcavity/sps_270GeV_PN1e-8_400MHz_y-plane_WakesON_QpxQpy1_6D_Nb5e5_intensity3e10_ayy-20000.00_axy10125.689436101424_fixedKicksSet5_run1/file.txt not found.\n",
      "OS error: /afs/cern.ch/work/n/natriant/private/pyheadtail_example_crabcavity/sps_270GeV_PN1e-8_400MHz_y-plane_WakesON_QpxQpy1_6D_Nb5e5_intensity3e10_ayy-20000.00_axy10125.689436101424_fixedKicksSet5_run2/file.txt not found.\n",
      "OS error: /afs/cern.ch/work/n/natriant/private/pyheadtail_example_crabcavity/sps_270GeV_PN1e-8_400MHz_y-plane_WakesON_QpxQpy1_6D_Nb5e5_intensity3e10_ayy-20000.00_axy10125.689436101424_fixedKicksSet6_run0/file.txt not found.\n",
      "OS error: /afs/cern.ch/work/n/natriant/private/pyheadtail_example_crabcavity/sps_270GeV_PN1e-8_400MHz_y-plane_WakesON_QpxQpy1_6D_Nb5e5_intensity3e10_ayy-20000.00_axy10125.689436101424_fixedKicksSet6_run1/file.txt not found.\n",
      "OS error: /afs/cern.ch/work/n/natriant/private/pyheadtail_example_crabcavity/sps_270GeV_PN1e-8_400MHz_y-plane_WakesON_QpxQpy1_6D_Nb5e5_intensity3e10_ayy-20000.00_axy10125.689436101424_fixedKicksSet6_run2/file.txt not found.\n",
      "OS error: /afs/cern.ch/work/n/natriant/private/pyheadtail_example_crabcavity/sps_270GeV_PN1e-8_400MHz_y-plane_WakesON_QpxQpy1_6D_Nb5e5_intensity3e10_ayy-20000.00_axy10125.689436101424_fixedKicksSet7_run0/file.txt not found.\n",
      "OS error: /afs/cern.ch/work/n/natriant/private/pyheadtail_example_crabcavity/sps_270GeV_PN1e-8_400MHz_y-plane_WakesON_QpxQpy1_6D_Nb5e5_intensity3e10_ayy-20000.00_axy10125.689436101424_fixedKicksSet7_run1/file.txt not found.\n",
      "OS error: /afs/cern.ch/work/n/natriant/private/pyheadtail_example_crabcavity/sps_270GeV_PN1e-8_400MHz_y-plane_WakesON_QpxQpy1_6D_Nb5e5_intensity3e10_ayy-20000.00_axy10125.689436101424_fixedKicksSet7_run2/file.txt not found.\n",
      "OS error: /afs/cern.ch/work/n/natriant/private/pyheadtail_example_crabcavity/sps_270GeV_PN1e-8_400MHz_y-plane_WakesON_QpxQpy1_6D_Nb5e5_intensity3e10_ayy-20000.00_axy10125.689436101424_fixedKicksSet8_run0/file.txt not found.\n",
      "OS error: /afs/cern.ch/work/n/natriant/private/pyheadtail_example_crabcavity/sps_270GeV_PN1e-8_400MHz_y-plane_WakesON_QpxQpy1_6D_Nb5e5_intensity3e10_ayy-20000.00_axy10125.689436101424_fixedKicksSet8_run1/file.txt not found.\n",
      "OS error: /afs/cern.ch/work/n/natriant/private/pyheadtail_example_crabcavity/sps_270GeV_PN1e-8_400MHz_y-plane_WakesON_QpxQpy1_6D_Nb5e5_intensity3e10_ayy-20000.00_axy10125.689436101424_fixedKicksSet8_run2/file.txt not found.\n",
      "OS error: /afs/cern.ch/work/n/natriant/private/pyheadtail_example_crabcavity/sps_270GeV_PN1e-8_400MHz_y-plane_WakesON_QpxQpy1_6D_Nb5e5_intensity3e10_ayy-20000.00_axy10125.689436101424_fixedKicksSet9_run0/file.txt not found.\n",
      "OS error: /afs/cern.ch/work/n/natriant/private/pyheadtail_example_crabcavity/sps_270GeV_PN1e-8_400MHz_y-plane_WakesON_QpxQpy1_6D_Nb5e5_intensity3e10_ayy-20000.00_axy10125.689436101424_fixedKicksSet9_run1/file.txt not found.\n",
      "OS error: /afs/cern.ch/work/n/natriant/private/pyheadtail_example_crabcavity/sps_270GeV_PN1e-8_400MHz_y-plane_WakesON_QpxQpy1_6D_Nb5e5_intensity3e10_ayy-20000.00_axy10125.689436101424_fixedKicksSet9_run2/file.txt not found.\n",
      "OS error: /afs/cern.ch/work/n/natriant/private/pyheadtail_example_crabcavity/sps_270GeV_PN1e-8_400MHz_y-plane_WakesON_QpxQpy1_6D_Nb5e5_intensity3e10_ayy-20000.00_axy10125.689436101424_fixedKicksSet10_run0/file.txt not found.\n",
      "OS error: /afs/cern.ch/work/n/natriant/private/pyheadtail_example_crabcavity/sps_270GeV_PN1e-8_400MHz_y-plane_WakesON_QpxQpy1_6D_Nb5e5_intensity3e10_ayy-20000.00_axy10125.689436101424_fixedKicksSet10_run1/file.txt not found.\n",
      "OS error: /afs/cern.ch/work/n/natriant/private/pyheadtail_example_crabcavity/sps_270GeV_PN1e-8_400MHz_y-plane_WakesON_QpxQpy1_6D_Nb5e5_intensity3e10_ayy-20000.00_axy10125.689436101424_fixedKicksSet10_run2/file.txt not found.\n",
      "OS error: /afs/cern.ch/work/n/natriant/private/pyheadtail_example_crabcavity/sps_270GeV_PN1e-8_400MHz_y-plane_WakesON_QpxQpy1_6D_Nb5e5_intensity3e10_ayy-20000.00_axy10125.689436101424_fixedKicksSet11_run0/file.txt not found.\n",
      "OS error: /afs/cern.ch/work/n/natriant/private/pyheadtail_example_crabcavity/sps_270GeV_PN1e-8_400MHz_y-plane_WakesON_QpxQpy1_6D_Nb5e5_intensity3e10_ayy-20000.00_axy10125.689436101424_fixedKicksSet11_run1/file.txt not found.\n",
      "OS error: /afs/cern.ch/work/n/natriant/private/pyheadtail_example_crabcavity/sps_270GeV_PN1e-8_400MHz_y-plane_WakesON_QpxQpy1_6D_Nb5e5_intensity3e10_ayy-20000.00_axy10125.689436101424_fixedKicksSet11_run2/file.txt not found.\n",
      "OS error: /afs/cern.ch/work/n/natriant/private/pyheadtail_example_crabcavity/sps_270GeV_PN1e-8_400MHz_y-plane_WakesON_QpxQpy1_6D_Nb5e5_intensity3e10_ayy-20000.00_axy10125.689436101424_fixedKicksSet12_run0/file.txt not found.\n"
     ]
    },
    {
     "name": "stdout",
     "output_type": "stream",
     "text": [
      "OS error: /afs/cern.ch/work/n/natriant/private/pyheadtail_example_crabcavity/sps_270GeV_PN1e-8_400MHz_y-plane_WakesON_QpxQpy1_6D_Nb5e5_intensity3e10_ayy-20000.00_axy10125.689436101424_fixedKicksSet12_run1/file.txt not found.\n",
      "OS error: /afs/cern.ch/work/n/natriant/private/pyheadtail_example_crabcavity/sps_270GeV_PN1e-8_400MHz_y-plane_WakesON_QpxQpy1_6D_Nb5e5_intensity3e10_ayy-20000.00_axy10125.689436101424_fixedKicksSet12_run2/file.txt not found.\n",
      "OS error: /afs/cern.ch/work/n/natriant/private/pyheadtail_example_crabcavity/sps_270GeV_PN1e-8_400MHz_y-plane_WakesON_QpxQpy1_6D_Nb5e5_intensity3e10_ayy-20000.00_axy10125.689436101424_fixedKicksSet13_run0/file.txt not found.\n",
      "OS error: /afs/cern.ch/work/n/natriant/private/pyheadtail_example_crabcavity/sps_270GeV_PN1e-8_400MHz_y-plane_WakesON_QpxQpy1_6D_Nb5e5_intensity3e10_ayy-20000.00_axy10125.689436101424_fixedKicksSet13_run1/file.txt not found.\n",
      "OS error: /afs/cern.ch/work/n/natriant/private/pyheadtail_example_crabcavity/sps_270GeV_PN1e-8_400MHz_y-plane_WakesON_QpxQpy1_6D_Nb5e5_intensity3e10_ayy-20000.00_axy10125.689436101424_fixedKicksSet13_run2/file.txt not found.\n",
      "OS error: /afs/cern.ch/work/n/natriant/private/pyheadtail_example_crabcavity/sps_270GeV_PN1e-8_400MHz_y-plane_WakesON_QpxQpy1_6D_Nb5e5_intensity3e10_ayy-20000.00_axy10125.689436101424_fixedKicksSet14_run0/file.txt not found.\n",
      "OS error: /afs/cern.ch/work/n/natriant/private/pyheadtail_example_crabcavity/sps_270GeV_PN1e-8_400MHz_y-plane_WakesON_QpxQpy1_6D_Nb5e5_intensity3e10_ayy-20000.00_axy10125.689436101424_fixedKicksSet14_run1/file.txt not found.\n",
      "OS error: /afs/cern.ch/work/n/natriant/private/pyheadtail_example_crabcavity/sps_270GeV_PN1e-8_400MHz_y-plane_WakesON_QpxQpy1_6D_Nb5e5_intensity3e10_ayy-20000.00_axy10125.689436101424_fixedKicksSet14_run2/file.txt not found.\n",
      "OS error: /afs/cern.ch/work/n/natriant/private/pyheadtail_example_crabcavity/sps_270GeV_PN1e-8_400MHz_y-plane_WakesON_QpxQpy1_6D_Nb5e5_intensity3e10_ayy-20000.00_axy10125.689436101424_fixedKicksSet15_run0/file.txt not found.\n",
      "OS error: /afs/cern.ch/work/n/natriant/private/pyheadtail_example_crabcavity/sps_270GeV_PN1e-8_400MHz_y-plane_WakesON_QpxQpy1_6D_Nb5e5_intensity3e10_ayy-20000.00_axy10125.689436101424_fixedKicksSet15_run1/file.txt not found.\n",
      "OS error: /afs/cern.ch/work/n/natriant/private/pyheadtail_example_crabcavity/sps_270GeV_PN1e-8_400MHz_y-plane_WakesON_QpxQpy1_6D_Nb5e5_intensity3e10_ayy-20000.00_axy10125.689436101424_fixedKicksSet15_run2/file.txt not found.\n",
      "OS error: /afs/cern.ch/work/n/natriant/private/pyheadtail_example_crabcavity/sps_270GeV_PN1e-8_400MHz_y-plane_WakesON_QpxQpy1_6D_Nb5e5_intensity3e10_ayy-20000.00_axy10125.689436101424_fixedKicksSet16_run0/file.txt not found.\n",
      "OS error: /afs/cern.ch/work/n/natriant/private/pyheadtail_example_crabcavity/sps_270GeV_PN1e-8_400MHz_y-plane_WakesON_QpxQpy1_6D_Nb5e5_intensity3e10_ayy-20000.00_axy10125.689436101424_fixedKicksSet16_run1/file.txt not found.\n",
      "OS error: /afs/cern.ch/work/n/natriant/private/pyheadtail_example_crabcavity/sps_270GeV_PN1e-8_400MHz_y-plane_WakesON_QpxQpy1_6D_Nb5e5_intensity3e10_ayy-20000.00_axy10125.689436101424_fixedKicksSet16_run2/file.txt not found.\n",
      "OS error: /afs/cern.ch/work/n/natriant/private/pyheadtail_example_crabcavity/sps_270GeV_PN1e-8_400MHz_y-plane_WakesON_QpxQpy1_6D_Nb5e5_intensity3e10_ayy-20000.00_axy10125.689436101424_fixedKicksSet17_run0/file.txt not found.\n",
      "OS error: /afs/cern.ch/work/n/natriant/private/pyheadtail_example_crabcavity/sps_270GeV_PN1e-8_400MHz_y-plane_WakesON_QpxQpy1_6D_Nb5e5_intensity3e10_ayy-20000.00_axy10125.689436101424_fixedKicksSet17_run1/file.txt not found.\n",
      "OS error: /afs/cern.ch/work/n/natriant/private/pyheadtail_example_crabcavity/sps_270GeV_PN1e-8_400MHz_y-plane_WakesON_QpxQpy1_6D_Nb5e5_intensity3e10_ayy-20000.00_axy10125.689436101424_fixedKicksSet17_run2/file.txt not found.\n",
      "OS error: /afs/cern.ch/work/n/natriant/private/pyheadtail_example_crabcavity/sps_270GeV_PN1e-8_400MHz_y-plane_WakesON_QpxQpy1_6D_Nb5e5_intensity3e10_ayy-20000.00_axy10125.689436101424_fixedKicksSet18_run0/file.txt not found.\n",
      "OS error: /afs/cern.ch/work/n/natriant/private/pyheadtail_example_crabcavity/sps_270GeV_PN1e-8_400MHz_y-plane_WakesON_QpxQpy1_6D_Nb5e5_intensity3e10_ayy-20000.00_axy10125.689436101424_fixedKicksSet18_run1/file.txt not found.\n",
      "OS error: /afs/cern.ch/work/n/natriant/private/pyheadtail_example_crabcavity/sps_270GeV_PN1e-8_400MHz_y-plane_WakesON_QpxQpy1_6D_Nb5e5_intensity3e10_ayy-20000.00_axy10125.689436101424_fixedKicksSet18_run2/file.txt not found.\n",
      "OS error: /afs/cern.ch/work/n/natriant/private/pyheadtail_example_crabcavity/sps_270GeV_PN1e-8_400MHz_y-plane_WakesON_QpxQpy1_6D_Nb5e5_intensity3e10_ayy-20000.00_axy10125.689436101424_fixedKicksSet19_run0/file.txt not found.\n",
      "OS error: /afs/cern.ch/work/n/natriant/private/pyheadtail_example_crabcavity/sps_270GeV_PN1e-8_400MHz_y-plane_WakesON_QpxQpy1_6D_Nb5e5_intensity3e10_ayy-20000.00_axy10125.689436101424_fixedKicksSet19_run1/file.txt not found.\n",
      "OS error: /afs/cern.ch/work/n/natriant/private/pyheadtail_example_crabcavity/sps_270GeV_PN1e-8_400MHz_y-plane_WakesON_QpxQpy1_6D_Nb5e5_intensity3e10_ayy-20000.00_axy10125.689436101424_fixedKicksSet19_run2/file.txt not found.\n",
      "-18000.0\n",
      "-16000.0\n",
      "-14000.0\n",
      "-12000.0\n",
      "-10000.0\n",
      "-8000.0\n",
      "-6000.0\n",
      "-4000.0\n",
      "-2000.0\n",
      "0.0\n",
      "OS error: /afs/cern.ch/work/n/natriant/private/pyheadtail_example_crabcavity/sps_270GeV_PN1e-8_400MHz_y-plane_WakesON_QpxQpy1_6D_Nb5e5_intensity3e10_ayy0.00_axy-485.0905557095494_fixedKicksSet8_run1/file.txt not found.\n",
      "2000.0\n",
      "4000.0\n",
      "6000.0\n",
      "8000.0\n",
      "10000.0\n",
      "12000.0\n",
      "14000.0\n",
      "16000.0\n",
      "18000.0\n",
      "20000.0\n"
     ]
    }
   ],
   "source": [
    "ex_mean_dict, ey_mean_dict = {}, {} # type: dictionary\n",
    "ex_std_dict, ey_std_dict = {}, {} # type: dictionary\n",
    "\n",
    "\n",
    "for i, var in enumerate(my_variables):\n",
    "    print(var)\n",
    "    for my_set in range(n_sets):\n",
    "        #print(var, my_set)\n",
    "        temp_name = f'{var}_set{my_set}'\n",
    "        ex_mean, ey_mean = [], []\n",
    "        for run in range(n_runs):\n",
    "            try: # test if file doesn't exist\n",
    "                meanX, meanY, meanXsq, meanYsq, emitX, emitY = np.loadtxt(path_to_data+f'{study_name}{var:.2f}_axy{axy_list[i]}_fixedKicksSet{my_set}_run{run}/file.txt', delimiter = \",\", unpack = True)\n",
    "                #meanX, meanY, meanXsq, meanYsq, emitX, emitY = np.loadtxt(path_to_data+f'{study_name}{var/1e10:.2f}e10_fixedKicksSet{my_set}_run{run}/file.txt', delimiter = \",\", unpack = True)\n",
    "                \n",
    "                # B1. Create a different list for each run and save the emittance values\n",
    "                ex_mean.append(emitX)\n",
    "                ey_mean.append(emitY)\n",
    "            except OSError as err:\n",
    "                print(\"OS error: {0}\".format(err))\n",
    "                #ex_dict[temp_name] = np.zeros(len(tspan)) \n",
    "                #ey_dict[temp_name] = np.zeros(len(tspan))\n",
    "        ex_mean_dict[temp_name] = np.mean(ex_mean, axis=0)\n",
    "        ey_mean_dict[temp_name] = np.mean(ey_mean, axis=0)\n",
    "        ex_std_dict[temp_name] = np.std(ex_mean, axis=0)\n",
    "        ey_std_dict[temp_name] = np.std(ey_mean, axis=0)    \n",
    "        "
   ]
  },
  {
   "cell_type": "markdown",
   "metadata": {},
   "source": [
    "### Do a polynomial fit (deg=1), y-plane only"
   ]
  },
  {
   "cell_type": "code",
   "execution_count": 35,
   "metadata": {},
   "outputs": [
    {
     "name": "stdout",
     "output_type": "stream",
     "text": [
      "-20000.0_<class 'set'>\n",
      "-20000.0_<class 'set'>\n",
      "-20000.0_<class 'set'>\n",
      "-20000.0_<class 'set'>\n",
      "-20000.0_<class 'set'>\n",
      "-20000.0_<class 'set'>\n",
      "-20000.0_<class 'set'>\n",
      "-20000.0_<class 'set'>\n",
      "-20000.0_<class 'set'>\n",
      "-20000.0_<class 'set'>\n",
      "-20000.0_<class 'set'>\n",
      "-20000.0_<class 'set'>\n",
      "-20000.0_<class 'set'>\n",
      "-20000.0_<class 'set'>\n",
      "-20000.0_<class 'set'>\n",
      "-20000.0_<class 'set'>\n",
      "-20000.0_<class 'set'>\n",
      "-20000.0_<class 'set'>\n",
      "-20000.0_<class 'set'>\n",
      "-20000.0_<class 'set'>\n"
     ]
    }
   ],
   "source": [
    "m_dict = {} # slope of the fit\n",
    "b_dict = {} # offset\n",
    "err_dict = {} # error of the gradient of the fit slope\n",
    "\n",
    "for var in my_variables:\n",
    "    m_dict[f'{var}'], b_dict[f'{var}'], err_dict[f'{var}'] = [], [], []\n",
    "    for my_set in range(n_sets):\n",
    "        try:\n",
    "            temp_name = f'{var}_set{my_set}'\n",
    "            # linear fit\n",
    "            [m, b], cov = np.polyfit(tspan, ey_mean_dict[temp_name], 1, cov=True)\n",
    "            # compute the error of the gradient of the fit slope\n",
    "            err= np.sqrt(np.diag(cov))\n",
    "            m_dict[f'{var}'].append(m) # len(m_dict[f'{var}']) = n_runs\n",
    "            b_dict[f'{var}'].append(b)\n",
    "            err_dict[f'{var}'].append(err[0])\n",
    "        except: \n",
    "            print(f'{var}_{set}')"
   ]
  },
  {
   "cell_type": "markdown",
   "metadata": {},
   "source": [
    "### Format the computed growth rates in a Data Frame"
   ]
  },
  {
   "cell_type": "code",
   "execution_count": 36,
   "metadata": {},
   "outputs": [],
   "source": [
    "data = {}\n",
    "for var in my_variables:\n",
    "    data[f'ayy_{var}'] =[m_dict[f'{var}'], b_dict[f'{var}'], err_dict[f'{var}']]\n",
    "    #data[f'intensity_{var/1e10:.1f}e10'] =[m_dict[f'{var}'], b_dict[f'{var}'], err_dict[f'{var}']]\n",
    "df = pd.DataFrame(data, index=['m','b','err'])\n",
    "\n",
    "filename = f'deyRates_{study_name}Scan.pkl'\n",
    "if not os.path.exists(filename):\n",
    "    df.to_pickle(filename)"
   ]
  },
  {
   "cell_type": "code",
   "execution_count": null,
   "metadata": {},
   "outputs": [],
   "source": []
  },
  {
   "cell_type": "code",
   "execution_count": 16,
   "metadata": {},
   "outputs": [
    {
     "ename": "NameError",
     "evalue": "name 'df_keys' is not defined",
     "output_type": "error",
     "traceback": [
      "\u001b[0;31m---------------------------------------------------------------------------\u001b[0m",
      "\u001b[0;31mNameError\u001b[0m                                 Traceback (most recent call last)",
      "\u001b[0;32m<ipython-input-16-8d994e0ed5e6>\u001b[0m in \u001b[0;36m<module>\u001b[0;34m\u001b[0m\n\u001b[0;32m----> 1\u001b[0;31m \u001b[0mnp\u001b[0m\u001b[0;34m.\u001b[0m\u001b[0mmean\u001b[0m\u001b[0;34m(\u001b[0m\u001b[0mdf\u001b[0m\u001b[0;34m[\u001b[0m\u001b[0mdf_keys\u001b[0m\u001b[0;34m[\u001b[0m\u001b[0;36m0\u001b[0m\u001b[0;34m]\u001b[0m\u001b[0;34m]\u001b[0m\u001b[0;34m[\u001b[0m\u001b[0;34m'm'\u001b[0m\u001b[0;34m]\u001b[0m\u001b[0;34m)\u001b[0m\u001b[0;34m*\u001b[0m\u001b[0;36m1e9\u001b[0m\u001b[0;34m,\u001b[0m\u001b[0;34m\u001b[0m\u001b[0;34m\u001b[0m\u001b[0m\n\u001b[0m",
      "\u001b[0;31mNameError\u001b[0m: name 'df_keys' is not defined"
     ]
    }
   ],
   "source": [
    "np.mean(df[df_keys[0]]['m'])*1e9,"
   ]
  },
  {
   "cell_type": "code",
   "execution_count": null,
   "metadata": {},
   "outputs": [],
   "source": []
  }
 ],
 "metadata": {
  "kernelspec": {
   "display_name": "Python 3",
   "language": "python",
   "name": "python3"
  },
  "language_info": {
   "codemirror_mode": {
    "name": "ipython",
    "version": 3
   },
   "file_extension": ".py",
   "mimetype": "text/x-python",
   "name": "python",
   "nbconvert_exporter": "python",
   "pygments_lexer": "ipython3",
   "version": "3.7.6"
  }
 },
 "nbformat": 4,
 "nbformat_minor": 4
}
