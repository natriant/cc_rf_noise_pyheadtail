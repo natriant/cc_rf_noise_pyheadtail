{
 "cells": [
  {
   "cell_type": "code",
   "execution_count": 27,
   "metadata": {},
   "outputs": [],
   "source": [
    "import sys\n",
    "sys.path.append('../../../utils/')\n",
    "from cmptTheoreticalEmitGrowth import *\n",
    "from bunchLengthConversions import *\n",
    "from coordinatesConversions import *\n",
    "from cmpt_TuneSpreads import *\n",
    "\n",
    "import numpy as np\n",
    "import pickle\n",
    "import pandas as pd\n",
    "import matplotlib.pyplot as plt"
   ]
  },
  {
   "cell_type": "markdown",
   "metadata": {},
   "source": [
    "### Plotting parameters"
   ]
  },
  {
   "cell_type": "code",
   "execution_count": 28,
   "metadata": {},
   "outputs": [],
   "source": [
    "params = {'legend.fontsize': 20,\n",
    "          'figure.figsize': (9.5, 8.5),\n",
    "          'axes.labelsize': 27,\n",
    "          'axes.titlesize': 23,\n",
    "          'xtick.labelsize': 27,\n",
    "          'ytick.labelsize': 27,\n",
    "          'image.cmap': 'jet',\n",
    "          'lines.linewidth': 1,\n",
    "          'lines.markersize': 10,\n",
    "          'font.family': 'sans-serif'}\n",
    "\n",
    "plt.rc('text', usetex=False)\n",
    "plt.rc('font', family='serif')\n",
    "plt.rcParams.update(params)"
   ]
  },
  {
   "cell_type": "markdown",
   "metadata": {},
   "source": [
    "### Study parameters"
   ]
  },
  {
   "cell_type": "code",
   "execution_count": 29,
   "metadata": {},
   "outputs": [],
   "source": [
    "n_sets = 20\n",
    "n_turns = int(1e5)            # number of cycles to run the simulation for\n",
    "decTurns = int(100)           # how often to record data\n",
    "circumference  = 6911.5623 # [m]\n",
    "f_rev  = 299792458/circumference  # [Hz] The revolution frequency of the machine \n",
    "separationTime = 1 / f_rev * decTurns #There are decTurns revolutions before each recording of data\n",
    "tspan = (np.arange(n_turns / decTurns) + 1.0) * separationTime #total time spanned by the simulation"
   ]
  },
  {
   "cell_type": "code",
   "execution_count": 30,
   "metadata": {},
   "outputs": [
    {
     "name": "stdout",
     "output_type": "stream",
     "text": [
      "[-20000.0, -18000.0, -16000.0, -14000.0, -12000.0, -10000.0, -8000.0, -6000.0, -4000.0, -2000.0, 0.0, 2000.0, 4000.0, 6000.0, 8000.0, 10000.0, 12000.0, 14000.0, 16000.0, 18000.0, 20000.0]\n",
      "21\n"
     ]
    }
   ],
   "source": [
    "my_start = -2e4  \n",
    "my_stop = 2.01e4 \n",
    "my_step = 2000.0\n",
    "\n",
    "my_variables = list(np.arange(my_start, my_stop, my_step))\n",
    "#my_variables.insert(0,0.0)\n",
    "print(my_variables)\n",
    "print(len(my_variables))"
   ]
  },
  {
   "cell_type": "markdown",
   "metadata": {},
   "source": [
    "### Load the data"
   ]
  },
  {
   "cell_type": "code",
   "execution_count": 31,
   "metadata": {},
   "outputs": [],
   "source": [
    "path_to_data = './'\n",
    "QpxQpy=\"5e-1\"\n",
    "study_name_1 = f'deyRates_sps_270GeV_CC_PN1e-8_1e5turns_5e5Nb_wakefieldsON_complete_500slices_QpxQpy{QpxQpy}_ayyScan'\n",
    "my_df_1 = pickle.load( open(path_to_data+study_name_1+'.pkl', \"rb\" ))\n",
    "noise_type='PN'"
   ]
  },
  {
   "cell_type": "code",
   "execution_count": 32,
   "metadata": {},
   "outputs": [
    {
     "data": {
      "text/html": [
       "<div>\n",
       "<style scoped>\n",
       "    .dataframe tbody tr th:only-of-type {\n",
       "        vertical-align: middle;\n",
       "    }\n",
       "\n",
       "    .dataframe tbody tr th {\n",
       "        vertical-align: top;\n",
       "    }\n",
       "\n",
       "    .dataframe thead th {\n",
       "        text-align: right;\n",
       "    }\n",
       "</style>\n",
       "<table border=\"1\" class=\"dataframe\">\n",
       "  <thead>\n",
       "    <tr style=\"text-align: right;\">\n",
       "      <th></th>\n",
       "      <th>ayy_-20000.0</th>\n",
       "      <th>ayy_-18000.0</th>\n",
       "      <th>ayy_-16000.0</th>\n",
       "      <th>ayy_-14000.0</th>\n",
       "      <th>ayy_-12000.0</th>\n",
       "      <th>ayy_-10000.0</th>\n",
       "      <th>ayy_-8000.0</th>\n",
       "      <th>ayy_-6000.0</th>\n",
       "      <th>ayy_-4000.0</th>\n",
       "      <th>ayy_-2000.0</th>\n",
       "      <th>...</th>\n",
       "      <th>ayy_2000.0</th>\n",
       "      <th>ayy_4000.0</th>\n",
       "      <th>ayy_6000.0</th>\n",
       "      <th>ayy_8000.0</th>\n",
       "      <th>ayy_10000.0</th>\n",
       "      <th>ayy_12000.0</th>\n",
       "      <th>ayy_14000.0</th>\n",
       "      <th>ayy_16000.0</th>\n",
       "      <th>ayy_18000.0</th>\n",
       "      <th>ayy_20000.0</th>\n",
       "    </tr>\n",
       "  </thead>\n",
       "  <tbody>\n",
       "    <tr>\n",
       "      <th>m</th>\n",
       "      <td>[2.3174583681017044e-08, 2.42063303363159e-08,...</td>\n",
       "      <td>[2.2746377318942747e-08, 2.374022067726996e-08...</td>\n",
       "      <td>[2.2800659848449706e-08, 2.446948323732376e-08...</td>\n",
       "      <td>[2.2953829841337e-08, 2.4338770460737947e-08, ...</td>\n",
       "      <td>[2.341629880215109e-08, 2.429914766498663e-08,...</td>\n",
       "      <td>[2.3018404302507184e-08, 2.3069476475286098e-0...</td>\n",
       "      <td>[2.440223081630639e-08, 2.198418783871345e-08,...</td>\n",
       "      <td>[2.264228747839779e-08, 2.121753006523547e-08,...</td>\n",
       "      <td>[1.7780847138167736e-08, 1.8558971945156002e-0...</td>\n",
       "      <td>[1.2204240101752993e-08, 1.1458853091044471e-0...</td>\n",
       "      <td>...</td>\n",
       "      <td>[1.229388171956295e-08, 1.0730671189131652e-08...</td>\n",
       "      <td>[1.3793121247526008e-08, 1.4091957776052257e-0...</td>\n",
       "      <td>[1.5097189755807e-08, 1.3695886567095021e-08, ...</td>\n",
       "      <td>[1.613994673717013e-08, 1.5617331741007246e-08...</td>\n",
       "      <td>[1.609524411301306e-08, 1.7768337033210867e-08...</td>\n",
       "      <td>[1.8703032469436197e-08, 1.6426212147095986e-0...</td>\n",
       "      <td>[1.654920903723169e-08, 1.8635228759677746e-08...</td>\n",
       "      <td>[1.7316836253778032e-08, 1.8688932735252866e-0...</td>\n",
       "      <td>[2.258982303989746e-08, 2.159853720590949e-08,...</td>\n",
       "      <td>[2.3210245975342907e-08, 1.8440866007284152e-0...</td>\n",
       "    </tr>\n",
       "    <tr>\n",
       "      <th>b</th>\n",
       "      <td>[1.9981267987512572e-06, 1.9967350355016303e-0...</td>\n",
       "      <td>[2.00009013116145e-06, 1.996928284183639e-06, ...</td>\n",
       "      <td>[1.9979588030534773e-06, 1.999428345627594e-06...</td>\n",
       "      <td>[2.0019126542993586e-06, 1.999897337739763e-06...</td>\n",
       "      <td>[2.0007061600629922e-06, 1.9932383319008543e-0...</td>\n",
       "      <td>[2.0013429901947897e-06, 1.998368401301733e-06...</td>\n",
       "      <td>[2.000530141720977e-06, 1.9969803710645767e-06...</td>\n",
       "      <td>[2.0032644724842545e-06, 1.9988477960973592e-0...</td>\n",
       "      <td>[1.9986211517199708e-06, 1.996982388145655e-06...</td>\n",
       "      <td>[2.0022274508698803e-06, 1.995791053957404e-06...</td>\n",
       "      <td>...</td>\n",
       "      <td>[2.0041300323413607e-06, 2.0011112096019496e-0...</td>\n",
       "      <td>[1.9989745490820683e-06, 2.001255717013189e-06...</td>\n",
       "      <td>[1.9997787532059203e-06, 1.998717350036887e-06...</td>\n",
       "      <td>[2.0014332186854432e-06, 1.997501179500177e-06...</td>\n",
       "      <td>[1.9974226109599295e-06, 1.9986128799766587e-0...</td>\n",
       "      <td>[1.997160174333702e-06, 1.9990945012660987e-06...</td>\n",
       "      <td>[2.001969174136023e-06, 1.9961426836519386e-06...</td>\n",
       "      <td>[2.0038486550740376e-06, 1.998498665231799e-06...</td>\n",
       "      <td>[2.000190037092093e-06, 2.001614207401114e-06,...</td>\n",
       "      <td>[1.9987573186284457e-06, 1.9990109168890247e-0...</td>\n",
       "    </tr>\n",
       "    <tr>\n",
       "      <th>err</th>\n",
       "      <td>[4.024165127960558e-11, 3.927806918514691e-11,...</td>\n",
       "      <td>[3.706054712880558e-11, 3.654204298234805e-11,...</td>\n",
       "      <td>[4.1501347405100035e-11, 4.4675634755142747e-1...</td>\n",
       "      <td>[4.236048895124463e-11, 5.024803777764083e-11,...</td>\n",
       "      <td>[3.65046252768409e-11, 4.9953973364949713e-11,...</td>\n",
       "      <td>[4.808882923745388e-11, 4.3603909954042e-11, 5...</td>\n",
       "      <td>[5.0345583800535486e-11, 4.627029919872658e-11...</td>\n",
       "      <td>[6.840286324429605e-11, 5.7332990133496545e-11...</td>\n",
       "      <td>[5.95129742601094e-11, 7.177445592733406e-11, ...</td>\n",
       "      <td>[3.713864746732994e-11, 4.271424763168148e-11,...</td>\n",
       "      <td>...</td>\n",
       "      <td>[5.990087148735251e-11, 3.1302507004709234e-11...</td>\n",
       "      <td>[6.451073532887124e-11, 6.897423687687891e-11,...</td>\n",
       "      <td>[4.704480431198309e-11, 3.427190340676375e-11,...</td>\n",
       "      <td>[1.018519671327029e-10, 7.200408493326141e-11,...</td>\n",
       "      <td>[4.8467980779918264e-11, 6.206435681928813e-11...</td>\n",
       "      <td>[3.791012025256898e-11, 7.824628575704743e-11,...</td>\n",
       "      <td>[1.0574644413616257e-10, 5.542221439343164e-11...</td>\n",
       "      <td>[8.872046070311171e-11, 4.153921564783201e-11,...</td>\n",
       "      <td>[1.23138268794627e-10, 1.1165963239875972e-10,...</td>\n",
       "      <td>[5.492155250650898e-11, 6.104230238264764e-11,...</td>\n",
       "    </tr>\n",
       "  </tbody>\n",
       "</table>\n",
       "<p>3 rows × 21 columns</p>\n",
       "</div>"
      ],
      "text/plain": [
       "                                          ayy_-20000.0  \\\n",
       "m    [2.3174583681017044e-08, 2.42063303363159e-08,...   \n",
       "b    [1.9981267987512572e-06, 1.9967350355016303e-0...   \n",
       "err  [4.024165127960558e-11, 3.927806918514691e-11,...   \n",
       "\n",
       "                                          ayy_-18000.0  \\\n",
       "m    [2.2746377318942747e-08, 2.374022067726996e-08...   \n",
       "b    [2.00009013116145e-06, 1.996928284183639e-06, ...   \n",
       "err  [3.706054712880558e-11, 3.654204298234805e-11,...   \n",
       "\n",
       "                                          ayy_-16000.0  \\\n",
       "m    [2.2800659848449706e-08, 2.446948323732376e-08...   \n",
       "b    [1.9979588030534773e-06, 1.999428345627594e-06...   \n",
       "err  [4.1501347405100035e-11, 4.4675634755142747e-1...   \n",
       "\n",
       "                                          ayy_-14000.0  \\\n",
       "m    [2.2953829841337e-08, 2.4338770460737947e-08, ...   \n",
       "b    [2.0019126542993586e-06, 1.999897337739763e-06...   \n",
       "err  [4.236048895124463e-11, 5.024803777764083e-11,...   \n",
       "\n",
       "                                          ayy_-12000.0  \\\n",
       "m    [2.341629880215109e-08, 2.429914766498663e-08,...   \n",
       "b    [2.0007061600629922e-06, 1.9932383319008543e-0...   \n",
       "err  [3.65046252768409e-11, 4.9953973364949713e-11,...   \n",
       "\n",
       "                                          ayy_-10000.0  \\\n",
       "m    [2.3018404302507184e-08, 2.3069476475286098e-0...   \n",
       "b    [2.0013429901947897e-06, 1.998368401301733e-06...   \n",
       "err  [4.808882923745388e-11, 4.3603909954042e-11, 5...   \n",
       "\n",
       "                                           ayy_-8000.0  \\\n",
       "m    [2.440223081630639e-08, 2.198418783871345e-08,...   \n",
       "b    [2.000530141720977e-06, 1.9969803710645767e-06...   \n",
       "err  [5.0345583800535486e-11, 4.627029919872658e-11...   \n",
       "\n",
       "                                           ayy_-6000.0  \\\n",
       "m    [2.264228747839779e-08, 2.121753006523547e-08,...   \n",
       "b    [2.0032644724842545e-06, 1.9988477960973592e-0...   \n",
       "err  [6.840286324429605e-11, 5.7332990133496545e-11...   \n",
       "\n",
       "                                           ayy_-4000.0  \\\n",
       "m    [1.7780847138167736e-08, 1.8558971945156002e-0...   \n",
       "b    [1.9986211517199708e-06, 1.996982388145655e-06...   \n",
       "err  [5.95129742601094e-11, 7.177445592733406e-11, ...   \n",
       "\n",
       "                                           ayy_-2000.0  ...  \\\n",
       "m    [1.2204240101752993e-08, 1.1458853091044471e-0...  ...   \n",
       "b    [2.0022274508698803e-06, 1.995791053957404e-06...  ...   \n",
       "err  [3.713864746732994e-11, 4.271424763168148e-11,...  ...   \n",
       "\n",
       "                                            ayy_2000.0  \\\n",
       "m    [1.229388171956295e-08, 1.0730671189131652e-08...   \n",
       "b    [2.0041300323413607e-06, 2.0011112096019496e-0...   \n",
       "err  [5.990087148735251e-11, 3.1302507004709234e-11...   \n",
       "\n",
       "                                            ayy_4000.0  \\\n",
       "m    [1.3793121247526008e-08, 1.4091957776052257e-0...   \n",
       "b    [1.9989745490820683e-06, 2.001255717013189e-06...   \n",
       "err  [6.451073532887124e-11, 6.897423687687891e-11,...   \n",
       "\n",
       "                                            ayy_6000.0  \\\n",
       "m    [1.5097189755807e-08, 1.3695886567095021e-08, ...   \n",
       "b    [1.9997787532059203e-06, 1.998717350036887e-06...   \n",
       "err  [4.704480431198309e-11, 3.427190340676375e-11,...   \n",
       "\n",
       "                                            ayy_8000.0  \\\n",
       "m    [1.613994673717013e-08, 1.5617331741007246e-08...   \n",
       "b    [2.0014332186854432e-06, 1.997501179500177e-06...   \n",
       "err  [1.018519671327029e-10, 7.200408493326141e-11,...   \n",
       "\n",
       "                                           ayy_10000.0  \\\n",
       "m    [1.609524411301306e-08, 1.7768337033210867e-08...   \n",
       "b    [1.9974226109599295e-06, 1.9986128799766587e-0...   \n",
       "err  [4.8467980779918264e-11, 6.206435681928813e-11...   \n",
       "\n",
       "                                           ayy_12000.0  \\\n",
       "m    [1.8703032469436197e-08, 1.6426212147095986e-0...   \n",
       "b    [1.997160174333702e-06, 1.9990945012660987e-06...   \n",
       "err  [3.791012025256898e-11, 7.824628575704743e-11,...   \n",
       "\n",
       "                                           ayy_14000.0  \\\n",
       "m    [1.654920903723169e-08, 1.8635228759677746e-08...   \n",
       "b    [2.001969174136023e-06, 1.9961426836519386e-06...   \n",
       "err  [1.0574644413616257e-10, 5.542221439343164e-11...   \n",
       "\n",
       "                                           ayy_16000.0  \\\n",
       "m    [1.7316836253778032e-08, 1.8688932735252866e-0...   \n",
       "b    [2.0038486550740376e-06, 1.998498665231799e-06...   \n",
       "err  [8.872046070311171e-11, 4.153921564783201e-11,...   \n",
       "\n",
       "                                           ayy_18000.0  \\\n",
       "m    [2.258982303989746e-08, 2.159853720590949e-08,...   \n",
       "b    [2.000190037092093e-06, 2.001614207401114e-06,...   \n",
       "err  [1.23138268794627e-10, 1.1165963239875972e-10,...   \n",
       "\n",
       "                                           ayy_20000.0  \n",
       "m    [2.3210245975342907e-08, 1.8440866007284152e-0...  \n",
       "b    [1.9987573186284457e-06, 1.9990109168890247e-0...  \n",
       "err  [5.492155250650898e-11, 6.104230238264764e-11,...  \n",
       "\n",
       "[3 rows x 21 columns]"
      ]
     },
     "execution_count": 32,
     "metadata": {},
     "output_type": "execute_result"
    }
   ],
   "source": [
    "my_df_1"
   ]
  },
  {
   "cell_type": "code",
   "execution_count": 33,
   "metadata": {},
   "outputs": [
    {
     "name": "stdout",
     "output_type": "stream",
     "text": [
      "['ayy_-20000.0', 'ayy_-18000.0', 'ayy_-16000.0', 'ayy_-14000.0', 'ayy_-12000.0', 'ayy_-10000.0', 'ayy_-8000.0', 'ayy_-6000.0', 'ayy_-4000.0', 'ayy_-2000.0', 'ayy_0.0', 'ayy_2000.0', 'ayy_4000.0', 'ayy_6000.0', 'ayy_8000.0', 'ayy_10000.0', 'ayy_12000.0', 'ayy_14000.0', 'ayy_16000.0', 'ayy_18000.0', 'ayy_20000.0']\n"
     ]
    }
   ],
   "source": [
    "my_df_keys = list(my_df_1.keys()) # same keys for both data Frames\n",
    "print(my_df_keys)"
   ]
  },
  {
   "cell_type": "markdown",
   "metadata": {},
   "source": [
    "### Compute error bars\n",
    "\n",
    "Let's assume:\n",
    "\n",
    "\\begin{equation}\n",
    "y_1 = a_1 x \\pm err_1 \\\\\n",
    "y_2 = a_2 x \\pm err_2 \\\\\n",
    "y_3 = a_3 x \\pm err_3\n",
    "\\end{equation}\n",
    "\n",
    "where $a_1, a_2, a_3$ is the growth rates obtained from a linear fit on the simulation data and $err_1, err_2, err_3$ the error of the linear fit. \n",
    "\n",
    "\n",
    "Then the systematic error is:\n",
    "\\begin{equation}\n",
    "systematic \\ error = std({a_1, a_2, a_3})\n",
    "\\end{equation}\n",
    "\n",
    "and the statistical errors:\n",
    "\\begin{equation}\n",
    "statistical \\ error = \\sqrt{\\langle {err_1^2, err_2^2. err_3^2} \\rangle} \n",
    "\\end{equation}.\n",
    "\n",
    "The total error is:\n",
    "\n",
    "\\begin{equation}\n",
    "total \\ error = \\sqrt{(systematic \\ error)^2 + (statistical \\ error)^2}\n",
    "\\end{equation}"
   ]
  },
  {
   "cell_type": "code",
   "execution_count": 34,
   "metadata": {},
   "outputs": [
    {
     "data": {
      "image/png": "[encoded data removed]",
      "text/plain": [
       "<Figure size 684x612 with 1 Axes>"
      ]
     },
     "metadata": {
      "needs_background": "light"
     },
     "output_type": "display_data"
    }
   ],
   "source": [
    "for i, key in enumerate(my_df_keys):\n",
    "    \n",
    "    if i ==0:\n",
    "        my_label_1 = 'wakefields OFF'\n",
    "        my_label_2 = 'wakefields, ON'\n",
    "    else:\n",
    "        my_label_1 = my_label_2 = ''\n",
    "        \n",
    "    # errors for study 1\n",
    "    systematic_error_1 = np.std(my_df_1[my_df_keys[i]]['m'])\n",
    "    statistical_error_1 = np.sqrt(np.mean(np.array(my_df_1[my_df_keys[i]]['err'])**2))\n",
    "    total_error_1 = np.sqrt(systematic_error_1**2+statistical_error_1**2)\n",
    "    \n",
    "    plt.errorbar(my_variables[i], np.mean(my_df_1[my_df_keys[i]]['m'])*1e9, yerr=total_error_1*1e9, marker='o',  c='C1', label=my_label_1)\n",
    "#plt.legend(loc=4)\n",
    "\n",
    "#plt.xlim(-200, 16000)\n",
    "plt.ylim(0, 40)\n",
    "plt.grid(linestyle='dashed')\n",
    "plt.ylabel(r'$\\mathrm{d\\epsilon_y / dt \\ (nm/s)}$')\n",
    "plt.xlabel('Vertical detuning coefficient, '+r'$\\mathrm{\\alpha_{yy} \\ (1/m)}$')\n",
    "\n",
    "\n",
    "plt.tight_layout()\n",
    "\n",
    "savefig = False\n",
    "if savefig:\n",
    "    plt.savefig(f'./output/{study_name}.png', bbox_inches='tight')"
   ]
  },
  {
   "cell_type": "markdown",
   "metadata": {},
   "source": [
    "### Compute the theoretically expected rate"
   ]
  },
  {
   "cell_type": "code",
   "execution_count": 35,
   "metadata": {},
   "outputs": [
    {
     "name": "stdout",
     "output_type": "stream",
     "text": [
      "psd phi: 1.6806723392287607e-10 rad^2/Hz, psd A: 0.0 V^2/Hz\n"
     ]
    }
   ],
   "source": [
    "# Machine parameters\n",
    "betay = 73.81671646 # 73 m at CC2, 76 m at CC1\n",
    "Vcc = 1e6 # V\n",
    "Eb = 270e9 # eV\n",
    "gamma_0 = 287.8 \n",
    "beta_0 = np.sqrt(1 - 1/gamma_0**2)\n",
    "circumference = 6911.5623 # m\n",
    "frev = 299792458/circumference # Hz\n",
    "sigma_z = 0.155 # m\n",
    "f_CC = 400.789e6 # CC frequency in Hz\n",
    "clight = 299792458 # m/s\n",
    "# Noise kick parameters\n",
    "A_phase = 1e-8 # rms kick in the simulation of the phase noise\n",
    "A_amplitude = 0 # rms kick in the simulation of the amplitude noise\n",
    "scale_factor = Eb/Vcc # scaling factor to rms noise, σ\n",
    "# Compute the PSD in rad^2/Hz and V^2/Hz\n",
    "PSD_phi = (A_phase * scale_factor)**2/frev # rad^2/Hz\n",
    "#PSD_phi = 1.42e-10\n",
    "#PSD_phi = 1.4e-10\n",
    "PSD_A = (A_amplitude * scale_factor)**2/frev # V^2/Hz\n",
    "print(f'psd phi: {PSD_phi} rad^2/Hz, psd A: {PSD_A} V^2/Hz')"
   ]
  },
  {
   "cell_type": "code",
   "execution_count": 36,
   "metadata": {},
   "outputs": [
    {
     "name": "stdout",
     "output_type": "stream",
     "text": [
      "CDeltaPhi = 0.5168486015622045, CDeltaA = 0.24157569921889774\n",
      "expected growth = 23.813362141833874 nm/s\n"
     ]
    }
   ],
   "source": [
    "# Compute the correction factor due to the bunch length\n",
    "sigma_phi = bunch_length_m_to_rad(sigma_z, clight, f_CC)\n",
    "CDeltaphi = cmpt_bunch_length_correction_factor(sigma_phi, 'PN')\n",
    "CDeltaA = cmpt_bunch_length_correction_factor(sigma_phi, 'AN')\n",
    "print('CDeltaPhi = {}, CDeltaA = {}'.format(CDeltaphi, CDeltaA))\n",
    "\n",
    "if noise_type == 'PN':\n",
    "    expected_growth = emit_growth_phase_noise(betay, Vcc, frev, Eb, CDeltaphi, PSD_phi, one_sided_psd=False)*beta_0*gamma_0 # m/s\n",
    "    my_color = 'C0'\n",
    "    fill_bewtween_color = 'lightblue'\n",
    "elif noise_type == 'AN':\n",
    "    expected_growth = emit_growth_amplitude_noise(betay, Vcc, frev, Eb, CDeltaA, PSD_A, one_sided_psd=False)*beta_0*gamma_0 # m/s\n",
    "    my_color = 'C1'\n",
    "    fill_bewtween_color = 'moccasin'\n",
    "else:\n",
    "    my_color = 'C2'\n",
    "    expected_growth_1 = emit_growth_phase_noise(betay, Vcc, frev, Eb, CDeltaphi, PSD_phi, one_sided_psd=False)*beta_0*gamma_0 # m/s\n",
    "    expected_growth_2 = emit_growth_amplitude_noise(betay, Vcc, frev, Eb, CDeltaA, PSD_A, one_sided_psd=False)*beta_0*gamma_0 # m/s\n",
    "    expected_growth = expected_growth_1 + expected_growth_2\n",
    "\n",
    "print('expected growth = {} nm/s'.format(expected_growth*1e9))"
   ]
  },
  {
   "cell_type": "code",
   "execution_count": 37,
   "metadata": {},
   "outputs": [
    {
     "data": {
      "image/png": "[encoded data removed]",
      "text/plain": [
       "<Figure size 684x612 with 1 Axes>"
      ]
     },
     "metadata": {
      "needs_background": "light"
     },
     "output_type": "display_data"
    }
   ],
   "source": [
    "for i, key in enumerate(my_df_keys):\n",
    "    \n",
    "    if i ==0:\n",
    "        my_label_1 = 'wakefields OFF'\n",
    "        my_label_2 = 'wakefields, ON'\n",
    "    else:\n",
    "        my_label_1 = my_label_2 = ''\n",
    "        \n",
    "    # errors for study 1\n",
    "    systematic_error_1 = np.std(my_df_1[my_df_keys[i]]['m'])\n",
    "    statistical_error_1 = np.sqrt(np.mean(np.array(my_df_1[my_df_keys[i]]['err'])**2))\n",
    "    total_error_1 = np.sqrt(systematic_error_1**2+statistical_error_1**2)\n",
    "    \n",
    "    plt.errorbar(my_variables[i], np.mean(my_df_1[my_df_keys[i]]['m'])*1e9, yerr=total_error_1*1e9, marker='o',  c='C1', label=my_label_1)\n",
    "    \n",
    "\n",
    "plt.hlines(expected_growth*1e9, -22000, 22000, linestyles='dashed', linewidth=3, color='k', label=f'theoretical growth = {expected_growth*1e9:.2f} nm/s')\n",
    "\n",
    "#plt.legend(loc=4)\n",
    "\n",
    "plt.xlim(-21000, 21000)\n",
    "plt.ylim(0, 40)\n",
    "plt.grid(linestyle='dashed')\n",
    "plt.ylabel(r'$\\mathrm{d\\epsilon_y / dt \\ (nm/s)}$')\n",
    "plt.xlabel('Vertical detuning coefficient, '+r'$\\mathrm{\\alpha_{yy} \\ (1/m)}$')\n",
    "\n",
    "\n",
    "plt.tight_layout()\n",
    "\n",
    "savefig = False\n",
    "if savefig:\n",
    "    plt.savefig(f'./output/{study_name}_vs_Theory.png', bbox_inches='tight')"
   ]
  },
  {
   "cell_type": "markdown",
   "metadata": {},
   "source": [
    "### Compute the rms detuning with amplitude"
   ]
  },
  {
   "cell_type": "code",
   "execution_count": 38,
   "metadata": {},
   "outputs": [],
   "source": [
    "#Load the bunch, you need to activate a Pyheadtail version v1.13 or newer\n",
    "#path_to_bunch = '/afs/cern.ch/work/n/natriant/private/pyheadtail_example_crabcavity/'\n",
    "path_to_bunch='./'\n",
    "bunch = pickle.load(open(path_to_bunch+'bunch', 'rb')) # you need to activate an environment with pyhedtail version at least v1.13.5"
   ]
  },
  {
   "cell_type": "code",
   "execution_count": 39,
   "metadata": {},
   "outputs": [
    {
     "name": "stdout",
     "output_type": "stream",
     "text": [
      "rms(Jx)=6.9400568591152065e-09 m\n",
      "rms(Jy)=6.936692592779671e-09 m\n"
     ]
    }
   ],
   "source": [
    "# Optics at CC2\n",
    "beta_y = 73.81671646\n",
    "beta_x = 30.31164764\n",
    "alpha_y = 0\n",
    "alpha_x = 0\n",
    "\n",
    "# Coordinates\n",
    "x, px = bunch.x, bunch.xp\n",
    "y, py =  bunch.y, bunch.yp\n",
    "\n",
    "# Normalised coordinates \n",
    "x_n, px_n = cmpt_normalised_coordinates(x, px, beta_x, alpha_x)\n",
    "y_n, py_n = cmpt_normalised_coordinates(y, py, beta_y, alpha_y)\n",
    "\n",
    "\n",
    "# Compute actions\n",
    "Jx_init = cmpt_actions(x_n, px_n)\n",
    "Jy_init = cmpt_actions(y_n, py_n)\n",
    "\n",
    "rms_Jx_init = np.std(Jx_init)\n",
    "rms_Jy_init = np.std(Jy_init)\n",
    "\n",
    "print(f'rms(Jx)={rms_Jx_init} m')\n",
    "print(f'rms(Jy)={rms_Jy_init} m')"
   ]
  },
  {
   "cell_type": "code",
   "execution_count": 40,
   "metadata": {},
   "outputs": [],
   "source": [
    "Dqy_rms = []\n",
    "axy=0\n",
    "for ayy in my_variables:\n",
    "    Dqy_rms.append(rms_amplitude_detuning_y(Jy_init, Jx_init, ayy, axy))"
   ]
  },
  {
   "cell_type": "code",
   "execution_count": 41,
   "metadata": {},
   "outputs": [
    {
     "data": {
      "image/png": "[encoded data removed]",
      "text/plain": [
       "<Figure size 684x612 with 2 Axes>"
      ]
     },
     "metadata": {
      "needs_background": "light"
     },
     "output_type": "display_data"
    }
   ],
   "source": [
    "fig, ax = plt.subplots(1,1)\n",
    "\n",
    "ax2 = ax.twiny()\n",
    "\n",
    "for i, key in enumerate(my_df_keys):\n",
    "    \n",
    "    if i ==0:\n",
    "        my_label_1 = 'wakefields OFF'\n",
    "        my_label_2 = 'wakefields, ON'\n",
    "    else:\n",
    "        my_label_1 = my_label_2 = ''\n",
    "        \n",
    "    # errors for study 1\n",
    "    systematic_error_1 = np.std(my_df_1[my_df_keys[i]]['m'])\n",
    "    statistical_error_1 = np.sqrt(np.mean(np.array(my_df_1[my_df_keys[i]]['err'])**2))\n",
    "    total_error_1 = np.sqrt(systematic_error_1**2+statistical_error_1**2)\n",
    "    \n",
    "    ax.errorbar(my_variables[i], np.mean(my_df_1[my_df_keys[i]]['m'])*1e9, yerr=total_error_1*1e9, marker='o',  c='C1', label=my_label_1) \n",
    "    \n",
    "    ax2.plot(np.array(Dqy_rms[i])*1e4, np.mean(my_df_1[my_df_keys[i]]['m'])*1e9, linestyle='')\n",
    "\n",
    "\n",
    "ax.hlines(expected_growth*1e9, -22000, 22000, linestyles='dashed', linewidth=3, color='k', label=f'theoretical growth = {expected_growth*1e9:.2f} nm/s')\n",
    "#ax.legend(loc=4)\n",
    "\n",
    "ax2.set_xlim(-2*21000*rms_Jy_init*1e4, 2*21000*rms_Jy_init*1e4)\n",
    "ax.set_xlim(-21000, 21000)\n",
    "\n",
    "\n",
    "labels = ax.get_xticks()\n",
    "ax2.set_xticklabels(abs(labels*1e-4))\n",
    "\n",
    "ax.set_ylim(0, 40)\n",
    "\n",
    "ax.grid(linestyle='dashed')\n",
    "\n",
    "ax.set_ylabel(r'$\\mathrm{\\langle d\\epsilon_y / dt \\rangle \\ [nm/s]}$')\n",
    "ax.set_xlabel('Detuning coefficient, '+r'$\\mathrm{\\alpha_{yy} \\ [1/m]}$')\n",
    "ax.ticklabel_format(axis='x', style='sci', scilimits=(4,4))\n",
    "\n",
    "\n",
    "ax2.set_xlabel(r'$\\mathrm{rms(\\Delta Q_y) \\cdot 10^{-4}}$', y=15)\n",
    "\n",
    "#plt.tight_layout()\n",
    "\n",
    "savefig = True\n",
    "if savefig:\n",
    "    plt.savefig(f'./output/{study_name_1}_vs_TuneSpread_v2.png', bbox_inches='tight')"
   ]
  },
  {
   "cell_type": "markdown",
   "metadata": {},
   "source": [
    "### Plot expected rms amplitude detuning of SPS for the current settings\n",
    "- b3b5b7 included \n",
    "- chroma match at the current setting (contribution from the chromatic sextupoles)\n",
    "- klof=klod=1 $1/m^4$\n",
    "- axy and ayy values as shown below are obtained from MAD-X"
   ]
  },
  {
   "cell_type": "code",
   "execution_count": 42,
   "metadata": {},
   "outputs": [
    {
     "name": "stdout",
     "output_type": "stream",
     "text": [
      "-1497.189826 1081.203394\n"
     ]
    }
   ],
   "source": [
    "if QpxQpy == \"0\":  \n",
    "    axy_sps = -1484.124066 # for Qpx=Qpy=0\n",
    "    ayy_sps = 1082.073444 # for Qpx=Qpy=0\n",
    "elif QpxQpy == \"5e-1\":  \n",
    "    axy_sps = -1497.189826 # for Qpx=Qpy=0.5\n",
    "    ayy_sps = 1081.203394 # for Qpx=Qpy=0.5\n",
    "elif  QpxQpy == \"1\":  \n",
    "    axy_sps = -1510.465536 # for Qpx=Qpy=1\n",
    "    ayy_sps = 1080.331794 # for Qpx=Qpy=1\n",
    "print(axy_sps, ayy_sps)"
   ]
  },
  {
   "cell_type": "code",
   "execution_count": 43,
   "metadata": {},
   "outputs": [
    {
     "name": "stdout",
     "output_type": "stream",
     "text": [
      "2.5625281690125767e-05\n"
     ]
    }
   ],
   "source": [
    "Dqy_rms_sps = rms_amplitude_detuning_y(Jy_init, Jx_init, ayy_sps, axy_sps)\n",
    "print(Dqy_rms_sps)"
   ]
  },
  {
   "cell_type": "code",
   "execution_count": 1,
   "metadata": {},
   "outputs": [
    {
     "ename": "NameError",
     "evalue": "name 'plt' is not defined",
     "output_type": "error",
     "traceback": [
      "\u001b[0;31m---------------------------------------------------------------------------\u001b[0m",
      "\u001b[0;31mNameError\u001b[0m                                 Traceback (most recent call last)",
      "\u001b[0;32m<ipython-input-1-4de440f8634f>\u001b[0m in \u001b[0;36m<module>\u001b[0;34m\u001b[0m\n\u001b[0;32m----> 1\u001b[0;31m \u001b[0mfig\u001b[0m\u001b[0;34m,\u001b[0m \u001b[0max\u001b[0m \u001b[0;34m=\u001b[0m \u001b[0mplt\u001b[0m\u001b[0;34m.\u001b[0m\u001b[0msubplots\u001b[0m\u001b[0;34m(\u001b[0m\u001b[0;36m1\u001b[0m\u001b[0;34m,\u001b[0m\u001b[0;36m1\u001b[0m\u001b[0;34m)\u001b[0m\u001b[0;34m\u001b[0m\u001b[0;34m\u001b[0m\u001b[0m\n\u001b[0m\u001b[1;32m      2\u001b[0m \u001b[0;34m\u001b[0m\u001b[0m\n\u001b[1;32m      3\u001b[0m \u001b[0max2\u001b[0m \u001b[0;34m=\u001b[0m \u001b[0max\u001b[0m\u001b[0;34m.\u001b[0m\u001b[0mtwiny\u001b[0m\u001b[0;34m(\u001b[0m\u001b[0;34m)\u001b[0m\u001b[0;34m\u001b[0m\u001b[0;34m\u001b[0m\u001b[0m\n\u001b[1;32m      4\u001b[0m \u001b[0;34m\u001b[0m\u001b[0m\n\u001b[1;32m      5\u001b[0m \u001b[0mpoints\u001b[0m \u001b[0;34m=\u001b[0m \u001b[0;34m[\u001b[0m\u001b[0;34m]\u001b[0m\u001b[0;34m\u001b[0m\u001b[0;34m\u001b[0m\u001b[0m\n",
      "\u001b[0;31mNameError\u001b[0m: name 'plt' is not defined"
     ]
    }
   ],
   "source": [
    "fig, ax = plt.subplots(1,1)\n",
    "\n",
    "ax2 = ax.twiny()\n",
    "\n",
    "points = []\n",
    "\n",
    "for i, key in enumerate(my_df_keys):\n",
    "    \n",
    "    if i ==0:\n",
    "        my_label_1 = 'wakefields OFF'\n",
    "        my_label_2 = 'wakefields, ON'\n",
    "    else:\n",
    "        my_label_1 = my_label_2 = ''\n",
    "        \n",
    "    # errors for study 1\n",
    "    systematic_error_1 = np.std(my_df_1[my_df_keys[i]]['m'])\n",
    "    statistical_error_1 = np.sqrt(np.mean(np.array(my_df_1[my_df_keys[i]]['err'])**2))\n",
    "    total_error_1 = np.sqrt(systematic_error_1**2+statistical_error_1**2)\n",
    "    \n",
    "    ax.errorbar(my_variables[i], np.mean(my_df_1[my_df_keys[i]]['m'])*1e9, yerr=total_error_1*1e9, marker='o',  c='C1', label=my_label_1)\n",
    "   \n",
    "    points.append(np.mean(my_df_1[my_df_keys[i]]['m'])*1e9)\n",
    "    #points_wakes.append(np.mean(my_df_2[my_df_keys[i]]['m'])*1e9)\n",
    "    \n",
    "    \n",
    "    ax2.plot(np.array(Dqy_rms[i])*1e4, np.mean(my_df_1[my_df_keys[i]]['m'])*1e9, linestyle='')\n",
    "\n",
    "\n",
    "ax.hlines(expected_growth*1e9, -22000, 22000, linestyles='dashed', linewidth=3, color='grey', label=f'theoretical growth = {expected_growth*1e9:.2f} nm/s')\n",
    "\n",
    "\n",
    "ax.plot(my_variables, points, c='C1')\n",
    "\n",
    "# Plot SPS tune spread from MAD-X\n",
    "ax2.plot(Dqy_rms_sps*1e4, 11.0, 'o', c='k', label=r'$\\mathrm{rms(\\Delta Qy)}=$'+f'{Dqy_rms_sps*1e4:.2f} '+r'$\\mathrm{10^{-4}}$'+'\\nexpected for SPS')\n",
    "ax2.vlines(Dqy_rms_sps*1e4, 11.0, 40, ls='dashed')\n",
    "\n",
    "#ax.legend(loc=3)\n",
    "ax2.legend(loc=2)\n",
    "\n",
    "ax2.set_xlim(-2*21000*rms_Jy_init*1e4, 2*21000*rms_Jy_init*1e4)\n",
    "ax.set_xlim(-21000, 21000)\n",
    "\n",
    "\n",
    "labels = ax.get_xticks()\n",
    "ax2.set_xticklabels(abs(labels*1e-4))\n",
    "\n",
    "ax.set_ylim(0, 40)\n",
    "ax.grid(linestyle='dashed')\n",
    "\n",
    "ax.set_ylabel(r'$\\mathrm{\\langle d\\epsilon_y / dt \\rangle \\ [nm/s]}$')\n",
    "ax.set_xlabel('Detuning coefficient, '+r'$\\mathrm{\\alpha_{yy} \\ [1/m]}$')\n",
    "ax.ticklabel_format(axis='x', style='sci', scilimits=(4,4))\n",
    "\n",
    "\n",
    "ax2.set_xlabel(r'$\\mathrm{rms(\\Delta Q_y) \\cdot 10^{-4}}$')\n",
    "\n",
    "plt.tight_layout()\n",
    "\n",
    "savefig = False\n",
    "if savefig:\n",
    "    plt.savefig(f'./output/{study_name_1}_vs_TuneSpread_expectedSPS.png', bbox_inches='tight')"
   ]
  },
  {
   "cell_type": "code",
   "execution_count": null,
   "metadata": {},
   "outputs": [],
   "source": []
  }
 ],
 "metadata": {
  "kernelspec": {
   "display_name": "Python 3",
   "language": "python",
   "name": "python3"
  },
  "language_info": {
   "codemirror_mode": {
    "name": "ipython",
    "version": 3
   },
   "file_extension": ".py",
   "mimetype": "text/x-python",
   "name": "python",
   "nbconvert_exporter": "python",
   "pygments_lexer": "ipython3",
   "version": "3.7.6"
  }
 },
 "nbformat": 4,
 "nbformat_minor": 4
}
