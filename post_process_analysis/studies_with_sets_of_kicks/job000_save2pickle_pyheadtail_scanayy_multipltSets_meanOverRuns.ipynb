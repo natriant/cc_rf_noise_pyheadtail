{
 "cells": [
  {
   "cell_type": "code",
   "execution_count": 1,
   "metadata": {},
   "outputs": [],
   "source": [
    "import os, sys\n",
    "import csv\n",
    "import numpy as np\n",
    "import pandas as pd"
   ]
  },
  {
   "cell_type": "markdown",
   "metadata": {},
   "source": [
    "#### 1) Load the data\n",
    "a) Give the paths to the data folder\n",
    "\n",
    "b) Load the values of the transverse emittances in lists."
   ]
  },
  {
   "cell_type": "code",
   "execution_count": 2,
   "metadata": {},
   "outputs": [],
   "source": [
    "n_sets = 20\n",
    "n_runs = 3 # number of runs that the simulation was repeated\n",
    "n_turns = int(1e5)            # number of cycles to run the simulation for\n",
    "decTurns = int(100)           # how often to record data\n",
    "circumference  = 6911.5623 # [m]\n",
    "f_rev  = 299792458/circumference  # [Hz] The revolution frequency of the machine \n",
    "separationTime = 1 / f_rev * decTurns #There are decTurns revolutions before each recording of data\n",
    "tspan = (np.arange(n_turns / decTurns) + 1.0) * separationTime #total time spanned by the simulation"
   ]
  },
  {
   "cell_type": "markdown",
   "metadata": {},
   "source": [
    "### Iterate over $\\alpha_{yy}$"
   ]
  },
  {
   "cell_type": "code",
   "execution_count": 3,
   "metadata": {},
   "outputs": [
    {
     "name": "stdout",
     "output_type": "stream",
     "text": [
      "[-20000.0, -18000.0, -16000.0, -14000.0, -12000.0, -10000.0, -8000.0, -6000.0, -4000.0, -2000.0, 0.0, 2000.0, 4000.0, 6000.0, 8000.0, 10000.0, 12000.0, 14000.0, 16000.0, 18000.0, 20000.0]\n",
      "21\n"
     ]
    }
   ],
   "source": [
    "my_start = -2e4 #9.6e3 #400.0\n",
    "my_stop =  2.01e4 #1.6e4 #1.6e4\n",
    "my_step = 2000.0\n",
    "\n",
    "my_variables = list(np.arange(my_start, my_stop, my_step))\n",
    "#my_variables.insert(0,0.0)\n",
    "print(my_variables)\n",
    "print(len(my_variables))"
   ]
  },
  {
   "cell_type": "code",
   "execution_count": 4,
   "metadata": {},
   "outputs": [],
   "source": [
    "path_to_data = '/afs/cern.ch/work/n/natriant/private/pyheadtail_example_crabcavity/'\n",
    "#study_name = 'sps_270GeV_CC_PN1e-8_1e5turns_5e5Nb_Nowakefields_QpxQpy5e-1_ayy'\n",
    "study_name = 'sps_270GeV_CC_PN1e-8_1e5turns_5e5Nb_wakesON_globalCC_ramp200_QpxQpy1_ayy'\n",
    "noise_type = 'PN'"
   ]
  },
  {
   "cell_type": "markdown",
   "metadata": {},
   "source": [
    "### Load the data, and for each Set average over the three runs\n",
    "\n",
    "Example of study_directory: sps_270GeV_CC_PN1e-8_1e5turns_5e5Nb_wakefieldsON_500slices_QpxQpy2_ayy0.0__fixedKicksSet2_run2\n",
    "\n",
    "\n",
    "- Set number: corresponds to the different sets of noise kicks\n",
    "- run number: for each set 3 different runs with different initial distribution."
   ]
  },
  {
   "cell_type": "code",
   "execution_count": 6,
   "metadata": {},
   "outputs": [
    {
     "name": "stdout",
     "output_type": "stream",
     "text": [
      "OS error: /afs/cern.ch/work/n/natriant/private/pyheadtail_example_crabcavity/sps_270GeV_CC_PN1e-8_1e5turns_5e5Nb_wakesON_globalCC_ramp200_QpxQpy1_ayy-14000.0_fixedKicksSet8_run0/file.txt not found.\n",
      "OS error: /afs/cern.ch/work/n/natriant/private/pyheadtail_example_crabcavity/sps_270GeV_CC_PN1e-8_1e5turns_5e5Nb_wakesON_globalCC_ramp200_QpxQpy1_ayy10000.0_fixedKicksSet13_run2/file.txt not found.\n"
     ]
    }
   ],
   "source": [
    "ex_mean_dict, ey_mean_dict = {}, {} # type: dictionary\n",
    "ex_std_dict, ey_std_dict = {}, {} # type: dictionary\n",
    "\n",
    "\n",
    "for var in my_variables: # iterate over ayy\n",
    "    for my_set in range(n_sets): # iterate over sets\n",
    "        temp_name = f'{var}_set{my_set}'\n",
    "        ex_mean, ey_mean = [], []\n",
    "        for run in range(n_runs): # iterate over runs, compute mean\n",
    "            try:\n",
    "                meanX, meanY, meanXsq, meanYsq, emitX, emitY = np.loadtxt(path_to_data+f'{study_name}{var}_fixedKicksSet{my_set}_run{run}/file.txt', delimiter = \",\", unpack = True)\n",
    "                # B1. Create a different list for each run and save the emittance values\n",
    "                ex_mean.append(emitX)\n",
    "                ey_mean.append(emitY)\n",
    "            except OSError as err:\n",
    "                print(\"OS error: {0}\".format(err))\n",
    "        ex_mean_dict[temp_name] = np.mean(ex_mean, axis=0) # mean of the 3 runs\n",
    "        ey_mean_dict[temp_name] = np.mean(ey_mean, axis=0)\n",
    "        ex_std_dict[temp_name] = np.std(ex_mean, axis=0) # 1 std between the 3 runs\n",
    "        ey_std_dict[temp_name] = np.std(ey_mean, axis=0)    \n",
    "        "
   ]
  },
  {
   "cell_type": "code",
   "execution_count": 10,
   "metadata": {},
   "outputs": [
    {
     "data": {
      "text/plain": [
       "[<matplotlib.lines.Line2D at 0x7f8d31fc9bd0>]"
      ]
     },
     "execution_count": 10,
     "metadata": {},
     "output_type": "execute_result"
    },
    {
     "data": {
      "image/png": "[encoded data removed]",
      "text/plain": [
       "<Figure size 432x288 with 1 Axes>"
      ]
     },
     "metadata": {
      "needs_background": "light"
     },
     "output_type": "display_data"
    }
   ],
   "source": [
    "import matplotlib.pyplot as plt\n",
    "plt.plot(ey_mean_dict[temp_name])"
   ]
  },
  {
   "cell_type": "markdown",
   "metadata": {},
   "source": [
    "### Do a polynomial fit (deg=1), y-plane only"
   ]
  },
  {
   "cell_type": "code",
   "execution_count": 7,
   "metadata": {},
   "outputs": [],
   "source": [
    "m_dict = {} # slope of the fit\n",
    "b_dict = {} # offset\n",
    "err_dict = {} # error of the gradient of the fit slope\n",
    "\n",
    "for var in my_variables:\n",
    "    m_dict[f'{var}'], b_dict[f'{var}'], err_dict[f'{var}'] = [], [], []\n",
    "    for my_set in range(n_sets):\n",
    "        temp_name = f'{var}_set{my_set}'\n",
    "        # linear fit\n",
    "        [m, b], cov = np.polyfit(tspan[200:], ey_mean_dict[temp_name][200:], 1, cov=True)\n",
    "        # compute the error of the gradient of the fit slope\n",
    "        err= np.sqrt(np.diag(cov))\n",
    "        m_dict[f'{var}'].append(m) # len(m_dict[f'{var}']) = n_runs\n",
    "        b_dict[f'{var}'].append(b)\n",
    "        err_dict[f'{var}'].append(err[0])"
   ]
  },
  {
   "cell_type": "markdown",
   "metadata": {},
   "source": [
    "### Format the computed growth rates in a Data Frame"
   ]
  },
  {
   "cell_type": "code",
   "execution_count": 8,
   "metadata": {},
   "outputs": [],
   "source": [
    "data = {}\n",
    "for var in my_variables:\n",
    "    data[f'ayy_{var}'] =[m_dict[f'{var}'], b_dict[f'{var}'], err_dict[f'{var}']]\n",
    "df = pd.DataFrame(data, index=['m','b','err'])\n",
    "\n",
    "filename = f'deyRates_{study_name}Scan.pkl'\n",
    "if not os.path.exists(filename):\n",
    "    df.to_pickle(filename)"
   ]
  },
  {
   "cell_type": "code",
   "execution_count": null,
   "metadata": {},
   "outputs": [],
   "source": []
  },
  {
   "cell_type": "code",
   "execution_count": null,
   "metadata": {},
   "outputs": [],
   "source": []
  }
 ],
 "metadata": {
  "kernelspec": {
   "display_name": "Python 3",
   "language": "python",
   "name": "python3"
  },
  "language_info": {
   "codemirror_mode": {
    "name": "ipython",
    "version": 3
   },
   "file_extension": ".py",
   "mimetype": "text/x-python",
   "name": "python",
   "nbconvert_exporter": "python",
   "pygments_lexer": "ipython3",
   "version": "3.7.6"
  }
 },
 "nbformat": 4,
 "nbformat_minor": 4
}
