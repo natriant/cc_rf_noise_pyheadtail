{
 "cells": [
  {
   "cell_type": "code",
   "execution_count": 1,
   "metadata": {},
   "outputs": [],
   "source": [
    "import os\n",
    "import sys\n",
    "import csv\n",
    "import numpy as np\n",
    "import pandas as pd\n",
    "import matplotlib.pyplot as plt"
   ]
  },
  {
   "cell_type": "markdown",
   "metadata": {},
   "source": [
    "### Load the data"
   ]
  },
  {
   "cell_type": "code",
   "execution_count": 2,
   "metadata": {},
   "outputs": [],
   "source": [
    "n_runs = 3 # number of runs that the simulation was repeated\n",
    "n_turns = int(1e5)            # number of cycles to run the simulation for\n",
    "decTurns = int(100)           # how often to record data\n",
    "circumference  = 6911.5623 # [m]\n",
    "f_rev  = 299792458/circumference  # [Hz] The revolution frequency of the machine \n"
   ]
  },
  {
   "cell_type": "code",
   "execution_count": 3,
   "metadata": {},
   "outputs": [],
   "source": [
    "separationTime = 1 / f_rev * decTurns #There are decTurns revolutions before each recording of data\n",
    "tspan = (np.arange(n_turns / decTurns) + 1.0) * separationTime #total time spanned by the simulation"
   ]
  },
  {
   "cell_type": "code",
   "execution_count": 34,
   "metadata": {},
   "outputs": [
    {
     "name": "stdout",
     "output_type": "stream",
     "text": [
      "[0.0, 400.0, 1200.0, 2000.0, 2800.0, 3600.0, 4400.0, 5200.0, 6000.0, 6800.0, 7600.0, 8400.0, 9200.0]\n"
     ]
    }
   ],
   "source": [
    "my_start = 400.0\n",
    "my_stop = 1e4\n",
    "my_step = 800\n",
    "\n",
    "my_variables = list(np.arange(my_start, my_stop, my_step))\n",
    "my_variables.insert(0, 0.0)\n",
    "#my_variables = np.linspace(my_start, my_stop, 20)\n",
    "print(my_variables)\n"
   ]
  },
  {
   "cell_type": "code",
   "execution_count": 35,
   "metadata": {},
   "outputs": [],
   "source": [
    "path_to_data = '/afs/cern.ch/work/n/natriant/private/pyheadtail_example_crabcavity/'\n",
    "study_name ='sps_270GeV_CC_PN1e-8_1e5turns_5e5Nb_wakefieldsON_500slices_ayy' \n",
    "noise_type = 'PN'"
   ]
  },
  {
   "cell_type": "code",
   "execution_count": 37,
   "metadata": {},
   "outputs": [],
   "source": [
    "ex_dict = {} # type: dictionary\n",
    "ey_dict = {}\n",
    "\n",
    "\n",
    "for var in my_variables:\n",
    "    for run in range(n_runs):\n",
    "        temp_name = f'{var}_run{run}' # the suffix of the name of the current study\n",
    "        # A. load the turn by turn data in a dictionary\n",
    "        meanX, meanY, meanXsq, meanYsq, emitX, emitY = np.loadtxt(path_to_data+f'{study_name}{var}_run{run}/file.txt', delimiter = \",\", unpack = True)\n",
    "        # B. Create a different list for each run and save the emittance values\n",
    "        ex_dict[temp_name] = emitX \n",
    "        ey_dict[temp_name] = emitY"
   ]
  },
  {
   "cell_type": "markdown",
   "metadata": {},
   "source": [
    "### Do the polynomial fit, deg=1"
   ]
  },
  {
   "cell_type": "code",
   "execution_count": 38,
   "metadata": {},
   "outputs": [],
   "source": [
    "m_dict = {} # slope of the fit\n",
    "b_dict = {} # offset\n",
    "err_dict = {} # error of the gradient of the fit slope\n",
    "for var in my_variables:\n",
    "    m_dict[f'{var}'], b_dict[f'{var}'], err_dict[f'{var}'] = [], [], []\n",
    "    for run in range(n_runs):\n",
    "        temp_name = f'{var}_run{run}'\n",
    "        # linear fit\n",
    "        [m, b], cov = np.polyfit(tspan, ey_dict[temp_name], 1, cov=True)\n",
    "        # compute the error of the gradient of the fit slope\n",
    "        err= np.sqrt(np.diag(cov))\n",
    "        m_dict[f'{var}'].append(m) # len(m_dict[f'{var}']) = n_runs\n",
    "        b_dict[f'{var}'].append(b)\n",
    "        err_dict[f'{var}'].append(err[0])"
   ]
  },
  {
   "cell_type": "code",
   "execution_count": 39,
   "metadata": {},
   "outputs": [],
   "source": [
    "data = {}\n",
    "for var in my_variables:\n",
    "    data[f'ayy_{var}'] =[m_dict[f'{var}'], b_dict[f'{var}'], err_dict[f'{var}']]\n",
    "df = pd.DataFrame(data, index=['m','b','err'])\n",
    "\n",
    "filename = f'deyRates_{study_name}Scan.pkl'\n",
    "if not os.path.exists(filename):\n",
    "    df.to_pickle(filename)"
   ]
  },
  {
   "cell_type": "code",
   "execution_count": 40,
   "metadata": {},
   "outputs": [
    {
     "data": {
      "text/html": [
       "<div>\n",
       "<style scoped>\n",
       "    .dataframe tbody tr th:only-of-type {\n",
       "        vertical-align: middle;\n",
       "    }\n",
       "\n",
       "    .dataframe tbody tr th {\n",
       "        vertical-align: top;\n",
       "    }\n",
       "\n",
       "    .dataframe thead th {\n",
       "        text-align: right;\n",
       "    }\n",
       "</style>\n",
       "<table border=\"1\" class=\"dataframe\">\n",
       "  <thead>\n",
       "    <tr style=\"text-align: right;\">\n",
       "      <th></th>\n",
       "      <th>ayy_0.0</th>\n",
       "      <th>ayy_400.0</th>\n",
       "      <th>ayy_1200.0</th>\n",
       "      <th>ayy_2000.0</th>\n",
       "      <th>ayy_2800.0</th>\n",
       "      <th>ayy_3600.0</th>\n",
       "      <th>ayy_4400.0</th>\n",
       "      <th>ayy_5200.0</th>\n",
       "      <th>ayy_6000.0</th>\n",
       "      <th>ayy_6800.0</th>\n",
       "      <th>ayy_7600.0</th>\n",
       "      <th>ayy_8400.0</th>\n",
       "      <th>ayy_9200.0</th>\n",
       "    </tr>\n",
       "  </thead>\n",
       "  <tbody>\n",
       "    <tr>\n",
       "      <th>m</th>\n",
       "      <td>[1.08097754571569e-08, 1.00823914573883e-08, 8...</td>\n",
       "      <td>[1.2010767442866954e-08, 1.2364853952473491e-0...</td>\n",
       "      <td>[1.7737680398607257e-08, 9.813673463125378e-09...</td>\n",
       "      <td>[1.1251873296915003e-08, 1.5354700019465245e-0...</td>\n",
       "      <td>[1.3024405825963914e-08, 1.4313315102012334e-0...</td>\n",
       "      <td>[1.1698346797073129e-08, 1.0903848789178197e-0...</td>\n",
       "      <td>[1.1246583560779581e-08, 1.1012975397371324e-0...</td>\n",
       "      <td>[1.5657394946164117e-08, 1.6890307988116998e-0...</td>\n",
       "      <td>[1.184244149967835e-08, 1.36989769040297e-08, ...</td>\n",
       "      <td>[1.792884976798482e-08, 2.3309049392301403e-08...</td>\n",
       "      <td>[1.8796096356848233e-08, 2.369937137001642e-08...</td>\n",
       "      <td>[2.038078467430324e-08, 1.4964455880130853e-08...</td>\n",
       "      <td>[1.7622216200405047e-08, 1.7455912153224918e-0...</td>\n",
       "    </tr>\n",
       "    <tr>\n",
       "      <th>b</th>\n",
       "      <td>[2.001062224371366e-06, 2.0002094287793027e-06...</td>\n",
       "      <td>[1.9955547456527707e-06, 2.0029423025350566e-0...</td>\n",
       "      <td>[2.00182929451237e-06, 1.999643739388144e-06, ...</td>\n",
       "      <td>[2.003711425224395e-06, 1.9945867687570973e-06...</td>\n",
       "      <td>[2.001075379676508e-06, 1.9999286920365067e-06...</td>\n",
       "      <td>[2.0011434734131143e-06, 2.0009487979561597e-0...</td>\n",
       "      <td>[2.008034437808436e-06, 2.0005372412675396e-06...</td>\n",
       "      <td>[1.999468400020198e-06, 2.0000555680271295e-06...</td>\n",
       "      <td>[1.9995198279966843e-06, 2.001981264299887e-06...</td>\n",
       "      <td>[1.999267113575896e-06, 1.9932158765143225e-06...</td>\n",
       "      <td>[1.9968253228578274e-06, 1.995488882775908e-06...</td>\n",
       "      <td>[1.9986140530894686e-06, 1.9992643719096373e-0...</td>\n",
       "      <td>[2.000725348084723e-06, 2.0004251113424093e-06...</td>\n",
       "    </tr>\n",
       "    <tr>\n",
       "      <th>err</th>\n",
       "      <td>[7.58314585007433e-11, 7.035687266110894e-11, ...</td>\n",
       "      <td>[6.919830078490749e-11, 8.751535097360842e-11,...</td>\n",
       "      <td>[9.889191621996998e-11, 5.02937485945374e-11, ...</td>\n",
       "      <td>[9.377321277421609e-11, 4.9891832712647175e-11...</td>\n",
       "      <td>[7.308278992874409e-11, 9.606353717052984e-11,...</td>\n",
       "      <td>[5.5891641481015444e-11, 5.91676271726604e-11,...</td>\n",
       "      <td>[1.340931332798601e-10, 4.705194383779237e-11,...</td>\n",
       "      <td>[6.433221169542356e-11, 7.32174625193646e-11, ...</td>\n",
       "      <td>[8.510342306054616e-11, 5.589067855780267e-11,...</td>\n",
       "      <td>[7.633193517634174e-11, 1.462204954414291e-10,...</td>\n",
       "      <td>[8.66481712560023e-11, 1.6413032237529272e-10,...</td>\n",
       "      <td>[5.253109570004383e-11, 5.7509575504439033e-11...</td>\n",
       "      <td>[5.294158721003003e-11, 6.222665751872331e-11,...</td>\n",
       "    </tr>\n",
       "  </tbody>\n",
       "</table>\n",
       "</div>"
      ],
      "text/plain": [
       "                                               ayy_0.0  \\\n",
       "m    [1.08097754571569e-08, 1.00823914573883e-08, 8...   \n",
       "b    [2.001062224371366e-06, 2.0002094287793027e-06...   \n",
       "err  [7.58314585007433e-11, 7.035687266110894e-11, ...   \n",
       "\n",
       "                                             ayy_400.0  \\\n",
       "m    [1.2010767442866954e-08, 1.2364853952473491e-0...   \n",
       "b    [1.9955547456527707e-06, 2.0029423025350566e-0...   \n",
       "err  [6.919830078490749e-11, 8.751535097360842e-11,...   \n",
       "\n",
       "                                            ayy_1200.0  \\\n",
       "m    [1.7737680398607257e-08, 9.813673463125378e-09...   \n",
       "b    [2.00182929451237e-06, 1.999643739388144e-06, ...   \n",
       "err  [9.889191621996998e-11, 5.02937485945374e-11, ...   \n",
       "\n",
       "                                            ayy_2000.0  \\\n",
       "m    [1.1251873296915003e-08, 1.5354700019465245e-0...   \n",
       "b    [2.003711425224395e-06, 1.9945867687570973e-06...   \n",
       "err  [9.377321277421609e-11, 4.9891832712647175e-11...   \n",
       "\n",
       "                                            ayy_2800.0  \\\n",
       "m    [1.3024405825963914e-08, 1.4313315102012334e-0...   \n",
       "b    [2.001075379676508e-06, 1.9999286920365067e-06...   \n",
       "err  [7.308278992874409e-11, 9.606353717052984e-11,...   \n",
       "\n",
       "                                            ayy_3600.0  \\\n",
       "m    [1.1698346797073129e-08, 1.0903848789178197e-0...   \n",
       "b    [2.0011434734131143e-06, 2.0009487979561597e-0...   \n",
       "err  [5.5891641481015444e-11, 5.91676271726604e-11,...   \n",
       "\n",
       "                                            ayy_4400.0  \\\n",
       "m    [1.1246583560779581e-08, 1.1012975397371324e-0...   \n",
       "b    [2.008034437808436e-06, 2.0005372412675396e-06...   \n",
       "err  [1.340931332798601e-10, 4.705194383779237e-11,...   \n",
       "\n",
       "                                            ayy_5200.0  \\\n",
       "m    [1.5657394946164117e-08, 1.6890307988116998e-0...   \n",
       "b    [1.999468400020198e-06, 2.0000555680271295e-06...   \n",
       "err  [6.433221169542356e-11, 7.32174625193646e-11, ...   \n",
       "\n",
       "                                            ayy_6000.0  \\\n",
       "m    [1.184244149967835e-08, 1.36989769040297e-08, ...   \n",
       "b    [1.9995198279966843e-06, 2.001981264299887e-06...   \n",
       "err  [8.510342306054616e-11, 5.589067855780267e-11,...   \n",
       "\n",
       "                                            ayy_6800.0  \\\n",
       "m    [1.792884976798482e-08, 2.3309049392301403e-08...   \n",
       "b    [1.999267113575896e-06, 1.9932158765143225e-06...   \n",
       "err  [7.633193517634174e-11, 1.462204954414291e-10,...   \n",
       "\n",
       "                                            ayy_7600.0  \\\n",
       "m    [1.8796096356848233e-08, 2.369937137001642e-08...   \n",
       "b    [1.9968253228578274e-06, 1.995488882775908e-06...   \n",
       "err  [8.66481712560023e-11, 1.6413032237529272e-10,...   \n",
       "\n",
       "                                            ayy_8400.0  \\\n",
       "m    [2.038078467430324e-08, 1.4964455880130853e-08...   \n",
       "b    [1.9986140530894686e-06, 1.9992643719096373e-0...   \n",
       "err  [5.253109570004383e-11, 5.7509575504439033e-11...   \n",
       "\n",
       "                                            ayy_9200.0  \n",
       "m    [1.7622216200405047e-08, 1.7455912153224918e-0...  \n",
       "b    [2.000725348084723e-06, 2.0004251113424093e-06...  \n",
       "err  [5.294158721003003e-11, 6.222665751872331e-11,...  "
      ]
     },
     "execution_count": 40,
     "metadata": {},
     "output_type": "execute_result"
    }
   ],
   "source": [
    "df"
   ]
  },
  {
   "cell_type": "markdown",
   "metadata": {},
   "source": [
    "### Plot emittance growth for one of the variables"
   ]
  },
  {
   "cell_type": "code",
   "execution_count": 54,
   "metadata": {},
   "outputs": [
    {
     "name": "stderr",
     "output_type": "stream",
     "text": [
      "No handles with labels found to put in legend.\n"
     ]
    },
    {
     "name": "stdout",
     "output_type": "stream",
     "text": [
      "['ayy_0.0', 'ayy_400.0', 'ayy_1200.0', 'ayy_2000.0', 'ayy_2800.0', 'ayy_3600.0', 'ayy_4400.0', 'ayy_5200.0', 'ayy_6000.0', 'ayy_6800.0', 'ayy_7600.0', 'ayy_8400.0', 'ayy_9200.0']\n",
      "ayy_9200.0\n"
     ]
    },
    {
     "data": {
      "text/plain": [
       "<matplotlib.legend.Legend at 0x7fcf87e8fcc0>"
      ]
     },
     "execution_count": 54,
     "metadata": {},
     "output_type": "execute_result"
    },
    {
     "data": {
      "image/png": "[encoded data removed]",
      "text/plain": [
       "<Figure size 432x288 with 1 Axes>"
      ]
     },
     "metadata": {
      "needs_background": "light"
     },
     "output_type": "display_data"
    }
   ],
   "source": [
    "studies_list = list(df.keys())\n",
    "print(studies_list)\n",
    "study = studies_list[12] # choose study\n",
    "print(study)\n",
    "\n",
    "for run in np.arange(len(df[study]['m'])):\n",
    "    plt.plot(tspan, ey_dict[f'0.0_run{run}'] )\n",
    "    #plt.plot(tspan, (df[study]['m'][run]*tspan+df[study]['b'][run])*1e6, label=df[study]['m'][run]*1e9)\n",
    "# linear fit on the emittance values obtained from the simulation averaged over turns\n",
    "#plt.plot(time, (m*time+b)*1e6, c = 'k', label='dey/dt={0:.2f}'.format(m*1e9)+'$\\pm$'+'{0:.2f} nm/s'.format(err[0]*1e9), linewidth = 2)\n",
    "plt.legend()\n",
    "\n",
    "#plt.plot(time, df[])"
   ]
  },
  {
   "cell_type": "code",
   "execution_count": null,
   "metadata": {},
   "outputs": [],
   "source": []
  },
  {
   "cell_type": "code",
   "execution_count": null,
   "metadata": {},
   "outputs": [],
   "source": []
  }
 ],
 "metadata": {
  "kernelspec": {
   "display_name": "Python 3",
   "language": "python",
   "name": "python3"
  },
  "language_info": {
   "codemirror_mode": {
    "name": "ipython",
    "version": 3
   },
   "file_extension": ".py",
   "mimetype": "text/x-python",
   "name": "python",
   "nbconvert_exporter": "python",
   "pygments_lexer": "ipython3",
   "version": "3.7.3"
  }
 },
 "nbformat": 4,
 "nbformat_minor": 4
}
