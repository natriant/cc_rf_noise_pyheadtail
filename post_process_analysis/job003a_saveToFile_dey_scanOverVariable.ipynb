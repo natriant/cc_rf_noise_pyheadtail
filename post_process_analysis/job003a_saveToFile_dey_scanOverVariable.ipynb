{
 "cells": [
  {
   "cell_type": "code",
   "execution_count": 1,
   "metadata": {},
   "outputs": [],
   "source": [
    "import os\n",
    "import sys\n",
    "import csv\n",
    "import numpy as np\n",
    "import pandas as pd\n",
    "import matplotlib.pyplot as plt"
   ]
  },
  {
   "cell_type": "markdown",
   "metadata": {},
   "source": [
    "### Load the data"
   ]
  },
  {
   "cell_type": "code",
   "execution_count": 2,
   "metadata": {},
   "outputs": [],
   "source": [
    "n_runs = 3 # number of runs that the simulation was repeated\n",
    "n_turns = int(1e5)            # number of cycles to run the simulation for\n",
    "decTurns = int(100)           # how often to record data\n",
    "circumference  = 6911.5623 # [m]\n",
    "f_rev  = 299792458/circumference  # [Hz] The revolution frequency of the machine \n"
   ]
  },
  {
   "cell_type": "code",
   "execution_count": 3,
   "metadata": {},
   "outputs": [],
   "source": [
    "separationTime = 1 / f_rev * decTurns #There are decTurns revolutions before each recording of data\n",
    "tspan = (np.arange(n_turns / decTurns) + 1.0) * separationTime #total time spanned by the simulation"
   ]
  },
  {
   "cell_type": "code",
   "execution_count": 4,
   "metadata": {},
   "outputs": [
    {
     "name": "stdout",
     "output_type": "stream",
     "text": [
      "[0.0, 400.0, 1200.0, 2000.0, 2800.0, 3600.0, 4400.0, 5200.0, 6000.0, 6800.0, 7600.0, 8400.0, 9200.0, 10000.0, 10800.0, 11600.0, 12400.0, 13200.0, 14000.0, 14800.0, 15600.0]\n"
     ]
    }
   ],
   "source": [
    "my_start = 400.0\n",
    "my_stop = 1.6e4\n",
    "my_step = 800.0\n",
    "\n",
    "my_variables = list(np.arange(my_start, my_stop, my_step))\n",
    "my_variables.insert(0, 0.0)\n",
    "print(my_variables)"
   ]
  },
  {
   "cell_type": "code",
   "execution_count": 7,
   "metadata": {},
   "outputs": [],
   "source": [
    "path_to_data = '/afs/cern.ch/work/n/natriant/private/pyheadtail_example_crabcavity/'\n",
    "#study_name ='sps_270GeV_CC_PN1e-8_1e5turns_5e5Nb_wakefieldsON_500slices_ayy' \n",
    "study_name = 'sps_270GeV_CC_PN1e-8_1e5turns_5e5Nb_Nowakefields_QpxQpy5e-1_ayy'\n",
    "noise_type = 'PN'"
   ]
  },
  {
   "cell_type": "code",
   "execution_count": 8,
   "metadata": {},
   "outputs": [
    {
     "ename": "OSError",
     "evalue": "/afs/cern.ch/work/n/natriant/private/pyheadtail_example_crabcavity/sps_270GeV_CC_PN1e-8_1e5turns_5e5Nb_Nowakefields_QpxQpy5e-1_ayy0.0_run0/file.txt not found.",
     "output_type": "error",
     "traceback": [
      "\u001b[0;31m-----------------------------------------------------------------------\u001b[0m",
      "\u001b[0;31mOSError\u001b[0m                               Traceback (most recent call last)",
      "\u001b[0;32m<ipython-input-8-c1d06356e0bf>\u001b[0m in \u001b[0;36m<module>\u001b[0;34m\u001b[0m\n\u001b[1;32m      7\u001b[0m         \u001b[0mtemp_name\u001b[0m \u001b[0;34m=\u001b[0m \u001b[0;34mf'{var}_run{run}'\u001b[0m \u001b[0;31m# the suffix of the name of the current study\u001b[0m\u001b[0;34m\u001b[0m\u001b[0;34m\u001b[0m\u001b[0m\n\u001b[1;32m      8\u001b[0m         \u001b[0;31m# A. load the turn by turn data in a dictionary\u001b[0m\u001b[0;34m\u001b[0m\u001b[0;34m\u001b[0m\u001b[0;34m\u001b[0m\u001b[0m\n\u001b[0;32m----> 9\u001b[0;31m         \u001b[0mmeanX\u001b[0m\u001b[0;34m,\u001b[0m \u001b[0mmeanY\u001b[0m\u001b[0;34m,\u001b[0m \u001b[0mmeanXsq\u001b[0m\u001b[0;34m,\u001b[0m \u001b[0mmeanYsq\u001b[0m\u001b[0;34m,\u001b[0m \u001b[0memitX\u001b[0m\u001b[0;34m,\u001b[0m \u001b[0memitY\u001b[0m \u001b[0;34m=\u001b[0m \u001b[0mnp\u001b[0m\u001b[0;34m.\u001b[0m\u001b[0mloadtxt\u001b[0m\u001b[0;34m(\u001b[0m\u001b[0mpath_to_data\u001b[0m\u001b[0;34m+\u001b[0m\u001b[0;34mf'{study_name}{var}_run{run}/file.txt'\u001b[0m\u001b[0;34m,\u001b[0m \u001b[0mdelimiter\u001b[0m \u001b[0;34m=\u001b[0m \u001b[0;34m\",\"\u001b[0m\u001b[0;34m,\u001b[0m \u001b[0munpack\u001b[0m \u001b[0;34m=\u001b[0m \u001b[0;32mTrue\u001b[0m\u001b[0;34m)\u001b[0m\u001b[0;34m\u001b[0m\u001b[0;34m\u001b[0m\u001b[0m\n\u001b[0m\u001b[1;32m     10\u001b[0m         \u001b[0;31m# B. Create a different list for each run and save the emittance values\u001b[0m\u001b[0;34m\u001b[0m\u001b[0;34m\u001b[0m\u001b[0;34m\u001b[0m\u001b[0m\n\u001b[1;32m     11\u001b[0m         \u001b[0mex_dict\u001b[0m\u001b[0;34m[\u001b[0m\u001b[0mtemp_name\u001b[0m\u001b[0;34m]\u001b[0m \u001b[0;34m=\u001b[0m \u001b[0memitX\u001b[0m\u001b[0;34m\u001b[0m\u001b[0;34m\u001b[0m\u001b[0m\n",
      "\u001b[0;32m~/anaconda3/envs/run_pyheadtail/lib/python3.7/site-packages/numpy/lib/npyio.py\u001b[0m in \u001b[0;36mloadtxt\u001b[0;34m(fname, dtype, comments, delimiter, converters, skiprows, usecols, unpack, ndmin, encoding, max_rows)\u001b[0m\n\u001b[1;32m    979\u001b[0m             \u001b[0mfname\u001b[0m \u001b[0;34m=\u001b[0m \u001b[0mos_fspath\u001b[0m\u001b[0;34m(\u001b[0m\u001b[0mfname\u001b[0m\u001b[0;34m)\u001b[0m\u001b[0;34m\u001b[0m\u001b[0;34m\u001b[0m\u001b[0m\n\u001b[1;32m    980\u001b[0m         \u001b[0;32mif\u001b[0m \u001b[0m_is_string_like\u001b[0m\u001b[0;34m(\u001b[0m\u001b[0mfname\u001b[0m\u001b[0;34m)\u001b[0m\u001b[0;34m:\u001b[0m\u001b[0;34m\u001b[0m\u001b[0;34m\u001b[0m\u001b[0m\n\u001b[0;32m--> 981\u001b[0;31m             \u001b[0mfh\u001b[0m \u001b[0;34m=\u001b[0m \u001b[0mnp\u001b[0m\u001b[0;34m.\u001b[0m\u001b[0mlib\u001b[0m\u001b[0;34m.\u001b[0m\u001b[0m_datasource\u001b[0m\u001b[0;34m.\u001b[0m\u001b[0mopen\u001b[0m\u001b[0;34m(\u001b[0m\u001b[0mfname\u001b[0m\u001b[0;34m,\u001b[0m \u001b[0;34m'rt'\u001b[0m\u001b[0;34m,\u001b[0m \u001b[0mencoding\u001b[0m\u001b[0;34m=\u001b[0m\u001b[0mencoding\u001b[0m\u001b[0;34m)\u001b[0m\u001b[0;34m\u001b[0m\u001b[0;34m\u001b[0m\u001b[0m\n\u001b[0m\u001b[1;32m    982\u001b[0m             \u001b[0mfencoding\u001b[0m \u001b[0;34m=\u001b[0m \u001b[0mgetattr\u001b[0m\u001b[0;34m(\u001b[0m\u001b[0mfh\u001b[0m\u001b[0;34m,\u001b[0m \u001b[0;34m'encoding'\u001b[0m\u001b[0;34m,\u001b[0m \u001b[0;34m'latin1'\u001b[0m\u001b[0;34m)\u001b[0m\u001b[0;34m\u001b[0m\u001b[0;34m\u001b[0m\u001b[0m\n\u001b[1;32m    983\u001b[0m             \u001b[0mfh\u001b[0m \u001b[0;34m=\u001b[0m \u001b[0miter\u001b[0m\u001b[0;34m(\u001b[0m\u001b[0mfh\u001b[0m\u001b[0;34m)\u001b[0m\u001b[0;34m\u001b[0m\u001b[0;34m\u001b[0m\u001b[0m\n",
      "\u001b[0;32m~/anaconda3/envs/run_pyheadtail/lib/python3.7/site-packages/numpy/lib/_datasource.py\u001b[0m in \u001b[0;36mopen\u001b[0;34m(path, mode, destpath, encoding, newline)\u001b[0m\n\u001b[1;32m    267\u001b[0m \u001b[0;34m\u001b[0m\u001b[0m\n\u001b[1;32m    268\u001b[0m     \u001b[0mds\u001b[0m \u001b[0;34m=\u001b[0m \u001b[0mDataSource\u001b[0m\u001b[0;34m(\u001b[0m\u001b[0mdestpath\u001b[0m\u001b[0;34m)\u001b[0m\u001b[0;34m\u001b[0m\u001b[0;34m\u001b[0m\u001b[0m\n\u001b[0;32m--> 269\u001b[0;31m     \u001b[0;32mreturn\u001b[0m \u001b[0mds\u001b[0m\u001b[0;34m.\u001b[0m\u001b[0mopen\u001b[0m\u001b[0;34m(\u001b[0m\u001b[0mpath\u001b[0m\u001b[0;34m,\u001b[0m \u001b[0mmode\u001b[0m\u001b[0;34m,\u001b[0m \u001b[0mencoding\u001b[0m\u001b[0;34m=\u001b[0m\u001b[0mencoding\u001b[0m\u001b[0;34m,\u001b[0m \u001b[0mnewline\u001b[0m\u001b[0;34m=\u001b[0m\u001b[0mnewline\u001b[0m\u001b[0;34m)\u001b[0m\u001b[0;34m\u001b[0m\u001b[0;34m\u001b[0m\u001b[0m\n\u001b[0m\u001b[1;32m    270\u001b[0m \u001b[0;34m\u001b[0m\u001b[0m\n\u001b[1;32m    271\u001b[0m \u001b[0;34m\u001b[0m\u001b[0m\n",
      "\u001b[0;32m~/anaconda3/envs/run_pyheadtail/lib/python3.7/site-packages/numpy/lib/_datasource.py\u001b[0m in \u001b[0;36mopen\u001b[0;34m(self, path, mode, encoding, newline)\u001b[0m\n\u001b[1;32m    621\u001b[0m                                       encoding=encoding, newline=newline)\n\u001b[1;32m    622\u001b[0m         \u001b[0;32melse\u001b[0m\u001b[0;34m:\u001b[0m\u001b[0;34m\u001b[0m\u001b[0;34m\u001b[0m\u001b[0m\n\u001b[0;32m--> 623\u001b[0;31m             \u001b[0;32mraise\u001b[0m \u001b[0mIOError\u001b[0m\u001b[0;34m(\u001b[0m\u001b[0;34m\"%s not found.\"\u001b[0m \u001b[0;34m%\u001b[0m \u001b[0mpath\u001b[0m\u001b[0;34m)\u001b[0m\u001b[0;34m\u001b[0m\u001b[0;34m\u001b[0m\u001b[0m\n\u001b[0m\u001b[1;32m    624\u001b[0m \u001b[0;34m\u001b[0m\u001b[0m\n\u001b[1;32m    625\u001b[0m \u001b[0;34m\u001b[0m\u001b[0m\n",
      "\u001b[0;31mOSError\u001b[0m: /afs/cern.ch/work/n/natriant/private/pyheadtail_example_crabcavity/sps_270GeV_CC_PN1e-8_1e5turns_5e5Nb_Nowakefields_QpxQpy5e-1_ayy0.0_run0/file.txt not found."
     ]
    }
   ],
   "source": [
    "ex_dict = {} # type: dictionary\n",
    "ey_dict = {}\n",
    "\n",
    "\n",
    "for var in my_variables:\n",
    "    for run in range(n_runs):\n",
    "        temp_name = f'{var}_run{run}' # the suffix of the name of the current study\n",
    "        # A. load the turn by turn data in a dictionary\n",
    "        meanX, meanY, meanXsq, meanYsq, emitX, emitY = np.loadtxt(path_to_data+f'{study_name}{var}_run{run}/file.txt', delimiter = \",\", unpack = True)\n",
    "        # B. Create a different list for each run and save the emittance values\n",
    "        ex_dict[temp_name] = emitX \n",
    "        ey_dict[temp_name] = emitY"
   ]
  },
  {
   "cell_type": "markdown",
   "metadata": {},
   "source": [
    "### Do the polynomial fit, deg=1"
   ]
  },
  {
   "cell_type": "code",
   "execution_count": 19,
   "metadata": {},
   "outputs": [],
   "source": [
    "m_dict = {} # slope of the fit\n",
    "b_dict = {} # offset\n",
    "err_dict = {} # error of the gradient of the fit slope\n",
    "for var in my_variables:\n",
    "    m_dict[f'{var}'], b_dict[f'{var}'], err_dict[f'{var}'] = [], [], []\n",
    "    for run in range(n_runs):\n",
    "        temp_name = f'{var}_run{run}'\n",
    "        # linear fit\n",
    "        [m, b], cov = np.polyfit(tspan, ey_dict[temp_name], 1, cov=True)\n",
    "        # compute the error of the gradient of the fit slope\n",
    "        err= np.sqrt(np.diag(cov))\n",
    "        m_dict[f'{var}'].append(m) # len(m_dict[f'{var}']) = n_runs\n",
    "        b_dict[f'{var}'].append(b)\n",
    "        err_dict[f'{var}'].append(err[0])"
   ]
  },
  {
   "cell_type": "code",
   "execution_count": 20,
   "metadata": {},
   "outputs": [],
   "source": [
    "data = {}\n",
    "for var in my_variables:\n",
    "    data[f'ayy_{var}'] =[m_dict[f'{var}'], b_dict[f'{var}'], err_dict[f'{var}']]\n",
    "df = pd.DataFrame(data, index=['m','b','err'])\n",
    "\n",
    "filename = f'deyRates_{study_name}Scan_v2.pkl'\n",
    "if not os.path.exists(filename):\n",
    "    df.to_pickle(filename)"
   ]
  },
  {
   "cell_type": "code",
   "execution_count": 21,
   "metadata": {},
   "outputs": [
    {
     "data": {
      "text/html": [
       "<div>\n",
       "<style scoped>\n",
       "    .dataframe tbody tr th:only-of-type {\n",
       "        vertical-align: middle;\n",
       "    }\n",
       "\n",
       "    .dataframe tbody tr th {\n",
       "        vertical-align: top;\n",
       "    }\n",
       "\n",
       "    .dataframe thead th {\n",
       "        text-align: right;\n",
       "    }\n",
       "</style>\n",
       "<table border=\"1\" class=\"dataframe\">\n",
       "  <thead>\n",
       "    <tr style=\"text-align: right;\">\n",
       "      <th></th>\n",
       "      <th>ayy_9600.0</th>\n",
       "      <th>ayy_10400.0</th>\n",
       "      <th>ayy_11200.0</th>\n",
       "      <th>ayy_12000.0</th>\n",
       "      <th>ayy_12800.0</th>\n",
       "      <th>ayy_13600.0</th>\n",
       "      <th>ayy_14400.0</th>\n",
       "      <th>ayy_15200.0</th>\n",
       "    </tr>\n",
       "  </thead>\n",
       "  <tbody>\n",
       "    <tr>\n",
       "      <th>m</th>\n",
       "      <td>[2.638838444539281e-08, 2.078739968946508e-08,...</td>\n",
       "      <td>[2.3876177198483267e-08, 2.2393745329115065e-0...</td>\n",
       "      <td>[2.5698257011727584e-08, 2.2996757192198644e-0...</td>\n",
       "      <td>[2.1183777509186373e-08, 2.7349146995089988e-0...</td>\n",
       "      <td>[2.602258654107215e-08, 2.2276036574573737e-08...</td>\n",
       "      <td>[2.4168532967651007e-08, 2.6830130590641406e-0...</td>\n",
       "      <td>[2.2812335477107567e-08, 1.9505378439906653e-0...</td>\n",
       "      <td>[2.456724114420892e-08, 2.0680248479553685e-08...</td>\n",
       "    </tr>\n",
       "    <tr>\n",
       "      <th>b</th>\n",
       "      <td>[2.0011975839544234e-06, 2.0008781250122243e-0...</td>\n",
       "      <td>[1.9947169466425986e-06, 2.0046466501013207e-0...</td>\n",
       "      <td>[2.0018113438824218e-06, 1.9972881693832753e-0...</td>\n",
       "      <td>[1.9969990188215484e-06, 2.002729968464801e-06...</td>\n",
       "      <td>[2.0008967195938428e-06, 2.000413980151015e-06...</td>\n",
       "      <td>[1.9979332903394546e-06, 1.9958712309677773e-0...</td>\n",
       "      <td>[1.995915823635964e-06, 2.0044754321791757e-06...</td>\n",
       "      <td>[2.000397907977805e-06, 2.0036962808400293e-06...</td>\n",
       "    </tr>\n",
       "    <tr>\n",
       "      <th>err</th>\n",
       "      <td>[8.417155208117679e-11, 4.7520088503828564e-11...</td>\n",
       "      <td>[5.513353740023748e-11, 3.505312766148465e-11,...</td>\n",
       "      <td>[6.381135392967278e-11, 3.146609481232457e-11,...</td>\n",
       "      <td>[2.972171260946486e-11, 9.086962905763876e-11,...</td>\n",
       "      <td>[6.495127261446017e-11, 4.0904212961958046e-11...</td>\n",
       "      <td>[1.2028597481276425e-10, 5.5292701260538964e-1...</td>\n",
       "      <td>[4.2207262483396716e-11, 2.836712442220588e-11...</td>\n",
       "      <td>[5.1361260256570935e-11, 5.356758297045163e-11...</td>\n",
       "    </tr>\n",
       "  </tbody>\n",
       "</table>\n",
       "</div>"
      ],
      "text/plain": [
       "                                            ayy_9600.0  \\\n",
       "m    [2.638838444539281e-08, 2.078739968946508e-08,...   \n",
       "b    [2.0011975839544234e-06, 2.0008781250122243e-0...   \n",
       "err  [8.417155208117679e-11, 4.7520088503828564e-11...   \n",
       "\n",
       "                                           ayy_10400.0  \\\n",
       "m    [2.3876177198483267e-08, 2.2393745329115065e-0...   \n",
       "b    [1.9947169466425986e-06, 2.0046466501013207e-0...   \n",
       "err  [5.513353740023748e-11, 3.505312766148465e-11,...   \n",
       "\n",
       "                                           ayy_11200.0  \\\n",
       "m    [2.5698257011727584e-08, 2.2996757192198644e-0...   \n",
       "b    [2.0018113438824218e-06, 1.9972881693832753e-0...   \n",
       "err  [6.381135392967278e-11, 3.146609481232457e-11,...   \n",
       "\n",
       "                                           ayy_12000.0  \\\n",
       "m    [2.1183777509186373e-08, 2.7349146995089988e-0...   \n",
       "b    [1.9969990188215484e-06, 2.002729968464801e-06...   \n",
       "err  [2.972171260946486e-11, 9.086962905763876e-11,...   \n",
       "\n",
       "                                           ayy_12800.0  \\\n",
       "m    [2.602258654107215e-08, 2.2276036574573737e-08...   \n",
       "b    [2.0008967195938428e-06, 2.000413980151015e-06...   \n",
       "err  [6.495127261446017e-11, 4.0904212961958046e-11...   \n",
       "\n",
       "                                           ayy_13600.0  \\\n",
       "m    [2.4168532967651007e-08, 2.6830130590641406e-0...   \n",
       "b    [1.9979332903394546e-06, 1.9958712309677773e-0...   \n",
       "err  [1.2028597481276425e-10, 5.5292701260538964e-1...   \n",
       "\n",
       "                                           ayy_14400.0  \\\n",
       "m    [2.2812335477107567e-08, 1.9505378439906653e-0...   \n",
       "b    [1.995915823635964e-06, 2.0044754321791757e-06...   \n",
       "err  [4.2207262483396716e-11, 2.836712442220588e-11...   \n",
       "\n",
       "                                           ayy_15200.0  \n",
       "m    [2.456724114420892e-08, 2.0680248479553685e-08...  \n",
       "b    [2.000397907977805e-06, 2.0036962808400293e-06...  \n",
       "err  [5.1361260256570935e-11, 5.356758297045163e-11...  "
      ]
     },
     "execution_count": 21,
     "metadata": {},
     "output_type": "execute_result"
    }
   ],
   "source": [
    "df"
   ]
  },
  {
   "cell_type": "markdown",
   "metadata": {},
   "source": [
    "### Plot emittance growth for one of the variables"
   ]
  },
  {
   "cell_type": "code",
   "execution_count": 32,
   "metadata": {},
   "outputs": [
    {
     "name": "stdout",
     "output_type": "stream",
     "text": [
      "['ayy_9600.0', 'ayy_10400.0', 'ayy_11200.0', 'ayy_12000.0', 'ayy_12800.0', 'ayy_13600.0', 'ayy_14400.0', 'ayy_15200.0']\n",
      "ayy_14400.0\n"
     ]
    },
    {
     "data": {
      "text/plain": [
       "<matplotlib.legend.Legend at 0x7f2da28e7890>"
      ]
     },
     "execution_count": 32,
     "metadata": {},
     "output_type": "execute_result"
    },
    {
     "data": {
      "image/png": "[encoded data removed]",
      "text/plain": [
       "<Figure size 432x288 with 1 Axes>"
      ]
     },
     "metadata": {
      "needs_background": "light"
     },
     "output_type": "display_data"
    }
   ],
   "source": [
    "studies_list = list(df.keys())\n",
    "print(studies_list)\n",
    "study = studies_list[6] # choose study\n",
    "print(study)\n",
    "\n",
    "for run in np.arange(len(df[study]['m'])):\n",
    "    #plt.plot(tspan, np.array(ey_dict[f'14400.0_run{run}'])/np.array(ey_dict[f'14400.0_run{run}'][0]) )\n",
    "    plt.plot(tspan, (df[study]['m'][run]*tspan+df[study]['b'][run])*1e6, label=df[study]['m'][run]*1e9)\n",
    "# linear fit on the emittance values obtained from the simulation averaged over turns\n",
    "#plt.plot(time, (m*time+b)*1e6, c = 'k', label='dey/dt={0:.2f}'.format(m*1e9)+'$\\pm$'+'{0:.2f} nm/s'.format(err[0]*1e9), linewidth = 2)\n",
    "plt.legend()\n",
    "\n",
    "#plt.plot(time, df[])"
   ]
  },
  {
   "cell_type": "code",
   "execution_count": null,
   "metadata": {},
   "outputs": [],
   "source": []
  },
  {
   "cell_type": "code",
   "execution_count": null,
   "metadata": {},
   "outputs": [],
   "source": []
  }
 ],
 "metadata": {
  "kernelspec": {
   "display_name": "Python 3",
   "language": "python",
   "name": "python3"
  },
  "language_info": {
   "codemirror_mode": {
    "name": "ipython",
    "version": 3
   },
   "file_extension": ".py",
   "mimetype": "text/x-python",
   "name": "python",
   "nbconvert_exporter": "python",
   "pygments_lexer": "ipython3",
   "version": "3.7.6"
  }
 },
 "nbformat": 4,
 "nbformat_minor": 4
}
