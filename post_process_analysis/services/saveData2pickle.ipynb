{
 "cells": [
  {
   "cell_type": "code",
   "execution_count": 14,
   "metadata": {},
   "outputs": [],
   "source": [
    "import numpy as np\n",
    "import pickle"
   ]
  },
  {
   "cell_type": "code",
   "execution_count": 15,
   "metadata": {},
   "outputs": [],
   "source": [
    "intensity_scan = np.linspace(0,5e10, 25)\n",
    "Qy_coherent = {}\n",
    "\n",
    "for intensity in intensity_scan:\n",
    "    Qy_coherent[f'intensity {intensity/1e10:.2f}e10'] = []"
   ]
  },
  {
   "cell_type": "code",
   "execution_count": 16,
   "metadata": {},
   "outputs": [
    {
     "data": {
      "text/plain": [
       "{'intensity 0.00e10': [],\n",
       " 'intensity 0.21e10': [],\n",
       " 'intensity 0.42e10': [],\n",
       " 'intensity 0.62e10': [],\n",
       " 'intensity 0.83e10': [],\n",
       " 'intensity 1.04e10': [],\n",
       " 'intensity 1.25e10': [],\n",
       " 'intensity 1.46e10': [],\n",
       " 'intensity 1.67e10': [],\n",
       " 'intensity 1.88e10': [],\n",
       " 'intensity 2.08e10': [],\n",
       " 'intensity 2.29e10': [],\n",
       " 'intensity 2.50e10': [],\n",
       " 'intensity 2.71e10': [],\n",
       " 'intensity 2.92e10': [],\n",
       " 'intensity 3.12e10': [],\n",
       " 'intensity 3.33e10': [],\n",
       " 'intensity 3.54e10': [],\n",
       " 'intensity 3.75e10': [],\n",
       " 'intensity 3.96e10': [],\n",
       " 'intensity 4.17e10': [],\n",
       " 'intensity 4.38e10': [],\n",
       " 'intensity 4.58e10': [],\n",
       " 'intensity 4.79e10': [],\n",
       " 'intensity 5.00e10': []}"
      ]
     },
     "execution_count": 16,
     "metadata": {},
     "output_type": "execute_result"
    }
   ],
   "source": [
    "Qy_coherent"
   ]
  },
  {
   "cell_type": "code",
   "execution_count": 17,
   "metadata": {},
   "outputs": [],
   "source": [
    "Qy_coherent['intensity 0.00e10']=0.17980139190456434\n",
    "Qy_coherent['intensity 0.21e10']=0.17982759913385923\n",
    "Qy_coherent['intensity 0.42e10']=0.17982271280010098\n",
    "Qy_coherent['intensity 0.62e10']=0.17986393575068385\n",
    "Qy_coherent['intensity 0.83e10']=0.1797235668290228\n",
    "Qy_coherent['intensity 1.04e10']=0.17981509953879063\n",
    "Qy_coherent['intensity 1.25e10']=0.17977754115274758\n",
    "Qy_coherent['intensity 1.46e10']=0.17959076601187743\n",
    "Qy_coherent['intensity 1.67e10']=0.1792678105848463\n",
    "Qy_coherent['intensity 1.88e10']=0.17975409556981034\n",
    "Qy_coherent['intensity 2.08e10']=0.17974504115964465\n",
    "Qy_coherent['intensity 2.29e10']=0.1795234472283785#2.29\n",
    "Qy_coherent['intensity 2.50e10']= 0.17960752376169625\n",
    "Qy_coherent['intensity 2.71e10']=0.1795834902679016\n",
    "Qy_coherent['intensity 2.92e10']= 0.17948357941065332\n",
    "Qy_coherent['intensity 3.12e10']=0.17966112029873377\n",
    "Qy_coherent['intensity 3.33e10']=0.1793906004417018\n",
    "Qy_coherent['intensity 3.54e10']=0.17955912404690208\n",
    "Qy_coherent['intensity 3.75e10']=0.17951798472473193\n",
    "Qy_coherent['intensity 3.96e10']=0.1794074963036346\n",
    "Qy_coherent['intensity 4.17e10']=0.17945609519039912\n",
    "Qy_coherent['intensity 4.38e10']=0.18059666872372915\n",
    "Qy_coherent['intensity 4.58e10']=0.17921900222749515\n",
    "Qy_coherent['intensity 4.79e10']=0.17928053652756795\n",
    "Qy_coherent['intensity 5.00e10']=0.17925419627601327"
   ]
  },
  {
   "cell_type": "code",
   "execution_count": 18,
   "metadata": {},
   "outputs": [],
   "source": [
    "save2pickle = False\n",
    "if save2pickle:\n",
    "    with open('Qy_coherent_vs_IntensityScan_6D_ayy-6000_wakesON_Qpy0_NoinitialOffsetY1e-4m.pkl', 'wb') as ff:\n",
    "        pickle.dump(Qy_coherent, ff, pickle.HIGHEST_PROTOCOL)\n",
    "    ff.close()"
   ]
  },
  {
   "cell_type": "code",
   "execution_count": null,
   "metadata": {},
   "outputs": [],
   "source": []
  }
 ],
 "metadata": {
  "kernelspec": {
   "display_name": "Python 3",
   "language": "python",
   "name": "python3"
  },
  "language_info": {
   "codemirror_mode": {
    "name": "ipython",
    "version": 3
   },
   "file_extension": ".py",
   "mimetype": "text/x-python",
   "name": "python",
   "nbconvert_exporter": "python",
   "pygments_lexer": "ipython3",
   "version": "3.7.3"
  }
 },
 "nbformat": 4,
 "nbformat_minor": 4
}
