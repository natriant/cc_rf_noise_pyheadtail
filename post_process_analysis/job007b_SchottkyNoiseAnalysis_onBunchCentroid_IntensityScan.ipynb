{
 "cells": [
  {
   "cell_type": "markdown",
   "metadata": {},
   "source": [
    "### Study the overlap between the coherent tune and the incoherent spectrum by applying FFT on the tbt data of the bunch centroid motion. \n",
    "\n",
    "**Schottky method:**\n",
    "\n",
    "- Track very few particles ~1e4, comparing to the 5e5 particles usually used for the simulations with impedance. There are not enough particles to compute the centroid with accuracy. This noise will result to the incoherent spectrum. That’s why a few particles are needed. Many turns are necessary (here 2**17)\n",
    "\n",
    "- Note: Due to the small number of macroparticles, in the presence of the impedance most likely you will have some emittance growth. But it is negelted for now. "
   ]
  },
  {
   "cell_type": "code",
   "execution_count": 1,
   "metadata": {},
   "outputs": [],
   "source": [
    "import numpy as np\n",
    "import matplotlib.pyplot as plt\n",
    "import pickle\n",
    "import pandas as pd\n",
    "import os\n",
    "import sys\n",
    "sys.path.append('../../utils')\n",
    "from cmpt_TuneSpreads import *\n",
    "from coordinatesConversions import *"
   ]
  },
  {
   "cell_type": "code",
   "execution_count": 2,
   "metadata": {},
   "outputs": [],
   "source": [
    "params = {'legend.fontsize': 20,\n",
    "          'figure.figsize': (8, 7),\n",
    "          'axes.labelsize': 25,\n",
    "          'axes.titlesize': 21,\n",
    "          'xtick.labelsize': 23,\n",
    "          'ytick.labelsize': 23,\n",
    "          'image.cmap': 'jet',\n",
    "          'lines.linewidth': 2,\n",
    "          'lines.markersize': 7,\n",
    "          'font.family': 'sans-serif'}\n",
    "\n",
    "\n",
    "plt.rc('text', usetex=False)\n",
    "plt.rc('font', family='serif')\n",
    "plt.rcParams.update(params)\n",
    "plt.close('all')"
   ]
  },
  {
   "cell_type": "code",
   "execution_count": 3,
   "metadata": {},
   "outputs": [],
   "source": [
    "def find_tune(a): # find and return the frequency with the maximum amplitude\n",
    "    max_fft = max(a)\n",
    "    my_index = [i for i, j in enumerate(a) if j == max_fft]\n",
    "    return my_index"
   ]
  },
  {
   "cell_type": "code",
   "execution_count": 4,
   "metadata": {},
   "outputs": [],
   "source": [
    "def cmpt_psd(n_turns, frev, fft):\n",
    "    time = np.arange(int(n_turns))/frev # convert from turns to time\n",
    "    Dt = time[1]-time[0] # sampling (s)\n",
    "    #print(Dt)\n",
    "\n",
    "    # freq = np.linspace(0, N/time[-1], N)  # [0, 2frev]\n",
    "    freq_psd = np.fft.fftfreq(int(n_turns), Dt) # [-frev/2, frev/2]\n",
    "    Df = freq_psd[1]-freq_psd[0]\n",
    "\n",
    "    print('sampling ratio Df={}'.format(Df))\n",
    "   \n",
    "    #### To obtain a more precise value of PSD, we use the average of 10000 FFTs\n",
    "    dft_1 = np.abs(fft)**2  \n",
    "    PSD_1 = dft_1/(Df*(n_turns/2)**2) # power spectral density\n",
    "\n",
    "    return freq_psd, PSD_1"
   ]
  },
  {
   "cell_type": "markdown",
   "metadata": {},
   "source": [
    "### Study parameters"
   ]
  },
  {
   "cell_type": "code",
   "execution_count": 5,
   "metadata": {},
   "outputs": [],
   "source": [
    "gamma = 287.8\n",
    "beta = np.sqrt(1 - 1/gamma**2)\n",
    "circumference = 6911.5623\n",
    "frev = 299792458/circumference\n",
    "n_turns = 2**17\n",
    "intensity = 3.5e10\n",
    "\n",
    "ayy, axy = -6000, 0.0\n",
    "Qpy=0\n",
    "wakes = 'ON'"
   ]
  },
  {
   "cell_type": "code",
   "execution_count": 6,
   "metadata": {},
   "outputs": [],
   "source": [
    "intensity_scan = np.linspace(0, 5e10, 25)"
   ]
  },
  {
   "cell_type": "markdown",
   "metadata": {},
   "source": [
    "### Load tbt data for each intensity value"
   ]
  },
  {
   "cell_type": "code",
   "execution_count": 7,
   "metadata": {},
   "outputs": [],
   "source": [
    "load_from_afs = True\n",
    "\n",
    "path2data ='/afs/cern.ch/work/n/natriant/private/pyheadtail_example_crabcavity/'\n",
    "study_name=f'sps_forSchottky_tbt_270GeV_NoNoise_WakesON_ayy{ayy}_QpxQpy{Qpy}_6D_InitialOffsetY1e-4m_Intensity'"
   ]
  },
  {
   "cell_type": "markdown",
   "metadata": {},
   "source": [
    "#### Load all data in a dictionary and damp in a data frame"
   ]
  },
  {
   "cell_type": "code",
   "execution_count": 8,
   "metadata": {},
   "outputs": [
    {
     "name": "stdout",
     "output_type": "stream",
     "text": [
      "0.0\n",
      "2083333333.3333333\n",
      "4166666666.6666665\n",
      "6250000000.0\n",
      "8333333333.333333\n",
      "10416666666.666666\n",
      "12500000000.0\n",
      "14583333333.333332\n",
      "16666666666.666666\n",
      "18750000000.0\n",
      "20833333333.333332\n",
      "22916666666.666664\n",
      "25000000000.0\n",
      "27083333333.333332\n",
      "29166666666.666664\n",
      "31250000000.0\n",
      "33333333333.333332\n",
      "35416666666.666664\n",
      "37500000000.0\n",
      "39583333333.33333\n",
      "41666666666.666664\n",
      "43750000000.0\n",
      "45833333333.33333\n",
      "47916666666.666664\n",
      "50000000000.0\n"
     ]
    }
   ],
   "source": [
    "if load_from_afs:\n",
    "    meanY_list, meanX_list = [], []\n",
    "    emitY_list, emitX_list = [], []\n",
    "\n",
    "\n",
    "    for intensity in intensity_scan:\n",
    "        print(intensity) # print to see the progress\n",
    "        meanX, meanY, emitX, emitY = np.loadtxt(path2data+f'{study_name}{intensity/1e10:.2f}e10_fixedKicksSet0_run0/file.txt', delimiter = \",\", unpack = True)\n",
    "        meanX_list.append(meanX)\n",
    "        meanY_list.append(meanY)\n",
    "        emitX_list.append(emitX)\n",
    "        emitY_list.append(emitX)\n",
    "        \n",
    "    data = {}\n",
    "    for i, intensity in enumerate(intensity_scan):\n",
    "        data[f'intensity_{intensity/1e10:.2f}e10'] =[meanX_list[i], meanY_list[i], emitX_list[i], emitY_list[i]]\n",
    "    df = pd.DataFrame(data, index=['meanX','meanY','emitX', 'emitY'])\n",
    "\n",
    "savedata=True\n",
    "if savedata:\n",
    "    filename = f'tbtData_{study_name}Scan.pkl'\n",
    "    if not os.path.exists(filename):\n",
    "        df.to_pickle(filename)"
   ]
  },
  {
   "cell_type": "markdown",
   "metadata": {},
   "source": [
    "#### Load tbt data from a pickle file"
   ]
  },
  {
   "cell_type": "code",
   "execution_count": 9,
   "metadata": {},
   "outputs": [],
   "source": [
    "if not load_from_afs:\n",
    "    print('Load from file')\n",
    "    df = pickle.load(open(f'tbtData_sps_forSchottky_tbt_270GeV_NoNoise_WakesON_ayy{ayy}_QpxQpy{Qpy}_6D_InitialOffsetY1e-4m_IntensityScan.pkl', 'rb'))"
   ]
  },
  {
   "cell_type": "code",
   "execution_count": 10,
   "metadata": {},
   "outputs": [
    {
     "data": {
      "text/html": [
       "<div>\n",
       "<style scoped>\n",
       "    .dataframe tbody tr th:only-of-type {\n",
       "        vertical-align: middle;\n",
       "    }\n",
       "\n",
       "    .dataframe tbody tr th {\n",
       "        vertical-align: top;\n",
       "    }\n",
       "\n",
       "    .dataframe thead th {\n",
       "        text-align: right;\n",
       "    }\n",
       "</style>\n",
       "<table border=\"1\" class=\"dataframe\">\n",
       "  <thead>\n",
       "    <tr style=\"text-align: right;\">\n",
       "      <th></th>\n",
       "      <th>intensity_0.00e10</th>\n",
       "      <th>intensity_0.21e10</th>\n",
       "      <th>intensity_0.42e10</th>\n",
       "      <th>intensity_0.62e10</th>\n",
       "      <th>intensity_0.83e10</th>\n",
       "      <th>intensity_1.04e10</th>\n",
       "      <th>intensity_1.25e10</th>\n",
       "      <th>intensity_1.46e10</th>\n",
       "      <th>intensity_1.67e10</th>\n",
       "      <th>intensity_1.88e10</th>\n",
       "      <th>...</th>\n",
       "      <th>intensity_3.12e10</th>\n",
       "      <th>intensity_3.33e10</th>\n",
       "      <th>intensity_3.54e10</th>\n",
       "      <th>intensity_3.75e10</th>\n",
       "      <th>intensity_3.96e10</th>\n",
       "      <th>intensity_4.17e10</th>\n",
       "      <th>intensity_4.38e10</th>\n",
       "      <th>intensity_4.58e10</th>\n",
       "      <th>intensity_4.79e10</th>\n",
       "      <th>intensity_5.00e10</th>\n",
       "    </tr>\n",
       "  </thead>\n",
       "  <tbody>\n",
       "    <tr>\n",
       "      <th>meanX</th>\n",
       "      <td>[5.819248036676831e-06, -2.0460544512091166e-0...</td>\n",
       "      <td>[-1.7122435870768366e-06, -3.195178219442464e-...</td>\n",
       "      <td>[-3.108914418441664e-06, -5.833326537030066e-0...</td>\n",
       "      <td>[-4.5074368551035335e-06, 1.1863853924537673e-...</td>\n",
       "      <td>[2.93964730200083e-06, 2.5283212580337367e-06,...</td>\n",
       "      <td>[-4.5599616039976575e-06, -3.1377768788305866e...</td>\n",
       "      <td>[4.4529184533353274e-08, 1.7670158680899229e-0...</td>\n",
       "      <td>[-6.65177698649842e-07, -4.5911515595586996e-0...</td>\n",
       "      <td>[3.5411099113438872e-06, 7.38834956574917e-06,...</td>\n",
       "      <td>[5.477482098567402e-06, 6.083188477820221e-06,...</td>\n",
       "      <td>...</td>\n",
       "      <td>[-7.6243709395829255e-06, 2.758995096763653e-0...</td>\n",
       "      <td>[2.140813052672308e-06, 2.126772404050303e-06,...</td>\n",
       "      <td>[-1.6685024616324616e-06, 4.389554994341845e-0...</td>\n",
       "      <td>[-2.580476263400071e-06, -2.935871140131224e-0...</td>\n",
       "      <td>[1.572702858876443e-06, 3.4547817512410387e-07...</td>\n",
       "      <td>[-7.344210209012036e-06, -1.2621755663424533e-...</td>\n",
       "      <td>[6.57717613522722e-06, 9.081292721743378e-06, ...</td>\n",
       "      <td>[7.274658206498902e-06, 4.669449023148994e-06,...</td>\n",
       "      <td>[-4.307754642999771e-06, -1.8783730309820986e-...</td>\n",
       "      <td>[1.1642957148281597e-06, 4.259807361085845e-06...</td>\n",
       "    </tr>\n",
       "    <tr>\n",
       "      <th>meanY</th>\n",
       "      <td>[4.435499648674923e-05, -6.951469908913856e-05...</td>\n",
       "      <td>[4.536738930723443e-05, -6.883068375387773e-05...</td>\n",
       "      <td>[4.865680236405755e-05, -6.202155081678436e-05...</td>\n",
       "      <td>[5.221762152909877e-05, -6.020949903923323e-05...</td>\n",
       "      <td>[4.190674887125452e-05, -6.771454965391964e-05...</td>\n",
       "      <td>[4.5518563666948695e-05, -7.1630052418771e-05,...</td>\n",
       "      <td>[3.174633408323838e-05, -7.254634045182895e-05...</td>\n",
       "      <td>[3.1732351508725834e-05, -7.227971206791947e-0...</td>\n",
       "      <td>[3.1366912567465e-05, -7.421396740591426e-05, ...</td>\n",
       "      <td>[4.724245621403097e-05, -6.174139392150986e-05...</td>\n",
       "      <td>...</td>\n",
       "      <td>[4.0250892124227806e-05, -5.6453012121376476e-...</td>\n",
       "      <td>[4.5093568194845344e-05, -5.906629234724836e-0...</td>\n",
       "      <td>[4.4683492742117744e-05, -6.117886655410964e-0...</td>\n",
       "      <td>[4.0767819298923793e-05, -5.7103745464009836e-...</td>\n",
       "      <td>[3.628936040381226e-05, -6.0562257481157334e-0...</td>\n",
       "      <td>[2.885182906700201e-05, -5.729912709685082e-05...</td>\n",
       "      <td>[4.218497250270371e-05, -7.005910947991202e-05...</td>\n",
       "      <td>[3.3468096125377744e-05, -7.88705082757712e-05...</td>\n",
       "      <td>[5.055566265311898e-05, -6.449587604382148e-05...</td>\n",
       "      <td>[3.89557566058721e-05, -7.530844556441488e-05,...</td>\n",
       "    </tr>\n",
       "    <tr>\n",
       "      <th>emitX</th>\n",
       "      <td>[1.994635947050284e-06, 1.9946353152771316e-06...</td>\n",
       "      <td>[2.0298534947011403e-06, 2.029854298000103e-06...</td>\n",
       "      <td>[1.975443801540452e-06, 1.9754308106686503e-06...</td>\n",
       "      <td>[2.027826569356422e-06, 2.0278294682167973e-06...</td>\n",
       "      <td>[2.00427358864006e-06, 2.0042865849668128e-06,...</td>\n",
       "      <td>[2.009167344796883e-06, 2.0091729810469446e-06...</td>\n",
       "      <td>[1.97060893603437e-06, 1.9706317364368943e-06,...</td>\n",
       "      <td>[1.9961597800599973e-06, 1.996167802331643e-06...</td>\n",
       "      <td>[1.9888062859183177e-06, 1.9887956967352144e-0...</td>\n",
       "      <td>[1.9862799047524286e-06, 1.9862700025169e-06, ...</td>\n",
       "      <td>...</td>\n",
       "      <td>[1.992692315699872e-06, 1.9926973125859537e-06...</td>\n",
       "      <td>[2.031485297922203e-06, 2.0314746812993155e-06...</td>\n",
       "      <td>[1.9567156066451265e-06, 1.9567282109151106e-0...</td>\n",
       "      <td>[1.988219161082341e-06, 1.988238624607516e-06,...</td>\n",
       "      <td>[2.04254971503247e-06, 2.0425881369922355e-06,...</td>\n",
       "      <td>[1.967491314887623e-06, 1.967502773939542e-06,...</td>\n",
       "      <td>[1.991647336683658e-06, 1.9916621934716185e-06...</td>\n",
       "      <td>[1.997555335744227e-06, 1.997548327708131e-06,...</td>\n",
       "      <td>[1.9796624949044533e-06, 1.979662879015064e-06...</td>\n",
       "      <td>[1.976238027321606e-06, 1.976224619689657e-06,...</td>\n",
       "    </tr>\n",
       "    <tr>\n",
       "      <th>emitY</th>\n",
       "      <td>[1.994635947050284e-06, 1.9946353152771316e-06...</td>\n",
       "      <td>[2.0298534947011403e-06, 2.029854298000103e-06...</td>\n",
       "      <td>[1.975443801540452e-06, 1.9754308106686503e-06...</td>\n",
       "      <td>[2.027826569356422e-06, 2.0278294682167973e-06...</td>\n",
       "      <td>[2.00427358864006e-06, 2.0042865849668128e-06,...</td>\n",
       "      <td>[2.009167344796883e-06, 2.0091729810469446e-06...</td>\n",
       "      <td>[1.97060893603437e-06, 1.9706317364368943e-06,...</td>\n",
       "      <td>[1.9961597800599973e-06, 1.996167802331643e-06...</td>\n",
       "      <td>[1.9888062859183177e-06, 1.9887956967352144e-0...</td>\n",
       "      <td>[1.9862799047524286e-06, 1.9862700025169e-06, ...</td>\n",
       "      <td>...</td>\n",
       "      <td>[1.992692315699872e-06, 1.9926973125859537e-06...</td>\n",
       "      <td>[2.031485297922203e-06, 2.0314746812993155e-06...</td>\n",
       "      <td>[1.9567156066451265e-06, 1.9567282109151106e-0...</td>\n",
       "      <td>[1.988219161082341e-06, 1.988238624607516e-06,...</td>\n",
       "      <td>[2.04254971503247e-06, 2.0425881369922355e-06,...</td>\n",
       "      <td>[1.967491314887623e-06, 1.967502773939542e-06,...</td>\n",
       "      <td>[1.991647336683658e-06, 1.9916621934716185e-06...</td>\n",
       "      <td>[1.997555335744227e-06, 1.997548327708131e-06,...</td>\n",
       "      <td>[1.9796624949044533e-06, 1.979662879015064e-06...</td>\n",
       "      <td>[1.976238027321606e-06, 1.976224619689657e-06,...</td>\n",
       "    </tr>\n",
       "  </tbody>\n",
       "</table>\n",
       "<p>4 rows × 25 columns</p>\n",
       "</div>"
      ],
      "text/plain": [
       "                                       intensity_0.00e10  \\\n",
       "meanX  [5.819248036676831e-06, -2.0460544512091166e-0...   \n",
       "meanY  [4.435499648674923e-05, -6.951469908913856e-05...   \n",
       "emitX  [1.994635947050284e-06, 1.9946353152771316e-06...   \n",
       "emitY  [1.994635947050284e-06, 1.9946353152771316e-06...   \n",
       "\n",
       "                                       intensity_0.21e10  \\\n",
       "meanX  [-1.7122435870768366e-06, -3.195178219442464e-...   \n",
       "meanY  [4.536738930723443e-05, -6.883068375387773e-05...   \n",
       "emitX  [2.0298534947011403e-06, 2.029854298000103e-06...   \n",
       "emitY  [2.0298534947011403e-06, 2.029854298000103e-06...   \n",
       "\n",
       "                                       intensity_0.42e10  \\\n",
       "meanX  [-3.108914418441664e-06, -5.833326537030066e-0...   \n",
       "meanY  [4.865680236405755e-05, -6.202155081678436e-05...   \n",
       "emitX  [1.975443801540452e-06, 1.9754308106686503e-06...   \n",
       "emitY  [1.975443801540452e-06, 1.9754308106686503e-06...   \n",
       "\n",
       "                                       intensity_0.62e10  \\\n",
       "meanX  [-4.5074368551035335e-06, 1.1863853924537673e-...   \n",
       "meanY  [5.221762152909877e-05, -6.020949903923323e-05...   \n",
       "emitX  [2.027826569356422e-06, 2.0278294682167973e-06...   \n",
       "emitY  [2.027826569356422e-06, 2.0278294682167973e-06...   \n",
       "\n",
       "                                       intensity_0.83e10  \\\n",
       "meanX  [2.93964730200083e-06, 2.5283212580337367e-06,...   \n",
       "meanY  [4.190674887125452e-05, -6.771454965391964e-05...   \n",
       "emitX  [2.00427358864006e-06, 2.0042865849668128e-06,...   \n",
       "emitY  [2.00427358864006e-06, 2.0042865849668128e-06,...   \n",
       "\n",
       "                                       intensity_1.04e10  \\\n",
       "meanX  [-4.5599616039976575e-06, -3.1377768788305866e...   \n",
       "meanY  [4.5518563666948695e-05, -7.1630052418771e-05,...   \n",
       "emitX  [2.009167344796883e-06, 2.0091729810469446e-06...   \n",
       "emitY  [2.009167344796883e-06, 2.0091729810469446e-06...   \n",
       "\n",
       "                                       intensity_1.25e10  \\\n",
       "meanX  [4.4529184533353274e-08, 1.7670158680899229e-0...   \n",
       "meanY  [3.174633408323838e-05, -7.254634045182895e-05...   \n",
       "emitX  [1.97060893603437e-06, 1.9706317364368943e-06,...   \n",
       "emitY  [1.97060893603437e-06, 1.9706317364368943e-06,...   \n",
       "\n",
       "                                       intensity_1.46e10  \\\n",
       "meanX  [-6.65177698649842e-07, -4.5911515595586996e-0...   \n",
       "meanY  [3.1732351508725834e-05, -7.227971206791947e-0...   \n",
       "emitX  [1.9961597800599973e-06, 1.996167802331643e-06...   \n",
       "emitY  [1.9961597800599973e-06, 1.996167802331643e-06...   \n",
       "\n",
       "                                       intensity_1.67e10  \\\n",
       "meanX  [3.5411099113438872e-06, 7.38834956574917e-06,...   \n",
       "meanY  [3.1366912567465e-05, -7.421396740591426e-05, ...   \n",
       "emitX  [1.9888062859183177e-06, 1.9887956967352144e-0...   \n",
       "emitY  [1.9888062859183177e-06, 1.9887956967352144e-0...   \n",
       "\n",
       "                                       intensity_1.88e10  ...  \\\n",
       "meanX  [5.477482098567402e-06, 6.083188477820221e-06,...  ...   \n",
       "meanY  [4.724245621403097e-05, -6.174139392150986e-05...  ...   \n",
       "emitX  [1.9862799047524286e-06, 1.9862700025169e-06, ...  ...   \n",
       "emitY  [1.9862799047524286e-06, 1.9862700025169e-06, ...  ...   \n",
       "\n",
       "                                       intensity_3.12e10  \\\n",
       "meanX  [-7.6243709395829255e-06, 2.758995096763653e-0...   \n",
       "meanY  [4.0250892124227806e-05, -5.6453012121376476e-...   \n",
       "emitX  [1.992692315699872e-06, 1.9926973125859537e-06...   \n",
       "emitY  [1.992692315699872e-06, 1.9926973125859537e-06...   \n",
       "\n",
       "                                       intensity_3.33e10  \\\n",
       "meanX  [2.140813052672308e-06, 2.126772404050303e-06,...   \n",
       "meanY  [4.5093568194845344e-05, -5.906629234724836e-0...   \n",
       "emitX  [2.031485297922203e-06, 2.0314746812993155e-06...   \n",
       "emitY  [2.031485297922203e-06, 2.0314746812993155e-06...   \n",
       "\n",
       "                                       intensity_3.54e10  \\\n",
       "meanX  [-1.6685024616324616e-06, 4.389554994341845e-0...   \n",
       "meanY  [4.4683492742117744e-05, -6.117886655410964e-0...   \n",
       "emitX  [1.9567156066451265e-06, 1.9567282109151106e-0...   \n",
       "emitY  [1.9567156066451265e-06, 1.9567282109151106e-0...   \n",
       "\n",
       "                                       intensity_3.75e10  \\\n",
       "meanX  [-2.580476263400071e-06, -2.935871140131224e-0...   \n",
       "meanY  [4.0767819298923793e-05, -5.7103745464009836e-...   \n",
       "emitX  [1.988219161082341e-06, 1.988238624607516e-06,...   \n",
       "emitY  [1.988219161082341e-06, 1.988238624607516e-06,...   \n",
       "\n",
       "                                       intensity_3.96e10  \\\n",
       "meanX  [1.572702858876443e-06, 3.4547817512410387e-07...   \n",
       "meanY  [3.628936040381226e-05, -6.0562257481157334e-0...   \n",
       "emitX  [2.04254971503247e-06, 2.0425881369922355e-06,...   \n",
       "emitY  [2.04254971503247e-06, 2.0425881369922355e-06,...   \n",
       "\n",
       "                                       intensity_4.17e10  \\\n",
       "meanX  [-7.344210209012036e-06, -1.2621755663424533e-...   \n",
       "meanY  [2.885182906700201e-05, -5.729912709685082e-05...   \n",
       "emitX  [1.967491314887623e-06, 1.967502773939542e-06,...   \n",
       "emitY  [1.967491314887623e-06, 1.967502773939542e-06,...   \n",
       "\n",
       "                                       intensity_4.38e10  \\\n",
       "meanX  [6.57717613522722e-06, 9.081292721743378e-06, ...   \n",
       "meanY  [4.218497250270371e-05, -7.005910947991202e-05...   \n",
       "emitX  [1.991647336683658e-06, 1.9916621934716185e-06...   \n",
       "emitY  [1.991647336683658e-06, 1.9916621934716185e-06...   \n",
       "\n",
       "                                       intensity_4.58e10  \\\n",
       "meanX  [7.274658206498902e-06, 4.669449023148994e-06,...   \n",
       "meanY  [3.3468096125377744e-05, -7.88705082757712e-05...   \n",
       "emitX  [1.997555335744227e-06, 1.997548327708131e-06,...   \n",
       "emitY  [1.997555335744227e-06, 1.997548327708131e-06,...   \n",
       "\n",
       "                                       intensity_4.79e10  \\\n",
       "meanX  [-4.307754642999771e-06, -1.8783730309820986e-...   \n",
       "meanY  [5.055566265311898e-05, -6.449587604382148e-05...   \n",
       "emitX  [1.9796624949044533e-06, 1.979662879015064e-06...   \n",
       "emitY  [1.9796624949044533e-06, 1.979662879015064e-06...   \n",
       "\n",
       "                                       intensity_5.00e10  \n",
       "meanX  [1.1642957148281597e-06, 4.259807361085845e-06...  \n",
       "meanY  [3.89557566058721e-05, -7.530844556441488e-05,...  \n",
       "emitX  [1.976238027321606e-06, 1.976224619689657e-06,...  \n",
       "emitY  [1.976238027321606e-06, 1.976224619689657e-06,...  \n",
       "\n",
       "[4 rows x 25 columns]"
      ]
     },
     "execution_count": 10,
     "metadata": {},
     "output_type": "execute_result"
    }
   ],
   "source": [
    "df"
   ]
  },
  {
   "cell_type": "markdown",
   "metadata": {},
   "source": [
    "### Plot the FFT for each intensity"
   ]
  },
  {
   "cell_type": "code",
   "execution_count": 52,
   "metadata": {},
   "outputs": [
    {
     "name": "stdout",
     "output_type": "stream",
     "text": [
      "tune freq [0.17990875]\n"
     ]
    },
    {
     "data": {
      "image/png": "[encoded data removed]",
      "text/plain": [
       "<Figure size 576x504 with 1 Axes>"
      ]
     },
     "metadata": {
      "needs_background": "light"
     },
     "output_type": "display_data"
    }
   ],
   "source": [
    "for intensity in intensity_scan[1:2]:\n",
    "\n",
    "    fig, ax = plt.subplots()\n",
    "    \n",
    "    try:\n",
    "        meanY_temp = df[f'intensity_{intensity/1e10:.2f}e10']['meanY']\n",
    "        fft = np.fft.fft(meanY_temp)\n",
    "        n = meanY_temp.size\n",
    "        freq = np.fft.fftfreq(n)\n",
    "        \n",
    "        # cmpt tune\n",
    "        a = np.abs(fft[:n//2])\n",
    "        tune_freq=find_tune(a) \n",
    "        \n",
    "        ax.plot(freq[:n//2], np.abs(fft[:n//2]*1/n), '.-', c='k')\n",
    "        ax.set_xlim(0.1785,0.182)\n",
    "        \n",
    "        ax.vlines(freq[:n//2][tune_freq], 0, 0.000002, lw=3, ls='--', color='m', label='Coherent tune') # plot tune\n",
    "        print(f'tune freq {freq[:n//2][tune_freq]}')\n",
    "    except OSError as err:\n",
    "        print(\"OS error: {0}\".format(err))\n",
    "\n",
    "    ax.set_xlabel('Qy')\n",
    "    ax.set_ylabel('Amplitude [a.u.]')\n",
    "\n",
    "\n",
    "    #plt.xticks(rotation=15)\n",
    "\n",
    "    #ax.tick_params(axis='both', which='both', direction='in', length=5, width=2)\n",
    "    #ax.set_xlim(0.1785, 0.181)\n",
    "    #ax.set_ylim(0, 20000) #33000\n",
    "\n",
    "    ax.set_title(f'Intensity {intensity/1e10:.2f}e10')\n",
    "\n",
    "    ax.grid(linestyle='dashed')\n",
    "    ax.legend(loc=1)\n",
    "\n",
    "\n",
    "    savefig = False\n",
    "    if savefig:\n",
    "        plt.savefig(f'output/fft_{study_name}_intensity{intensity/1e10:.2f}e10.png', bbox_inches='tight')"
   ]
  },
  {
   "cell_type": "markdown",
   "metadata": {},
   "source": [
    "### Plot the PSD for each intensity value"
   ]
  },
  {
   "cell_type": "code",
   "execution_count": 57,
   "metadata": {},
   "outputs": [
    {
     "name": "stdout",
     "output_type": "stream",
     "text": [
      "sampling ratio Df=0.3309287886438057\n",
      "tune freq [0.17990875]\n"
     ]
    },
    {
     "data": {
      "image/png": "[encoded data removed]",
      "text/plain": [
       "<Figure size 576x504 with 1 Axes>"
      ]
     },
     "metadata": {
      "needs_background": "light"
     },
     "output_type": "display_data"
    }
   ],
   "source": [
    "for intensity in intensity_scan[1:2]:\n",
    "\n",
    "    fig, ax = plt.subplots()\n",
    "    \n",
    "    meanY_temp = df[f'intensity_{intensity/1e10:.2f}e10']['meanY']\n",
    "    fft = np.fft.fft(meanY_temp)\n",
    "    n = meanY_temp.size\n",
    "    freq = np.fft.fftfreq(n)\n",
    "        \n",
    "    # cmpt psd\n",
    "    freq_psd, psd = cmpt_psd(n_turns, frev, fft)\n",
    "    ax.plot(np.fft.fftshift(freq_psd)/frev, np.fft.fftshift(psd),'.-', c='k')\n",
    "    \n",
    "    # cmpt tune\n",
    "    a = np.abs(fft[:n//2])\n",
    "    tune_freq=find_tune(a) \n",
    "        \n",
    "    #ax.plot(freq[:n//2], np.abs(fft[:n//2]*1/n), '.-', c='k')\n",
    "        \n",
    "    ax.vlines(freq[:n//2][tune_freq], 0, 0.000002, lw=3, ls='--', color='m', label='Coherent tune') # plot tune\n",
    "    print(f'tune freq {freq[:n//2][tune_freq]}') \n",
    "    \n",
    " \n",
    "    ax.set_title(f'Intensity {intensity/1e10:.2f}e10')\n",
    "\n",
    "    ax.set_ylim(1e-16, 1e-7)\n",
    "    ax.set_xlim(0.1785,0.182)\n",
    "    \n",
    "    \n",
    "    # styling\n",
    "    ax.grid(linestyle='--')\n",
    "\n",
    "    ax.set_yscale('log')\n",
    "\n",
    "    ax.set_xlabel(r'$\\mathrm{Q_y}$')\n",
    "    ax.set_ylabel(r'$\\mathrm{S_y \\ [rad^2/Q_y]}$') # not entirely sure, discuss it with Hannes.\n",
    "    ax.grid(linestyle='dashed')\n",
    "\n",
    "    ax.legend(loc=1)\n",
    "\n",
    "\n",
    "    savefig = False\n",
    "    if savefig:\n",
    "        plt.savefig(f'output/psd_{study_name}_intensity{intensity/1e10:.2f}e10.png', bbox_inches='tight')"
   ]
  },
  {
   "cell_type": "code",
   "execution_count": null,
   "metadata": {},
   "outputs": [],
   "source": []
  },
  {
   "cell_type": "code",
   "execution_count": null,
   "metadata": {},
   "outputs": [],
   "source": []
  },
  {
   "cell_type": "code",
   "execution_count": null,
   "metadata": {},
   "outputs": [],
   "source": []
  },
  {
   "cell_type": "code",
   "execution_count": null,
   "metadata": {},
   "outputs": [],
   "source": []
  },
  {
   "cell_type": "code",
   "execution_count": null,
   "metadata": {},
   "outputs": [],
   "source": []
  },
  {
   "cell_type": "code",
   "execution_count": null,
   "metadata": {},
   "outputs": [],
   "source": []
  },
  {
   "cell_type": "code",
   "execution_count": null,
   "metadata": {},
   "outputs": [],
   "source": []
  },
  {
   "cell_type": "code",
   "execution_count": 92,
   "metadata": {},
   "outputs": [],
   "source": [
    "# Load the initial bunch to compute the initial Jx,Jy\n",
    "bunch = pickle.load(open(f'{path2data}{study_name}/bunch2', 'rb'))\n"
   ]
  },
  {
   "cell_type": "code",
   "execution_count": 93,
   "metadata": {},
   "outputs": [
    {
     "name": "stdout",
     "output_type": "stream",
     "text": [
      "rms(Jx)=7.075292343324879e-09 m\n",
      "rms(Jy)=6.94837449250389e-09 m\n"
     ]
    }
   ],
   "source": [
    "\n",
    "# Optics at the start of the lattice\n",
    "beta_y = 73.81671646\n",
    "beta_x = 30.31164764\n",
    "alpha_y = 0\n",
    "alpha_x = 0\n",
    "\n",
    "# Coordinates\n",
    "x, px = bunch.x, bunch.xp\n",
    "y, py =  bunch.y, bunch.yp\n",
    "\n",
    "# Normalised coordinates \n",
    "x_n, px_n = cmpt_normalised_coordinates(x, px, beta_x, alpha_x)\n",
    "y_n, py_n = cmpt_normalised_coordinates(y, py, beta_y, alpha_y)\n",
    "\n",
    "\n",
    "# Compute actions\n",
    "Jx_init = cmpt_actions(x_n, px_n)\n",
    "Jy_init = cmpt_actions(y_n, py_n)\n",
    "\n",
    "\n",
    "rms_Jx_init = np.std(Jx_init)\n",
    "rms_Jy_init = np.std(Jy_init)\n",
    "\n",
    "print(f'rms(Jx)={rms_Jx_init} m')\n",
    "print(f'rms(Jy)={rms_Jy_init} m')"
   ]
  },
  {
   "cell_type": "code",
   "execution_count": 94,
   "metadata": {},
   "outputs": [],
   "source": [
    "expected_DQ = amplitude_detuning_y(Jx_init, Jy_init, a_yy, a_xy)"
   ]
  },
  {
   "cell_type": "code",
   "execution_count": 95,
   "metadata": {},
   "outputs": [
    {
     "name": "stdout",
     "output_type": "stream",
     "text": [
      "8.490350811989856e-05\n"
     ]
    }
   ],
   "source": [
    "rms_expected_DQ = rms_amplitude_detuning_y(Jy_init, Jx_init, ayy, axy)\n",
    "print(rms_expected_DQ)"
   ]
  },
  {
   "cell_type": "code",
   "execution_count": 98,
   "metadata": {},
   "outputs": [],
   "source": [
    "# Compute the coherent tune shift from impedance"
   ]
  },
  {
   "cell_type": "code",
   "execution_count": null,
   "metadata": {},
   "outputs": [],
   "source": []
  },
  {
   "cell_type": "code",
   "execution_count": null,
   "metadata": {},
   "outputs": [],
   "source": []
  },
  {
   "cell_type": "code",
   "execution_count": 100,
   "metadata": {},
   "outputs": [
    {
     "data": {
      "image/png": "[encoded data removed]",
      "text/plain": [
       "<Figure size 576x504 with 1 Axes>"
      ]
     },
     "metadata": {
      "needs_background": "light"
     },
     "output_type": "display_data"
    }
   ],
   "source": [
    "plt.plot(freq[:n//2], np.abs(fft[:n//2]*1/n), '.-')\n",
    "\n",
    "plt.vlines(0.18, 0, 0.000002, color='c')\n",
    "plt.vlines(0.18+rms_expected_DQ, 0, 0.000002, color='c')\n",
    "plt.vlines(0.18+np.max(expected_DQ), 0, 0.000002, color='c')\n",
    "plt.vlines(0.18-4e-4 , 0, 0.000002, color='r')\n",
    "\n",
    "plt.xlim(0.18-np.max(expected_DQ),0.182)\n",
    "#plt.ylim(0,0.00001)\n",
    "plt.grid(linestyle='--')"
   ]
  },
  {
   "cell_type": "code",
   "execution_count": null,
   "metadata": {},
   "outputs": [],
   "source": []
  }
 ],
 "metadata": {
  "kernelspec": {
   "display_name": "Python 3",
   "language": "python",
   "name": "python3"
  },
  "language_info": {
   "codemirror_mode": {
    "name": "ipython",
    "version": 3
   },
   "file_extension": ".py",
   "mimetype": "text/x-python",
   "name": "python",
   "nbconvert_exporter": "python",
   "pygments_lexer": "ipython3",
   "version": "3.7.6"
  }
 },
 "nbformat": 4,
 "nbformat_minor": 4
}
